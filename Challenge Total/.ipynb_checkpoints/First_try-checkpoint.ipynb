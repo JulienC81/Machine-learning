{
 "cells": [
  {
   "cell_type": "code",
   "execution_count": 76,
   "metadata": {},
   "outputs": [],
   "source": [
    "import numpy as np\n",
    "import pandas as pd\n",
    "import matplotlib.pyplot as plt\n",
    "import seaborn as sns\n",
    "from sklearn.svm import SVR\n",
    "from sklearn.multioutput import MultiOutputRegressor\n",
    "%matplotlib inline"
   ]
  },
  {
   "cell_type": "code",
   "execution_count": 77,
   "metadata": {
    "scrolled": true
   },
   "outputs": [
    {
     "data": {
      "text/html": [
       "<div>\n",
       "<style scoped>\n",
       "    .dataframe tbody tr th:only-of-type {\n",
       "        vertical-align: middle;\n",
       "    }\n",
       "\n",
       "    .dataframe tbody tr th {\n",
       "        vertical-align: top;\n",
       "    }\n",
       "\n",
       "    .dataframe thead th {\n",
       "        text-align: right;\n",
       "    }\n",
       "</style>\n",
       "<table border=\"1\" class=\"dataframe\">\n",
       "  <thead>\n",
       "    <tr style=\"text-align: right;\">\n",
       "      <th></th>\n",
       "      <th>API</th>\n",
       "      <th>Surf_X</th>\n",
       "      <th>Surf_Y</th>\n",
       "      <th>Date_Drilling</th>\n",
       "      <th>Date_Completion</th>\n",
       "      <th>Date_Production</th>\n",
       "      <th>Lateral_Length</th>\n",
       "      <th>Depth_TVD_PPLS</th>\n",
       "      <th>Erosion_PPLS</th>\n",
       "      <th>Pressure_PPLS</th>\n",
       "      <th>...</th>\n",
       "      <th>Min_Rate_Slurry</th>\n",
       "      <th>ShutInPressure_Fil</th>\n",
       "      <th>ShutInPressure_Initial</th>\n",
       "      <th>ISIP</th>\n",
       "      <th>Shot_Density</th>\n",
       "      <th>Shot_Total</th>\n",
       "      <th>Proppant_per_ft</th>\n",
       "      <th>Stage_Spacing</th>\n",
       "      <th>GasCum360</th>\n",
       "      <th>OilCum360</th>\n",
       "    </tr>\n",
       "  </thead>\n",
       "  <tbody>\n",
       "    <tr>\n",
       "      <th>0</th>\n",
       "      <td>633.0</td>\n",
       "      <td>0.201275</td>\n",
       "      <td>-0.577329</td>\n",
       "      <td>2013-06-23</td>\n",
       "      <td>2013-10-26</td>\n",
       "      <td>2014-10-01</td>\n",
       "      <td>-0.694826</td>\n",
       "      <td>0.641631</td>\n",
       "      <td>-0.356227</td>\n",
       "      <td>1.410748</td>\n",
       "      <td>...</td>\n",
       "      <td>0.667402</td>\n",
       "      <td>NaN</td>\n",
       "      <td>-0.740473</td>\n",
       "      <td>0.131374</td>\n",
       "      <td>0.187082</td>\n",
       "      <td>2.409201</td>\n",
       "      <td>0.160140</td>\n",
       "      <td>-0.710739</td>\n",
       "      <td>NaN</td>\n",
       "      <td>NaN</td>\n",
       "    </tr>\n",
       "    <tr>\n",
       "      <th>1</th>\n",
       "      <td>587.0</td>\n",
       "      <td>0.222609</td>\n",
       "      <td>0.670307</td>\n",
       "      <td>2012-02-06</td>\n",
       "      <td>2012-03-07</td>\n",
       "      <td>2013-05-08</td>\n",
       "      <td>-0.479516</td>\n",
       "      <td>-1.377997</td>\n",
       "      <td>-1.812483</td>\n",
       "      <td>1.605136</td>\n",
       "      <td>...</td>\n",
       "      <td>0.285738</td>\n",
       "      <td>-0.919600</td>\n",
       "      <td>-1.103957</td>\n",
       "      <td>-1.282464</td>\n",
       "      <td>0.667339</td>\n",
       "      <td>-0.560750</td>\n",
       "      <td>-1.149666</td>\n",
       "      <td>2.085649</td>\n",
       "      <td>NaN</td>\n",
       "      <td>NaN</td>\n",
       "    </tr>\n",
       "    <tr>\n",
       "      <th>2</th>\n",
       "      <td>264.0</td>\n",
       "      <td>0.022105</td>\n",
       "      <td>0.404387</td>\n",
       "      <td>2013-05-19</td>\n",
       "      <td>2013-07-24</td>\n",
       "      <td>2013-06-10</td>\n",
       "      <td>0.310782</td>\n",
       "      <td>-0.775745</td>\n",
       "      <td>0.243462</td>\n",
       "      <td>-0.136014</td>\n",
       "      <td>...</td>\n",
       "      <td>0.459046</td>\n",
       "      <td>0.614126</td>\n",
       "      <td>1.029028</td>\n",
       "      <td>1.103339</td>\n",
       "      <td>-0.773433</td>\n",
       "      <td>0.924226</td>\n",
       "      <td>-0.585869</td>\n",
       "      <td>-0.137427</td>\n",
       "      <td>NaN</td>\n",
       "      <td>NaN</td>\n",
       "    </tr>\n",
       "    <tr>\n",
       "      <th>3</th>\n",
       "      <td>680.0</td>\n",
       "      <td>0.384359</td>\n",
       "      <td>0.372793</td>\n",
       "      <td>2012-08-18</td>\n",
       "      <td>2012-12-19</td>\n",
       "      <td>2013-12-06</td>\n",
       "      <td>-0.624508</td>\n",
       "      <td>-1.082974</td>\n",
       "      <td>-1.922374</td>\n",
       "      <td>1.443630</td>\n",
       "      <td>...</td>\n",
       "      <td>0.332100</td>\n",
       "      <td>-0.782232</td>\n",
       "      <td>0.450368</td>\n",
       "      <td>-0.136076</td>\n",
       "      <td>0.667339</td>\n",
       "      <td>-0.560750</td>\n",
       "      <td>0.595622</td>\n",
       "      <td>1.887260</td>\n",
       "      <td>NaN</td>\n",
       "      <td>NaN</td>\n",
       "    </tr>\n",
       "    <tr>\n",
       "      <th>4</th>\n",
       "      <td>443.0</td>\n",
       "      <td>-0.138513</td>\n",
       "      <td>0.408803</td>\n",
       "      <td>2013-11-09</td>\n",
       "      <td>2014-03-29</td>\n",
       "      <td>2014-11-05</td>\n",
       "      <td>0.338785</td>\n",
       "      <td>-0.616106</td>\n",
       "      <td>0.556826</td>\n",
       "      <td>-1.011425</td>\n",
       "      <td>...</td>\n",
       "      <td>0.323490</td>\n",
       "      <td>NaN</td>\n",
       "      <td>0.743256</td>\n",
       "      <td>0.835687</td>\n",
       "      <td>-1.253690</td>\n",
       "      <td>0.181738</td>\n",
       "      <td>0.151633</td>\n",
       "      <td>-0.216512</td>\n",
       "      <td>NaN</td>\n",
       "      <td>NaN</td>\n",
       "    </tr>\n",
       "  </tbody>\n",
       "</table>\n",
       "<p>5 rows × 47 columns</p>\n",
       "</div>"
      ],
      "text/plain": [
       "     API    Surf_X    Surf_Y Date_Drilling Date_Completion Date_Production  \\\n",
       "0  633.0  0.201275 -0.577329    2013-06-23      2013-10-26      2014-10-01   \n",
       "1  587.0  0.222609  0.670307    2012-02-06      2012-03-07      2013-05-08   \n",
       "2  264.0  0.022105  0.404387    2013-05-19      2013-07-24      2013-06-10   \n",
       "3  680.0  0.384359  0.372793    2012-08-18      2012-12-19      2013-12-06   \n",
       "4  443.0 -0.138513  0.408803    2013-11-09      2014-03-29      2014-11-05   \n",
       "\n",
       "   Lateral_Length  Depth_TVD_PPLS  Erosion_PPLS  Pressure_PPLS    ...      \\\n",
       "0       -0.694826        0.641631     -0.356227       1.410748    ...       \n",
       "1       -0.479516       -1.377997     -1.812483       1.605136    ...       \n",
       "2        0.310782       -0.775745      0.243462      -0.136014    ...       \n",
       "3       -0.624508       -1.082974     -1.922374       1.443630    ...       \n",
       "4        0.338785       -0.616106      0.556826      -1.011425    ...       \n",
       "\n",
       "   Min_Rate_Slurry  ShutInPressure_Fil  ShutInPressure_Initial      ISIP  \\\n",
       "0         0.667402                 NaN               -0.740473  0.131374   \n",
       "1         0.285738           -0.919600               -1.103957 -1.282464   \n",
       "2         0.459046            0.614126                1.029028  1.103339   \n",
       "3         0.332100           -0.782232                0.450368 -0.136076   \n",
       "4         0.323490                 NaN                0.743256  0.835687   \n",
       "\n",
       "   Shot_Density  Shot_Total  Proppant_per_ft  Stage_Spacing  GasCum360  \\\n",
       "0      0.187082    2.409201         0.160140      -0.710739        NaN   \n",
       "1      0.667339   -0.560750        -1.149666       2.085649        NaN   \n",
       "2     -0.773433    0.924226        -0.585869      -0.137427        NaN   \n",
       "3      0.667339   -0.560750         0.595622       1.887260        NaN   \n",
       "4     -1.253690    0.181738         0.151633      -0.216512        NaN   \n",
       "\n",
       "   OilCum360  \n",
       "0        NaN  \n",
       "1        NaN  \n",
       "2        NaN  \n",
       "3        NaN  \n",
       "4        NaN  \n",
       "\n",
       "[5 rows x 47 columns]"
      ]
     },
     "execution_count": 77,
     "metadata": {},
     "output_type": "execute_result"
    }
   ],
   "source": [
    "names = ['API','Surf_X','Surf_Y','Date_Drilling','Date_Completion','Date_Production','Lateral_Length','Depth_TVD_PPLS','Erosion_PPLS','Pressure_PPLS','TOC_PPLS','Vcarb_PPLS','Vsand_PPLS','Vclay_PPLS','PR_PPLS','YM_PPLS','RHOB_PPLS','Res_PPLS','GR_PPLS','DT_PPLS','DTs_PPLS','Temperature','Temp_Anomaly','S3Tect_PPLS','S3_contrast_PPLS','Heat_Flow','Zone','Nbr_Stages','Frac_Gradient','Proppant_Designed','Proppant_in_Formation','Avg_Breakdown_Pressure','Avg_Treating_Pressure','Max_Treating_pressure','Min_Treating_Pressure','Avg_Rate_Slurry','Max_Rate_Slurry','Min_Rate_Slurry','ShutInPressure_Fil','ShutInPressure_Initial','ISIP','Shot_Density','Shot_Total','Proppant_per_ft','Stage_Spacing','GasCum360','OilCum360']\n",
    "\n",
    "df_data = pd.read_csv('./TrainSample.csv', \n",
    "                        header = None, \n",
    "                        sep = ';',\n",
    "                        decimal = ',',\n",
    "                        names = names,\n",
    "                        skiprows = 1,\n",
    "                        na_filter = True,\n",
    "                        parse_dates = ['Date_Drilling','Date_Completion','Date_Production'],\n",
    "                        dtype = {col: np.float32 for col in names}\n",
    "                       )\n",
    "\n",
    "df_test = pd.read_csv('./TestSample.csv',\n",
    "                      header = None, \n",
    "                      sep = ';', \n",
    "                      decimal = ',', \n",
    "                      names = names,\n",
    "                      skiprows = 1,\n",
    "                      na_filter = True,\n",
    "                      parse_dates = ['Date_Drilling','Date_Completion','Date_Production'],\n",
    "                      dtype = {col: np.float32 for col in names}\n",
    "                     )\n",
    "\n",
    "#df_data.set_index('API')\n",
    "\n",
    "df_test.head(5)"
   ]
  },
  {
   "cell_type": "code",
   "execution_count": 78,
   "metadata": {},
   "outputs": [],
   "source": [
    "##Définition des labels\n",
    "\n",
    "y = {'GasCum360' : df_data['GasCum360'],\n",
    "     'OilCum360' : df_data['OilCum360']}\n",
    "\n",
    "df_targetgas = pd.DataFrame(y)"
   ]
  },
  {
   "cell_type": "code",
   "execution_count": 79,
   "metadata": {},
   "outputs": [],
   "source": [
    "cols_date = ['Date_Drilling','Date_Completion','Date_Production', 'GasCum360', 'OilCum360']\n",
    "\n",
    "df_data.drop(cols_date, 1, inplace=True)\n",
    "df_test.drop(cols_date, 1, inplace=True)"
   ]
  },
  {
   "cell_type": "code",
   "execution_count": 80,
   "metadata": {},
   "outputs": [],
   "source": [
    "cols_with_nan = ['Pressure_PPLS','Nbr_Stages','Frac_Gradient','Proppant_Designed','Proppant_in_Formation','Avg_Breakdown_Pressure','Avg_Treating_Pressure','Max_Treating_pressure','Min_Treating_Pressure','Avg_Rate_Slurry','Max_Rate_Slurry','Min_Rate_Slurry','ShutInPressure_Fil','ShutInPressure_Initial','ISIP','Shot_Density','Shot_Total','Proppant_per_ft','Stage_Spacing']\n",
    "\n",
    "df_data.drop(cols_with_nan, axis=1, inplace=True)\n",
    "df_test.drop(cols_with_nan, axis=1, inplace=True)"
   ]
  },
  {
   "cell_type": "code",
   "execution_count": 81,
   "metadata": {},
   "outputs": [],
   "source": [
    "from sklearn import cross_validation\n",
    "\n",
    "X_train, X_test, y_train, y_test = cross_validation.train_test_split(df_data, df_target, test_size=0.2, random_state=0)"
   ]
  },
  {
   "cell_type": "code",
   "execution_count": 82,
   "metadata": {},
   "outputs": [],
   "source": [
    "#x_testFixed = x_test.fillna(x_test.median())\n",
    "#x_trainFixed = x_train.fillna(x_train.median())"
   ]
  },
  {
   "cell_type": "raw",
   "metadata": {},
   "source": [
    "def correlation(data):\n",
    "    correlation = data.corr()\n",
    "    figure = plt.subplots( figsize =( 12 , 10 ) )\n",
    "    color_map = sns.diverging_palette( 220 , 10 , as_cmap = True )\n",
    "    figure = sns.heatmap(\n",
    "        correlation, \n",
    "        cmap = color_map, \n",
    "        annot = True, \n",
    "        annot_kws = { 'fontsize' : 2 }\n",
    "    )\n",
    "    \n",
    "correlation(df_train)"
   ]
  },
  {
   "cell_type": "code",
   "execution_count": 83,
   "metadata": {
    "scrolled": true
   },
   "outputs": [],
   "source": [
    "## Fit regression model\n",
    "\n",
    "regr_1 = MultiOutputRegressor(SVR(kernel=\"rbf\"))\n",
    "regr_1.fit(X_train, y_train)\n",
    "\n",
    "## Predict\n",
    "\n",
    "y_predictSVR = regr_1.predict(X_test)"
   ]
  },
  {
   "cell_type": "code",
   "execution_count": 84,
   "metadata": {},
   "outputs": [
    {
     "name": "stdout",
     "output_type": "stream",
     "text": [
      "0.765906711684 0.658412214434\n"
     ]
    }
   ],
   "source": [
    "## Metrics training\n",
    "\n",
    "from sklearn.metrics import mean_squared_error\n",
    "\n",
    "print(mean_squared_error(y_test, y_predictSVR),\n",
    "      regr_1.score(X_train, y_train))\n",
    "\n"
   ]
  },
  {
   "cell_type": "code",
   "execution_count": 85,
   "metadata": {},
   "outputs": [
    {
     "data": {
      "text/plain": [
       "0.66974809186773188"
      ]
     },
     "execution_count": 85,
     "metadata": {},
     "output_type": "execute_result"
    }
   ],
   "source": [
    "## Fit regression model\n",
    "\n",
    "regr_2 = MultiOutputRegressor(SVR(kernel=\"rbf\"))\n",
    "regr_2.fit(df_data, df_target)\n",
    "\n",
    "## Predict\n",
    "\n",
    "y_predictFin = regr_2.predict(df_test)\n",
    "\n",
    "regr_2.score(df_data, df_target)"
   ]
  },
  {
   "cell_type": "code",
   "execution_count": 86,
   "metadata": {},
   "outputs": [],
   "source": [
    "gascumpred = []\n",
    "oilcumpred = []\n",
    "\n",
    "gascumpred = [element[0] for element in y_predictFin]\n",
    "oilcumpred = [element[1] for element in y_predictFin]"
   ]
  },
  {
   "cell_type": "code",
   "execution_count": 87,
   "metadata": {},
   "outputs": [],
   "source": [
    "gascumpred_max = max(gascumpred)\n",
    "gascumpred_min = min(gascumpred)\n",
    "gascumpred_mean = np.mean(gascumpred)\n",
    "\n",
    "oilcumpred_max = max(oilcumpred)\n",
    "oilcumpred_min = min(oilcumpred)\n",
    "oilcumpred_mean = np.mean(oilcumpred)"
   ]
  },
  {
   "cell_type": "code",
   "execution_count": 97,
   "metadata": {},
   "outputs": [
    {
     "name": "stdout",
     "output_type": "stream",
     "text": [
      "-0.166587304404 -0.149951432711\n"
     ]
    }
   ],
   "source": [
    "print(gascumpred_mean, oilcumpred_mean)"
   ]
  },
  {
   "cell_type": "code",
   "execution_count": 89,
   "metadata": {},
   "outputs": [
    {
     "data": {
      "text/plain": [
       "0.36646252385990608"
      ]
     },
     "execution_count": 89,
     "metadata": {},
     "output_type": "execute_result"
    }
   ],
   "source": [
    "(gascumpred_max - gascumpred_min) / 4"
   ]
  },
  {
   "cell_type": "code",
   "execution_count": 90,
   "metadata": {},
   "outputs": [],
   "source": [
    "GasCum360_inf = gascumpred - abs(gascumpred_mean)\n",
    "GasCum360_sup = gascumpred + abs(gascumpred_mean)\n",
    "\n",
    "OilCum360_inf = oilcumpred - abs(oilcumpred_mean)\n",
    "OilCum360_sup = oilcumpred + abs(oilcumpred_mean)\n"
   ]
  },
  {
   "cell_type": "code",
   "execution_count": 91,
   "metadata": {},
   "outputs": [
    {
     "name": "stdout",
     "output_type": "stream",
     "text": [
      "[-0.87308519 -0.64517337 -0.2154728  -0.41082498 -0.02020559 -0.40168907\n",
      " -0.57212441 -0.42795879 -0.29498124 -0.13096261] [-0.53991058 -0.31199876  0.11770181 -0.07765037  0.31296902 -0.06851446\n",
      " -0.2389498  -0.09478418  0.03819337  0.202212  ]\n"
     ]
    }
   ],
   "source": [
    "print(GasCum360_inf[:10], GasCum360_sup[:10])"
   ]
  },
  {
   "cell_type": "code",
   "execution_count": 92,
   "metadata": {},
   "outputs": [
    {
     "data": {
      "text/plain": [
       "<function ndarray.tolist>"
      ]
     },
     "execution_count": 92,
     "metadata": {},
     "output_type": "execute_result"
    }
   ],
   "source": [
    "GasCum360_inf.tolist\n",
    "GasCum360_sup.tolist\n",
    "\n",
    "OilCum360_inf.tolist\n",
    "OilCum360_sup.tolist"
   ]
  },
  {
   "cell_type": "code",
   "execution_count": 93,
   "metadata": {},
   "outputs": [],
   "source": [
    "## Output\n",
    "\n",
    "id_test = df_test['API'].values.tolist()\n",
    "\n",
    "output = pd.DataFrame({'API': id_test,\n",
    "                       'GasCum360_INF': GasCum360_inf,\n",
    "                       'GasCum360_SUP': GasCum360_sup,\n",
    "                       'OilCum360_INF': OilCum360_inf,\n",
    "                       'OilCum360_SUP': OilCum360_sup},\n",
    "                      index=id_test\n",
    "                     )\n",
    "\n",
    "output.head()\n",
    "\n",
    "output.to_csv('coche-julien-challenge-total.csv', index=False, sep= ';', decimal=',')"
   ]
  },
  {
   "cell_type": "code",
   "execution_count": 94,
   "metadata": {},
   "outputs": [
    {
     "data": {
      "text/plain": [
       "\"\\nRappport 1 :\\n\\nImportation correcte des données\\nDébut du travail exploratoire, affichage du head et description des données\\nBeaucoup de colonnes sont incomplètes => identification et élimination de ces colonnes\\nObservation des composantes corrélées.\\n\\nRapport 2 :\\n\\nElimination des colonnes incomplètes\\nExploration des données de sorties\\nChoix de l'algorithme - DecisienTreeRegressor / AdaBoost\\n\\nRapport 3 :\\n\\nFin elimination des colonnes incompletes\\nFin du formatage des données\\nDebut mise en place de la cross_validation\\nDebut mise en place des metrics\\n\""
      ]
     },
     "execution_count": 94,
     "metadata": {},
     "output_type": "execute_result"
    }
   ],
   "source": [
    "\"\"\"\n",
    "Rappport 1 :\n",
    "\n",
    "Importation correcte des données\n",
    "Début du travail exploratoire, affichage du head et description des données\n",
    "Beaucoup de colonnes sont incomplètes => identification et élimination de ces colonnes\n",
    "Observation des composantes corrélées.\n",
    "\n",
    "Rapport 2 :\n",
    "\n",
    "Elimination des colonnes incomplètes\n",
    "Exploration des données de sorties\n",
    "Choix de l'algorithme - DecisienTreeRegressor / AdaBoost\n",
    "\n",
    "Rapport 3 :\n",
    "\n",
    "Fin elimination des colonnes incompletes\n",
    "Fin du formatage des données\n",
    "Debut mise en place de la cross_validation\n",
    "Debut mise en place des metrics\n",
    "\"\"\""
   ]
  },
  {
   "cell_type": "code",
   "execution_count": 95,
   "metadata": {},
   "outputs": [
    {
     "data": {
      "text/html": [
       "<div>\n",
       "<style scoped>\n",
       "    .dataframe tbody tr th:only-of-type {\n",
       "        vertical-align: middle;\n",
       "    }\n",
       "\n",
       "    .dataframe tbody tr th {\n",
       "        vertical-align: top;\n",
       "    }\n",
       "\n",
       "    .dataframe thead th {\n",
       "        text-align: right;\n",
       "    }\n",
       "</style>\n",
       "<table border=\"1\" class=\"dataframe\">\n",
       "  <thead>\n",
       "    <tr style=\"text-align: right;\">\n",
       "      <th></th>\n",
       "      <th>API</th>\n",
       "      <th>GasCum360_INF</th>\n",
       "      <th>GasCum360_SUP</th>\n",
       "      <th>OilCum360_INF</th>\n",
       "      <th>OilCum360_SUP</th>\n",
       "    </tr>\n",
       "  </thead>\n",
       "  <tbody>\n",
       "    <tr>\n",
       "      <th>count</th>\n",
       "      <td>235.000000</td>\n",
       "      <td>235.000000</td>\n",
       "      <td>2.350000e+02</td>\n",
       "      <td>235.000000</td>\n",
       "      <td>2.350000e+02</td>\n",
       "    </tr>\n",
       "    <tr>\n",
       "      <th>mean</th>\n",
       "      <td>392.697872</td>\n",
       "      <td>-0.333175</td>\n",
       "      <td>-3.779483e-18</td>\n",
       "      <td>-0.299903</td>\n",
       "      <td>-1.889741e-18</td>\n",
       "    </tr>\n",
       "    <tr>\n",
       "      <th>std</th>\n",
       "      <td>231.284979</td>\n",
       "      <td>0.245196</td>\n",
       "      <td>2.451958e-01</td>\n",
       "      <td>0.235955</td>\n",
       "      <td>2.359553e-01</td>\n",
       "    </tr>\n",
       "    <tr>\n",
       "      <th>min</th>\n",
       "      <td>3.000000</td>\n",
       "      <td>-0.914609</td>\n",
       "      <td>-5.814339e-01</td>\n",
       "      <td>-0.796230</td>\n",
       "      <td>-4.963267e-01</td>\n",
       "    </tr>\n",
       "    <tr>\n",
       "      <th>25%</th>\n",
       "      <td>183.500000</td>\n",
       "      <td>-0.492394</td>\n",
       "      <td>-1.592194e-01</td>\n",
       "      <td>-0.443999</td>\n",
       "      <td>-1.440958e-01</td>\n",
       "    </tr>\n",
       "    <tr>\n",
       "      <th>50%</th>\n",
       "      <td>394.000000</td>\n",
       "      <td>-0.376774</td>\n",
       "      <td>-4.359909e-02</td>\n",
       "      <td>-0.318350</td>\n",
       "      <td>-1.844703e-02</td>\n",
       "    </tr>\n",
       "    <tr>\n",
       "      <th>75%</th>\n",
       "      <td>590.500000</td>\n",
       "      <td>-0.203591</td>\n",
       "      <td>1.295833e-01</td>\n",
       "      <td>-0.189777</td>\n",
       "      <td>1.101256e-01</td>\n",
       "    </tr>\n",
       "    <tr>\n",
       "      <th>max</th>\n",
       "      <td>786.000000</td>\n",
       "      <td>0.551242</td>\n",
       "      <td>8.844162e-01</td>\n",
       "      <td>0.619771</td>\n",
       "      <td>9.196739e-01</td>\n",
       "    </tr>\n",
       "  </tbody>\n",
       "</table>\n",
       "</div>"
      ],
      "text/plain": [
       "              API  GasCum360_INF  GasCum360_SUP  OilCum360_INF  OilCum360_SUP\n",
       "count  235.000000     235.000000   2.350000e+02     235.000000   2.350000e+02\n",
       "mean   392.697872      -0.333175  -3.779483e-18      -0.299903  -1.889741e-18\n",
       "std    231.284979       0.245196   2.451958e-01       0.235955   2.359553e-01\n",
       "min      3.000000      -0.914609  -5.814339e-01      -0.796230  -4.963267e-01\n",
       "25%    183.500000      -0.492394  -1.592194e-01      -0.443999  -1.440958e-01\n",
       "50%    394.000000      -0.376774  -4.359909e-02      -0.318350  -1.844703e-02\n",
       "75%    590.500000      -0.203591   1.295833e-01      -0.189777   1.101256e-01\n",
       "max    786.000000       0.551242   8.844162e-01       0.619771   9.196739e-01"
      ]
     },
     "execution_count": 95,
     "metadata": {},
     "output_type": "execute_result"
    }
   ],
   "source": [
    "output.describe()"
   ]
  },
  {
   "cell_type": "code",
   "execution_count": null,
   "metadata": {},
   "outputs": [],
   "source": []
  },
  {
   "cell_type": "code",
   "execution_count": null,
   "metadata": {},
   "outputs": [],
   "source": []
  }
 ],
 "metadata": {
  "anaconda-cloud": {},
  "kernelspec": {
   "display_name": "Python 3",
   "language": "python",
   "name": "python3"
  },
  "language_info": {
   "codemirror_mode": {
    "name": "ipython",
    "version": 3
   },
   "file_extension": ".py",
   "mimetype": "text/x-python",
   "name": "python",
   "nbconvert_exporter": "python",
   "pygments_lexer": "ipython3",
   "version": "3.5.2"
  }
 },
 "nbformat": 4,
 "nbformat_minor": 2
}
