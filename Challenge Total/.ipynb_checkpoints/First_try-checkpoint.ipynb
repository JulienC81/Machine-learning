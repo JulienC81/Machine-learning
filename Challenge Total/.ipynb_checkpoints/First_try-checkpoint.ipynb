{
 "cells": [
  {
   "cell_type": "code",
   "execution_count": 21,
   "metadata": {},
   "outputs": [],
   "source": [
    "import numpy as np\n",
    "import pandas as pd\n",
    "import matplotlib.pyplot as plt\n",
    "import seaborn as sns\n",
    "from sklearn.svm import SVR\n",
    "from sklearn.multioutput import MultiOutputRegressor\n",
    "from sklearn.model_selection import GridSearchCV\n",
    "%matplotlib inline"
   ]
  },
  {
   "cell_type": "code",
   "execution_count": 22,
   "metadata": {
    "scrolled": true
   },
   "outputs": [
    {
     "data": {
      "text/html": [
       "<div>\n",
       "<style scoped>\n",
       "    .dataframe tbody tr th:only-of-type {\n",
       "        vertical-align: middle;\n",
       "    }\n",
       "\n",
       "    .dataframe tbody tr th {\n",
       "        vertical-align: top;\n",
       "    }\n",
       "\n",
       "    .dataframe thead th {\n",
       "        text-align: right;\n",
       "    }\n",
       "</style>\n",
       "<table border=\"1\" class=\"dataframe\">\n",
       "  <thead>\n",
       "    <tr style=\"text-align: right;\">\n",
       "      <th></th>\n",
       "      <th>API</th>\n",
       "      <th>Surf_X</th>\n",
       "      <th>Surf_Y</th>\n",
       "      <th>Date_Drilling</th>\n",
       "      <th>Date_Completion</th>\n",
       "      <th>Date_Production</th>\n",
       "      <th>Lateral_Length</th>\n",
       "      <th>Depth_TVD_PPLS</th>\n",
       "      <th>Erosion_PPLS</th>\n",
       "      <th>Pressure_PPLS</th>\n",
       "      <th>...</th>\n",
       "      <th>Min_Rate_Slurry</th>\n",
       "      <th>ShutInPressure_Fil</th>\n",
       "      <th>ShutInPressure_Initial</th>\n",
       "      <th>ISIP</th>\n",
       "      <th>Shot_Density</th>\n",
       "      <th>Shot_Total</th>\n",
       "      <th>Proppant_per_ft</th>\n",
       "      <th>Stage_Spacing</th>\n",
       "      <th>GasCum360</th>\n",
       "      <th>OilCum360</th>\n",
       "    </tr>\n",
       "  </thead>\n",
       "  <tbody>\n",
       "    <tr>\n",
       "      <th>0</th>\n",
       "      <td>633.0</td>\n",
       "      <td>0.201275</td>\n",
       "      <td>-0.577329</td>\n",
       "      <td>2013-06-23</td>\n",
       "      <td>2013-10-26</td>\n",
       "      <td>2014-10-01</td>\n",
       "      <td>-0.694826</td>\n",
       "      <td>0.641631</td>\n",
       "      <td>-0.356227</td>\n",
       "      <td>1.410748</td>\n",
       "      <td>...</td>\n",
       "      <td>0.667402</td>\n",
       "      <td>NaN</td>\n",
       "      <td>-0.740473</td>\n",
       "      <td>0.131374</td>\n",
       "      <td>0.187082</td>\n",
       "      <td>2.409201</td>\n",
       "      <td>0.160140</td>\n",
       "      <td>-0.710739</td>\n",
       "      <td>NaN</td>\n",
       "      <td>NaN</td>\n",
       "    </tr>\n",
       "    <tr>\n",
       "      <th>1</th>\n",
       "      <td>587.0</td>\n",
       "      <td>0.222609</td>\n",
       "      <td>0.670307</td>\n",
       "      <td>2012-02-06</td>\n",
       "      <td>2012-03-07</td>\n",
       "      <td>2013-05-08</td>\n",
       "      <td>-0.479516</td>\n",
       "      <td>-1.377997</td>\n",
       "      <td>-1.812483</td>\n",
       "      <td>1.605136</td>\n",
       "      <td>...</td>\n",
       "      <td>0.285738</td>\n",
       "      <td>-0.919600</td>\n",
       "      <td>-1.103957</td>\n",
       "      <td>-1.282464</td>\n",
       "      <td>0.667339</td>\n",
       "      <td>-0.560750</td>\n",
       "      <td>-1.149666</td>\n",
       "      <td>2.085649</td>\n",
       "      <td>NaN</td>\n",
       "      <td>NaN</td>\n",
       "    </tr>\n",
       "    <tr>\n",
       "      <th>2</th>\n",
       "      <td>264.0</td>\n",
       "      <td>0.022105</td>\n",
       "      <td>0.404387</td>\n",
       "      <td>2013-05-19</td>\n",
       "      <td>2013-07-24</td>\n",
       "      <td>2013-06-10</td>\n",
       "      <td>0.310782</td>\n",
       "      <td>-0.775745</td>\n",
       "      <td>0.243462</td>\n",
       "      <td>-0.136014</td>\n",
       "      <td>...</td>\n",
       "      <td>0.459046</td>\n",
       "      <td>0.614126</td>\n",
       "      <td>1.029028</td>\n",
       "      <td>1.103339</td>\n",
       "      <td>-0.773433</td>\n",
       "      <td>0.924226</td>\n",
       "      <td>-0.585869</td>\n",
       "      <td>-0.137427</td>\n",
       "      <td>NaN</td>\n",
       "      <td>NaN</td>\n",
       "    </tr>\n",
       "    <tr>\n",
       "      <th>3</th>\n",
       "      <td>680.0</td>\n",
       "      <td>0.384359</td>\n",
       "      <td>0.372793</td>\n",
       "      <td>2012-08-18</td>\n",
       "      <td>2012-12-19</td>\n",
       "      <td>2013-12-06</td>\n",
       "      <td>-0.624508</td>\n",
       "      <td>-1.082974</td>\n",
       "      <td>-1.922374</td>\n",
       "      <td>1.443630</td>\n",
       "      <td>...</td>\n",
       "      <td>0.332100</td>\n",
       "      <td>-0.782232</td>\n",
       "      <td>0.450368</td>\n",
       "      <td>-0.136076</td>\n",
       "      <td>0.667339</td>\n",
       "      <td>-0.560750</td>\n",
       "      <td>0.595622</td>\n",
       "      <td>1.887260</td>\n",
       "      <td>NaN</td>\n",
       "      <td>NaN</td>\n",
       "    </tr>\n",
       "    <tr>\n",
       "      <th>4</th>\n",
       "      <td>443.0</td>\n",
       "      <td>-0.138513</td>\n",
       "      <td>0.408803</td>\n",
       "      <td>2013-11-09</td>\n",
       "      <td>2014-03-29</td>\n",
       "      <td>2014-11-05</td>\n",
       "      <td>0.338785</td>\n",
       "      <td>-0.616106</td>\n",
       "      <td>0.556826</td>\n",
       "      <td>-1.011425</td>\n",
       "      <td>...</td>\n",
       "      <td>0.323490</td>\n",
       "      <td>NaN</td>\n",
       "      <td>0.743256</td>\n",
       "      <td>0.835687</td>\n",
       "      <td>-1.253690</td>\n",
       "      <td>0.181738</td>\n",
       "      <td>0.151633</td>\n",
       "      <td>-0.216512</td>\n",
       "      <td>NaN</td>\n",
       "      <td>NaN</td>\n",
       "    </tr>\n",
       "  </tbody>\n",
       "</table>\n",
       "<p>5 rows × 47 columns</p>\n",
       "</div>"
      ],
      "text/plain": [
       "     API    Surf_X    Surf_Y Date_Drilling Date_Completion Date_Production  \\\n",
       "0  633.0  0.201275 -0.577329    2013-06-23      2013-10-26      2014-10-01   \n",
       "1  587.0  0.222609  0.670307    2012-02-06      2012-03-07      2013-05-08   \n",
       "2  264.0  0.022105  0.404387    2013-05-19      2013-07-24      2013-06-10   \n",
       "3  680.0  0.384359  0.372793    2012-08-18      2012-12-19      2013-12-06   \n",
       "4  443.0 -0.138513  0.408803    2013-11-09      2014-03-29      2014-11-05   \n",
       "\n",
       "   Lateral_Length  Depth_TVD_PPLS  Erosion_PPLS  Pressure_PPLS    ...      \\\n",
       "0       -0.694826        0.641631     -0.356227       1.410748    ...       \n",
       "1       -0.479516       -1.377997     -1.812483       1.605136    ...       \n",
       "2        0.310782       -0.775745      0.243462      -0.136014    ...       \n",
       "3       -0.624508       -1.082974     -1.922374       1.443630    ...       \n",
       "4        0.338785       -0.616106      0.556826      -1.011425    ...       \n",
       "\n",
       "   Min_Rate_Slurry  ShutInPressure_Fil  ShutInPressure_Initial      ISIP  \\\n",
       "0         0.667402                 NaN               -0.740473  0.131374   \n",
       "1         0.285738           -0.919600               -1.103957 -1.282464   \n",
       "2         0.459046            0.614126                1.029028  1.103339   \n",
       "3         0.332100           -0.782232                0.450368 -0.136076   \n",
       "4         0.323490                 NaN                0.743256  0.835687   \n",
       "\n",
       "   Shot_Density  Shot_Total  Proppant_per_ft  Stage_Spacing  GasCum360  \\\n",
       "0      0.187082    2.409201         0.160140      -0.710739        NaN   \n",
       "1      0.667339   -0.560750        -1.149666       2.085649        NaN   \n",
       "2     -0.773433    0.924226        -0.585869      -0.137427        NaN   \n",
       "3      0.667339   -0.560750         0.595622       1.887260        NaN   \n",
       "4     -1.253690    0.181738         0.151633      -0.216512        NaN   \n",
       "\n",
       "   OilCum360  \n",
       "0        NaN  \n",
       "1        NaN  \n",
       "2        NaN  \n",
       "3        NaN  \n",
       "4        NaN  \n",
       "\n",
       "[5 rows x 47 columns]"
      ]
     },
     "execution_count": 22,
     "metadata": {},
     "output_type": "execute_result"
    }
   ],
   "source": [
    "names = ['API','Surf_X','Surf_Y','Date_Drilling','Date_Completion','Date_Production','Lateral_Length','Depth_TVD_PPLS','Erosion_PPLS','Pressure_PPLS','TOC_PPLS','Vcarb_PPLS','Vsand_PPLS','Vclay_PPLS','PR_PPLS','YM_PPLS','RHOB_PPLS','Res_PPLS','GR_PPLS','DT_PPLS','DTs_PPLS','Temperature','Temp_Anomaly','S3Tect_PPLS','S3_contrast_PPLS','Heat_Flow','Zone','Nbr_Stages','Frac_Gradient','Proppant_Designed','Proppant_in_Formation','Avg_Breakdown_Pressure','Avg_Treating_Pressure','Max_Treating_pressure','Min_Treating_Pressure','Avg_Rate_Slurry','Max_Rate_Slurry','Min_Rate_Slurry','ShutInPressure_Fil','ShutInPressure_Initial','ISIP','Shot_Density','Shot_Total','Proppant_per_ft','Stage_Spacing','GasCum360','OilCum360']\n",
    "\n",
    "df_data = pd.read_csv('./TrainSample.csv', \n",
    "                        header = None, \n",
    "                        sep = ';',\n",
    "                        decimal = ',',\n",
    "                        names = names,\n",
    "                        skiprows = 1,\n",
    "                        na_filter = True,\n",
    "                        parse_dates = ['Date_Drilling','Date_Completion','Date_Production'],\n",
    "                        dtype = {col: np.float32 for col in names}\n",
    "                       )\n",
    "\n",
    "df_test = pd.read_csv('./TestSample.csv',\n",
    "                      header = None, \n",
    "                      sep = ';', \n",
    "                      decimal = ',', \n",
    "                      names = names,\n",
    "                      skiprows = 1,\n",
    "                      na_filter = True,\n",
    "                      parse_dates = ['Date_Drilling','Date_Completion','Date_Production'],\n",
    "                      dtype = {col: np.float32 for col in names}\n",
    "                     )\n",
    "\n",
    "#df_data.set_index('API')\n",
    "\n",
    "df_test.head(5)"
   ]
  },
  {
   "cell_type": "code",
   "execution_count": 23,
   "metadata": {},
   "outputs": [],
   "source": [
    "df_data[['Pressure_PPLS']] = df_data[['Pressure_PPLS']].fillna(df_data[['Pressure_PPLS']].mean())\n",
    "#x_trainFixed = x_train.fillna(x_train.mean())\n",
    "#df_data[['Pressure_PPLS']]"
   ]
  },
  {
   "cell_type": "raw",
   "metadata": {},
   "source": [
    "df_data[['Pressure_PPLS']].isnull().values.any()"
   ]
  },
  {
   "cell_type": "raw",
   "metadata": {},
   "source": [
    "df_data[['Nbr_Stages']].isnull().values.any()"
   ]
  },
  {
   "cell_type": "code",
   "execution_count": 24,
   "metadata": {},
   "outputs": [],
   "source": [
    "data_mean_gas = df_data[['GasCum360']].mean()\n",
    "data_mean_oil = df_data[['OilCum360']].mean()"
   ]
  },
  {
   "cell_type": "code",
   "execution_count": 25,
   "metadata": {},
   "outputs": [],
   "source": [
    "##Définition des labels\n",
    "\n",
    "y_gas = {'GasCum360' : df_data['GasCum360']}\n",
    "y_oil = {'OilCum360' : df_data['OilCum360']}\n",
    "\n",
    "df_target_gas = pd.DataFrame(y_gas)\n",
    "df_target_oil = pd.DataFrame(y_oil)"
   ]
  },
  {
   "cell_type": "code",
   "execution_count": 26,
   "metadata": {},
   "outputs": [],
   "source": [
    "cols_date = ['Date_Drilling','Date_Completion','Date_Production', 'GasCum360', 'OilCum360']\n",
    "\n",
    "df_data.drop(cols_date, 1, inplace=True)\n",
    "df_test.drop(cols_date, 1, inplace=True)"
   ]
  },
  {
   "cell_type": "code",
   "execution_count": 27,
   "metadata": {},
   "outputs": [],
   "source": [
    "cols_with_nan = ['Pressure_PPLS','Nbr_Stages','Frac_Gradient','Proppant_Designed','Proppant_in_Formation','Avg_Breakdown_Pressure','Avg_Treating_Pressure','Max_Treating_pressure','Min_Treating_Pressure','Avg_Rate_Slurry','Max_Rate_Slurry','Min_Rate_Slurry','ShutInPressure_Fil','ShutInPressure_Initial','ISIP','Shot_Density','Shot_Total','Proppant_per_ft','Stage_Spacing']\n",
    "\n",
    "df_data.drop(cols_with_nan, axis=1, inplace=True)\n",
    "df_test.drop(cols_with_nan, axis=1, inplace=True)"
   ]
  },
  {
   "cell_type": "code",
   "execution_count": 28,
   "metadata": {},
   "outputs": [],
   "source": [
    "from sklearn import cross_validation\n",
    "\n",
    "X_train, X_test, y_train_gas, y_test_gas = cross_validation.train_test_split(df_data, df_target_gas, test_size=0.2, random_state=0)\n",
    "X_train, X_test, y_train_oil, y_test_oil = cross_validation.train_test_split(df_data, df_target_oil, test_size=0.2, random_state=0)"
   ]
  },
  {
   "cell_type": "code",
   "execution_count": 29,
   "metadata": {},
   "outputs": [],
   "source": [
    "#x_testFixed = x_test.fillna(x_test.median())\n",
    "#x_trainFixed = x_train.fillna(x_train.median())"
   ]
  },
  {
   "cell_type": "raw",
   "metadata": {},
   "source": [
    "def correlation(data):\n",
    "    correlation = data.corr()\n",
    "    figure = plt.subplots( figsize =( 12 , 10 ) )\n",
    "    color_map = sns.diverging_palette( 220 , 10 , as_cmap = True )\n",
    "    figure = sns.heatmap(\n",
    "        correlation, \n",
    "        cmap = color_map, \n",
    "        annot = True, \n",
    "        annot_kws = { 'fontsize' : 2 }\n",
    "    )\n",
    "    \n",
    "correlation(df_train)"
   ]
  },
  {
   "cell_type": "raw",
   "metadata": {},
   "source": [
    "## Recherche des paramètres"
   ]
  },
  {
   "cell_type": "code",
   "execution_count": 30,
   "metadata": {},
   "outputs": [],
   "source": [
    "regr_gas = SVR(C=8, epsilon=0.17)\n",
    "regr_oil = SVR(C=3, epsilon=0.17)"
   ]
  },
  {
   "cell_type": "code",
   "execution_count": 31,
   "metadata": {},
   "outputs": [
    {
     "data": {
      "text/plain": [
       "pandas.core.frame.DataFrame"
      ]
     },
     "execution_count": 31,
     "metadata": {},
     "output_type": "execute_result"
    }
   ],
   "source": [
    "type(X_train)"
   ]
  },
  {
   "cell_type": "code",
   "execution_count": 32,
   "metadata": {
    "scrolled": true
   },
   "outputs": [],
   "source": [
    "## Fit regression model\n",
    "\n",
    "clf_gas = MultiOutputRegressor(regr_gas)\n",
    "clf_oil = MultiOutputRegressor(regr_oil)\n",
    "\n",
    "clf_gas.fit(X_train, y_train_gas)\n",
    "clf_oil.fit(X_train, y_train_oil)\n",
    "\n",
    "## Predict\n",
    "\n",
    "y_predictSVR_gas = clf_gas.predict(X_test)\n",
    "y_predictSVR_oil = clf_oil.predict(X_test)"
   ]
  },
  {
   "cell_type": "code",
   "execution_count": 33,
   "metadata": {},
   "outputs": [],
   "source": [
    "## Fit regression model\n",
    "\n",
    "clf_gas.fit(df_data, df_target_gas)\n",
    "clf_oil.fit(df_data, df_target_oil)\n",
    "\n",
    "## Predict\n",
    "\n",
    "y_predictFin_gas = clf_gas.predict(df_test)\n",
    "y_predictFin_oil = clf_oil.predict(df_test)"
   ]
  },
  {
   "cell_type": "code",
   "execution_count": 34,
   "metadata": {},
   "outputs": [
    {
     "data": {
      "text/plain": [
       "<function ndarray.tolist>"
      ]
     },
     "execution_count": 34,
     "metadata": {},
     "output_type": "execute_result"
    }
   ],
   "source": [
    "gascumpred = []\n",
    "oilcumpred = []\n",
    "\n",
    "gascumpred = [element[0] for element in y_predictFin_gas]\n",
    "oilcumpred = [element[0] for element in y_predictFin_oil]\n",
    "\n",
    "gascumpred_max = max(gascumpred)\n",
    "gascumpred_min = min(gascumpred)\n",
    "gascumpred_mean = np.mean(gascumpred)\n",
    "\n",
    "oilcumpred_max = max(oilcumpred)\n",
    "oilcumpred_min = min(oilcumpred)\n",
    "oilcumpred_mean = np.mean(oilcumpred)\n",
    "\n",
    "GasCum360_inf = gascumpred - abs(gascumpred_mean) * 100\n",
    "GasCum360_sup = gascumpred + abs(gascumpred_mean) * 10\n",
    "\n",
    "OilCum360_inf = oilcumpred - abs(oilcumpred_mean) * 100\n",
    "OilCum360_sup = oilcumpred + abs(oilcumpred_mean) * 10\n",
    "\n",
    "GasCum360_inf.tolist\n",
    "GasCum360_sup.tolist\n",
    "\n",
    "OilCum360_inf.tolist\n",
    "OilCum360_sup.tolist"
   ]
  },
  {
   "cell_type": "code",
   "execution_count": 35,
   "metadata": {},
   "outputs": [
    {
     "name": "stdout",
     "output_type": "stream",
     "text": [
      "Moyenne : 0.6517083189114212\n",
      "Moyenne au carré : 0.7466439668759762\n",
      "Coeff corr : 0.9747717945124521\n"
     ]
    }
   ],
   "source": [
    "## Metrics training\n",
    "\n",
    "from sklearn.metrics import mean_absolute_error\n",
    "from sklearn.metrics import mean_squared_error\n",
    "from sklearn.metrics import average_precision_score\n",
    "\n",
    "retour = 'Moyenne : {}\\nMoyenne au carré : {}\\nCoeff corr : {}'.format(mean_absolute_error(y_test_gas, y_predictSVR_gas),\n",
    "                                                                       mean_squared_error(y_test_gas, y_predictSVR_gas),\n",
    "                                                                       clf_gas.score(X_train, y_train_gas)\n",
    "                                                                      )\n",
    "\n",
    "print(retour)"
   ]
  },
  {
   "cell_type": "code",
   "execution_count": 36,
   "metadata": {},
   "outputs": [
    {
     "name": "stdout",
     "output_type": "stream",
     "text": [
      "La valeur de la moyenne au carré est : 0.789580229345642\n",
      "La valeur du coefficient de corrélation est : 0.9163215194167106\n",
      "La surface définie est égale à : 0.11130005705189056\n"
     ]
    }
   ],
   "source": [
    "## Metrics training\n",
    "\n",
    "from sklearn.metrics import mean_squared_error\n",
    "\n",
    "retour = 'La valeur de la moyenne au carré est : {}\\nLa valeur du coefficient de corrélation est : {}\\nLa surface définie est égale à : {}'.format(mean_squared_error(y_test_oil, y_predictSVR_oil), clf_oil.score(X_train, y_train_oil), abs(gascumpred_mean)*abs(oilcumpred_mean)*1000)\n",
    "\n",
    "print(retour)"
   ]
  },
  {
   "cell_type": "code",
   "execution_count": 37,
   "metadata": {},
   "outputs": [
    {
     "name": "stdout",
     "output_type": "stream",
     "text": [
      "Ecart entre les valeurs réelles et les valeurs déterminées gaz : GasCum360    0.000278\n",
      "dtype: float32\n",
      "Ecart entre les valeurs réelles et les valeurs déterminées oil : OilCum360    0.032709\n",
      "dtype: float32\n"
     ]
    }
   ],
   "source": [
    "diff_mean_gas = abs(gascumpred_mean - data_mean_gas)\n",
    "diff_mean_oil = abs(oilcumpred_mean - data_mean_oil)\n",
    "\n",
    "print('Ecart entre les valeurs réelles et les valeurs déterminées gaz : {}\\nEcart entre les valeurs réelles et les valeurs déterminées oil : {}'.format(diff_mean_gas,diff_mean_oil))"
   ]
  },
  {
   "cell_type": "code",
   "execution_count": 38,
   "metadata": {},
   "outputs": [
    {
     "name": "stdout",
     "output_type": "stream",
     "text": [
      "[[-0.62600164]\n",
      " [-0.35220313]\n",
      " [ 0.04821062]\n",
      " [-0.17523736]\n",
      " [ 0.24870498]\n",
      " [-0.06694063]\n",
      " [-0.25725805]\n",
      " [-0.09081461]\n",
      " [ 0.01633998]\n",
      " [ 0.14632993]]      GasCum360\n",
      "299  -0.671741\n",
      "96   -0.796039\n",
      "411   1.607541\n",
      "160  -0.905786\n",
      "142  -0.929138\n",
      "171   1.056594\n",
      "49   -0.044482\n",
      "52   -0.029180\n",
      "74   -0.670370\n",
      "26   -1.017546\n"
     ]
    }
   ],
   "source": [
    "print(y_predictFin_gas[:10], y_train_gas[:10])"
   ]
  },
  {
   "cell_type": "code",
   "execution_count": 39,
   "metadata": {},
   "outputs": [
    {
     "name": "stdout",
     "output_type": "stream",
     "text": [
      "[[ 0.04031609]\n",
      " [-0.28681221]\n",
      " [-0.32648475]\n",
      " [-0.40182952]\n",
      " [-0.10524764]\n",
      " [-0.07572537]\n",
      " [ 0.0766185 ]\n",
      " [-0.05280406]\n",
      " [ 0.05911902]\n",
      " [ 0.00218421]]      OilCum360\n",
      "299   0.705780\n",
      "96    0.159181\n",
      "411   0.093463\n",
      "160   0.723473\n",
      "142   0.862852\n",
      "171  -0.846812\n",
      "49   -0.736861\n",
      "52   -0.384889\n",
      "74   -0.542234\n",
      "26   -0.202901\n"
     ]
    }
   ],
   "source": [
    "print(y_predictFin_oil[:10], y_train_oil[:10])"
   ]
  },
  {
   "cell_type": "code",
   "execution_count": 42,
   "metadata": {},
   "outputs": [],
   "source": [
    "## Output\n",
    "\n",
    "id_test = df_test['API'].values.tolist()\n",
    "\n",
    "output = pd.DataFrame({'API': id_test,\n",
    "                       'GasCum360_INF': GasCum360_inf,\n",
    "                       'GasCum360_SUP': GasCum360_sup,\n",
    "                       'OilCum360_INF': OilCum360_inf,\n",
    "                       'OilCum360_SUP': OilCum360_sup},\n",
    "                      index=id_test\n",
    "                     )\n",
    "\n",
    "output.head()\n",
    "\n",
    "output.to_csv('coche-julien-challenge-total.csv', index=False, sep= ';', decimal=',')"
   ]
  },
  {
   "cell_type": "code",
   "execution_count": 43,
   "metadata": {},
   "outputs": [
    {
     "name": "stdout",
     "output_type": "stream",
     "text": [
      "         API  GasCum360_INF  GasCum360_SUP  OilCum360_INF  OilCum360_SUP\n",
      "633.0  633.0      -1.141600      -0.574442      -2.118344       0.256182\n",
      "587.0  587.0      -0.867801      -0.300643      -2.445472      -0.070946\n",
      "264.0  264.0      -0.467387       0.099770      -2.485145      -0.110619\n",
      "680.0  680.0      -0.690835      -0.123678      -2.560489      -0.185964\n",
      "443.0  443.0      -0.266893       0.300265      -2.263908       0.110618\n"
     ]
    }
   ],
   "source": [
    "print(output.head(5))"
   ]
  },
  {
   "cell_type": "raw",
   "metadata": {},
   "source": [
    "Rappport 1 :\n",
    "\n",
    "Importation correcte des données\n",
    "Début du travail exploratoire, affichage du head et description des données\n",
    "Beaucoup de colonnes sont incomplètes => identification et élimination de ces colonnes\n",
    "Observation des composantes corrélées.\n",
    "\n",
    "Rapport 2 :\n",
    "\n",
    "Elimination des colonnes incomplètes\n",
    "Exploration des données de sorties\n",
    "Choix de l'algorithme - DecisionTreeRegressor / AdaBoost\n",
    "\n",
    "Rapport 3 :\n",
    "\n",
    "Fin elimination des colonnes incompletes\n",
    "Fin du formatage des données\n",
    "Debut mise en place de la cross_validation\n",
    "Debut mise en place des metrics\n",
    "\n",
    "Rapport 4 :\n",
    "\n",
    "Metrics misent en place\n",
    "Cross validation terminées\n",
    "Finir de modifier l'algorithme\n",
    "Trouver une surface acceptable\n",
    "\n",
    "Rapport 5 : \n",
    "\n",
    "Révision des metrics pour la régression\n",
    "Revoir le calcul de la surface (utiliser la formule du site ?)\n",
    "Repérer les composantes les plus importantes\n",
    "\n",
    "\n",
    "Utiliser un K-fold\n",
    "Identifier les composantes principales\n",
    "Trouver les meilleurs paramètres pour l'algorithme\n",
    "Imputer les valeurs manquantes\n",
    "Utiliser un réseau de neuronnes"
   ]
  },
  {
   "cell_type": "code",
   "execution_count": 44,
   "metadata": {},
   "outputs": [
    {
     "data": {
      "text/html": [
       "<div>\n",
       "<style scoped>\n",
       "    .dataframe tbody tr th:only-of-type {\n",
       "        vertical-align: middle;\n",
       "    }\n",
       "\n",
       "    .dataframe tbody tr th {\n",
       "        vertical-align: top;\n",
       "    }\n",
       "\n",
       "    .dataframe thead th {\n",
       "        text-align: right;\n",
       "    }\n",
       "</style>\n",
       "<table border=\"1\" class=\"dataframe\">\n",
       "  <thead>\n",
       "    <tr style=\"text-align: right;\">\n",
       "      <th></th>\n",
       "      <th>API</th>\n",
       "      <th>GasCum360_INF</th>\n",
       "      <th>GasCum360_SUP</th>\n",
       "      <th>OilCum360_INF</th>\n",
       "      <th>OilCum360_SUP</th>\n",
       "    </tr>\n",
       "  </thead>\n",
       "  <tbody>\n",
       "    <tr>\n",
       "      <th>count</th>\n",
       "      <td>235.000000</td>\n",
       "      <td>235.000000</td>\n",
       "      <td>235.000000</td>\n",
       "      <td>235.000000</td>\n",
       "      <td>235.000000</td>\n",
       "    </tr>\n",
       "    <tr>\n",
       "      <th>mean</th>\n",
       "      <td>392.697872</td>\n",
       "      <td>-0.520754</td>\n",
       "      <td>0.046404</td>\n",
       "      <td>-2.137073</td>\n",
       "      <td>0.237453</td>\n",
       "    </tr>\n",
       "    <tr>\n",
       "      <th>std</th>\n",
       "      <td>231.284979</td>\n",
       "      <td>0.328423</td>\n",
       "      <td>0.328423</td>\n",
       "      <td>0.360377</td>\n",
       "      <td>0.360377</td>\n",
       "    </tr>\n",
       "    <tr>\n",
       "      <th>min</th>\n",
       "      <td>3.000000</td>\n",
       "      <td>-1.172324</td>\n",
       "      <td>-0.605166</td>\n",
       "      <td>-2.726281</td>\n",
       "      <td>-0.351755</td>\n",
       "    </tr>\n",
       "    <tr>\n",
       "      <th>25%</th>\n",
       "      <td>183.500000</td>\n",
       "      <td>-0.724575</td>\n",
       "      <td>-0.157418</td>\n",
       "      <td>-2.345952</td>\n",
       "      <td>0.028574</td>\n",
       "    </tr>\n",
       "    <tr>\n",
       "      <th>50%</th>\n",
       "      <td>394.000000</td>\n",
       "      <td>-0.567929</td>\n",
       "      <td>-0.000771</td>\n",
       "      <td>-2.183373</td>\n",
       "      <td>0.191153</td>\n",
       "    </tr>\n",
       "    <tr>\n",
       "      <th>75%</th>\n",
       "      <td>590.500000</td>\n",
       "      <td>-0.385660</td>\n",
       "      <td>0.181498</td>\n",
       "      <td>-2.010294</td>\n",
       "      <td>0.364232</td>\n",
       "    </tr>\n",
       "    <tr>\n",
       "      <th>max</th>\n",
       "      <td>786.000000</td>\n",
       "      <td>1.313587</td>\n",
       "      <td>1.880744</td>\n",
       "      <td>-0.326658</td>\n",
       "      <td>2.047868</td>\n",
       "    </tr>\n",
       "  </tbody>\n",
       "</table>\n",
       "</div>"
      ],
      "text/plain": [
       "              API  GasCum360_INF  GasCum360_SUP  OilCum360_INF  OilCum360_SUP\n",
       "count  235.000000     235.000000     235.000000     235.000000     235.000000\n",
       "mean   392.697872      -0.520754       0.046404      -2.137073       0.237453\n",
       "std    231.284979       0.328423       0.328423       0.360377       0.360377\n",
       "min      3.000000      -1.172324      -0.605166      -2.726281      -0.351755\n",
       "25%    183.500000      -0.724575      -0.157418      -2.345952       0.028574\n",
       "50%    394.000000      -0.567929      -0.000771      -2.183373       0.191153\n",
       "75%    590.500000      -0.385660       0.181498      -2.010294       0.364232\n",
       "max    786.000000       1.313587       1.880744      -0.326658       2.047868"
      ]
     },
     "execution_count": 44,
     "metadata": {},
     "output_type": "execute_result"
    }
   ],
   "source": [
    "output.describe()"
   ]
  }
 ],
 "metadata": {
  "anaconda-cloud": {},
  "celltoolbar": "Edit Metadata",
  "kernelspec": {
   "display_name": "Python 3",
   "language": "python",
   "name": "python3"
  },
  "language_info": {
   "codemirror_mode": {
    "name": "ipython",
    "version": 3
   },
   "file_extension": ".py",
   "mimetype": "text/x-python",
   "name": "python",
   "nbconvert_exporter": "python",
   "pygments_lexer": "ipython3",
   "version": "3.5.2"
  }
 },
 "nbformat": 4,
 "nbformat_minor": 2
}
