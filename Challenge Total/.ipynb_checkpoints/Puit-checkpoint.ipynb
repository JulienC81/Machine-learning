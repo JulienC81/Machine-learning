{
 "cells": [
  {
   "cell_type": "markdown",
   "metadata": {},
   "source": [
    "# Rapport TOTAL - COCHE Julien\n",
    "\n",
    "Rapport à propos du challenge TOTAL.\n",
    "Ce challenge avait pour but de déterminer la production de futurs puits à partir des données des puits déjà existants.\n",
    "\n",
    "Pour cela, TOTAL a mis à disposition des données géographiques, géologiques et de production.\n",
    "\n",
    "Ce rapport à pour but d'expliquer la démarche de résolution de ce challenge, et de présenter les résultats obtenus.\n",
    "\n",
    "## 1 - Exploration du dataset.\n",
    "\n",
    "Pour commencer, on importe les librairies qui seront utiles pour conduire l'analyse."
   ]
  },
  {
   "cell_type": "code",
<<<<<<< HEAD
<<<<<<< HEAD:Challenge Total/.ipynb_checkpoints/First_try-checkpoint.ipynb
<<<<<<< HEAD
   "execution_count": 21,
   "metadata": {},
=======
   "execution_count": 38,
=======
   "execution_count": 157,
>>>>>>> fc6eac6c24cd97de9eadb783db32741e80101179:Challenge Total/.ipynb_checkpoints/Puit-checkpoint.ipynb
   "metadata": {
    "collapsed": false,
    "deletable": true,
    "editable": true
   },
>>>>>>> 6f8fce61c34ea4ba405e99c53fdb465e00944a09
=======
   "execution_count": 33,
   "metadata": {},
>>>>>>> 314ecd2939c2b31a39382a61468e97c73fb0706d
   "outputs": [],
   "source": [
    "%matplotlib inline\n",
    "import numpy as np # Librairie de calculs mathématiques.\n",
    "import pandas as pd # Libriairie de manipulation de données.\n",
    "import matplotlib.pyplot as plt # Librairie d'edition de graphiques.\n",
    "import seaborn as sns # Librairie d'édition de graphiques avancés."
   ]
  },
  {
   "cell_type": "markdown",
   "metadata": {},
   "source": [
    "### Importation des données.\n",
    "\n",
    "On importe alors les données issues du train set et du test set.\n",
    "\n",
    "Pour cela, j'utilise la bibliothèque `pandas`. Elle permet d'employer une structure de donnée particulière : les **dataframes**.\n",
    "\n",
    "Ces dataframes sont un tableau à double entrée. On peut donc définir un numéro de ligne ainsi qu'un nom de colonne.\n",
    "Cela permet d'être plus clair dans la manipulation des données qu'avec un `numpy.array`.\n",
    "\n",
    "De plus, `pandas` contient de très nombreuses méthodes qui facilitent la manipulation des données."
   ]
  },
  {
   "cell_type": "code",
<<<<<<< HEAD
<<<<<<< HEAD:Challenge Total/.ipynb_checkpoints/First_try-checkpoint.ipynb
<<<<<<< HEAD
   "execution_count": 22,
=======
   "execution_count": 39,
>>>>>>> 6f8fce61c34ea4ba405e99c53fdb465e00944a09
=======
   "execution_count": 158,
>>>>>>> fc6eac6c24cd97de9eadb783db32741e80101179:Challenge Total/.ipynb_checkpoints/Puit-checkpoint.ipynb
=======
   "execution_count": 34,
>>>>>>> 314ecd2939c2b31a39382a61468e97c73fb0706d
   "metadata": {
    "scrolled": true
   },
<<<<<<< HEAD
   "outputs": [
    {
     "data": {
      "text/html": [
       "<div>\n",
       "<style scoped>\n",
       "    .dataframe tbody tr th:only-of-type {\n",
       "        vertical-align: middle;\n",
       "    }\n",
       "\n",
       "    .dataframe tbody tr th {\n",
       "        vertical-align: top;\n",
       "    }\n",
       "\n",
       "    .dataframe thead th {\n",
       "        text-align: right;\n",
       "    }\n",
       "</style>\n",
       "<table border=\"1\" class=\"dataframe\">\n",
       "  <thead>\n",
       "    <tr style=\"text-align: right;\">\n",
       "      <th></th>\n",
       "      <th>API</th>\n",
       "      <th>Surf_X</th>\n",
       "      <th>Surf_Y</th>\n",
       "      <th>Date_Drilling</th>\n",
       "      <th>Date_Completion</th>\n",
       "      <th>Date_Production</th>\n",
       "      <th>Lateral_Length</th>\n",
       "      <th>Depth_TVD_PPLS</th>\n",
       "      <th>Erosion_PPLS</th>\n",
       "      <th>Pressure_PPLS</th>\n",
       "      <th>...</th>\n",
       "      <th>Min_Rate_Slurry</th>\n",
       "      <th>ShutInPressure_Fil</th>\n",
       "      <th>ShutInPressure_Initial</th>\n",
       "      <th>ISIP</th>\n",
       "      <th>Shot_Density</th>\n",
       "      <th>Shot_Total</th>\n",
       "      <th>Proppant_per_ft</th>\n",
       "      <th>Stage_Spacing</th>\n",
       "      <th>GasCum360</th>\n",
       "      <th>OilCum360</th>\n",
       "    </tr>\n",
       "  </thead>\n",
       "  <tbody>\n",
       "    <tr>\n",
       "      <th>0</th>\n",
       "      <td>633.0</td>\n",
       "      <td>0.201275</td>\n",
       "      <td>-0.577329</td>\n",
       "      <td>2013-06-23</td>\n",
       "      <td>2013-10-26</td>\n",
       "      <td>2014-10-01</td>\n",
       "      <td>-0.694826</td>\n",
       "      <td>0.641631</td>\n",
       "      <td>-0.356227</td>\n",
       "      <td>1.410748</td>\n",
       "      <td>...</td>\n",
       "      <td>0.667402</td>\n",
       "      <td>NaN</td>\n",
       "      <td>-0.740473</td>\n",
       "      <td>0.131374</td>\n",
       "      <td>0.187082</td>\n",
       "      <td>2.409201</td>\n",
       "      <td>0.160140</td>\n",
       "      <td>-0.710739</td>\n",
       "      <td>NaN</td>\n",
       "      <td>NaN</td>\n",
       "    </tr>\n",
       "    <tr>\n",
       "      <th>1</th>\n",
       "      <td>587.0</td>\n",
       "      <td>0.222609</td>\n",
       "      <td>0.670307</td>\n",
       "      <td>2012-02-06</td>\n",
       "      <td>2012-03-07</td>\n",
       "      <td>2013-05-08</td>\n",
       "      <td>-0.479516</td>\n",
       "      <td>-1.377997</td>\n",
       "      <td>-1.812483</td>\n",
       "      <td>1.605136</td>\n",
       "      <td>...</td>\n",
       "      <td>0.285738</td>\n",
       "      <td>-0.919600</td>\n",
       "      <td>-1.103957</td>\n",
       "      <td>-1.282464</td>\n",
       "      <td>0.667339</td>\n",
       "      <td>-0.560750</td>\n",
       "      <td>-1.149666</td>\n",
       "      <td>2.085649</td>\n",
       "      <td>NaN</td>\n",
       "      <td>NaN</td>\n",
       "    </tr>\n",
       "    <tr>\n",
       "      <th>2</th>\n",
       "      <td>264.0</td>\n",
       "      <td>0.022105</td>\n",
       "      <td>0.404387</td>\n",
       "      <td>2013-05-19</td>\n",
       "      <td>2013-07-24</td>\n",
       "      <td>2013-06-10</td>\n",
       "      <td>0.310782</td>\n",
       "      <td>-0.775745</td>\n",
       "      <td>0.243462</td>\n",
       "      <td>-0.136014</td>\n",
       "      <td>...</td>\n",
       "      <td>0.459046</td>\n",
       "      <td>0.614126</td>\n",
       "      <td>1.029028</td>\n",
       "      <td>1.103339</td>\n",
       "      <td>-0.773433</td>\n",
       "      <td>0.924226</td>\n",
       "      <td>-0.585869</td>\n",
       "      <td>-0.137427</td>\n",
       "      <td>NaN</td>\n",
       "      <td>NaN</td>\n",
       "    </tr>\n",
       "    <tr>\n",
       "      <th>3</th>\n",
       "      <td>680.0</td>\n",
       "      <td>0.384359</td>\n",
       "      <td>0.372793</td>\n",
       "      <td>2012-08-18</td>\n",
       "      <td>2012-12-19</td>\n",
       "      <td>2013-12-06</td>\n",
       "      <td>-0.624508</td>\n",
       "      <td>-1.082974</td>\n",
       "      <td>-1.922374</td>\n",
       "      <td>1.443630</td>\n",
       "      <td>...</td>\n",
       "      <td>0.332100</td>\n",
       "      <td>-0.782232</td>\n",
       "      <td>0.450368</td>\n",
       "      <td>-0.136076</td>\n",
       "      <td>0.667339</td>\n",
       "      <td>-0.560750</td>\n",
       "      <td>0.595622</td>\n",
       "      <td>1.887260</td>\n",
       "      <td>NaN</td>\n",
       "      <td>NaN</td>\n",
       "    </tr>\n",
       "    <tr>\n",
       "      <th>4</th>\n",
       "      <td>443.0</td>\n",
       "      <td>-0.138513</td>\n",
       "      <td>0.408803</td>\n",
       "      <td>2013-11-09</td>\n",
       "      <td>2014-03-29</td>\n",
       "      <td>2014-11-05</td>\n",
       "      <td>0.338785</td>\n",
       "      <td>-0.616106</td>\n",
       "      <td>0.556826</td>\n",
       "      <td>-1.011425</td>\n",
       "      <td>...</td>\n",
       "      <td>0.323490</td>\n",
       "      <td>NaN</td>\n",
       "      <td>0.743256</td>\n",
       "      <td>0.835687</td>\n",
       "      <td>-1.253690</td>\n",
       "      <td>0.181738</td>\n",
       "      <td>0.151633</td>\n",
       "      <td>-0.216512</td>\n",
       "      <td>NaN</td>\n",
       "      <td>NaN</td>\n",
       "    </tr>\n",
       "  </tbody>\n",
       "</table>\n",
       "<p>5 rows × 47 columns</p>\n",
       "</div>"
      ],
      "text/plain": [
       "     API    Surf_X    Surf_Y Date_Drilling Date_Completion Date_Production  \\\n",
       "0  633.0  0.201275 -0.577329    2013-06-23      2013-10-26      2014-10-01   \n",
       "1  587.0  0.222609  0.670307    2012-02-06      2012-03-07      2013-05-08   \n",
       "2  264.0  0.022105  0.404387    2013-05-19      2013-07-24      2013-06-10   \n",
       "3  680.0  0.384359  0.372793    2012-08-18      2012-12-19      2013-12-06   \n",
       "4  443.0 -0.138513  0.408803    2013-11-09      2014-03-29      2014-11-05   \n",
       "\n",
       "   Lateral_Length  Depth_TVD_PPLS  Erosion_PPLS  Pressure_PPLS    ...      \\\n",
       "0       -0.694826        0.641631     -0.356227       1.410748    ...       \n",
       "1       -0.479516       -1.377997     -1.812483       1.605136    ...       \n",
       "2        0.310782       -0.775745      0.243462      -0.136014    ...       \n",
       "3       -0.624508       -1.082974     -1.922374       1.443630    ...       \n",
       "4        0.338785       -0.616106      0.556826      -1.011425    ...       \n",
       "\n",
       "   Min_Rate_Slurry  ShutInPressure_Fil  ShutInPressure_Initial      ISIP  \\\n",
       "0         0.667402                 NaN               -0.740473  0.131374   \n",
       "1         0.285738           -0.919600               -1.103957 -1.282464   \n",
       "2         0.459046            0.614126                1.029028  1.103339   \n",
       "3         0.332100           -0.782232                0.450368 -0.136076   \n",
       "4         0.323490                 NaN                0.743256  0.835687   \n",
       "\n",
       "   Shot_Density  Shot_Total  Proppant_per_ft  Stage_Spacing  GasCum360  \\\n",
       "0      0.187082    2.409201         0.160140      -0.710739        NaN   \n",
       "1      0.667339   -0.560750        -1.149666       2.085649        NaN   \n",
       "2     -0.773433    0.924226        -0.585869      -0.137427        NaN   \n",
       "3      0.667339   -0.560750         0.595622       1.887260        NaN   \n",
       "4     -1.253690    0.181738         0.151633      -0.216512        NaN   \n",
       "\n",
       "   OilCum360  \n",
       "0        NaN  \n",
       "1        NaN  \n",
       "2        NaN  \n",
       "3        NaN  \n",
       "4        NaN  \n",
       "\n",
       "[5 rows x 47 columns]"
      ]
     },
     "execution_count": 22,
     "metadata": {},
     "output_type": "execute_result"
    }
   ],
=======
   "outputs": [],
>>>>>>> 6f8fce61c34ea4ba405e99c53fdb465e00944a09
   "source": [
    "\"\"\"\n",
    "Importation des données du train set.\n",
    "Les options permettent de :\n",
    "    - D'indiquer des séparateurs compréhensibles par la méthode (sep, decimal).\n",
    "    - De nommer les colonnes du dataframe (names).\n",
    "    - D'indiquer le type que l'on souhaite donner à ses données (dtype, parse_dates).\n",
    "\"\"\"\n",
    "\n",
    "names = ['API','Surf_X','Surf_Y','Date_Drilling','Date_Completion','Date_Production','Lateral_Length','Depth_TVD_PPLS','Erosion_PPLS','Pressure_PPLS','TOC_PPLS','Vcarb_PPLS','Vsand_PPLS','Vclay_PPLS','PR_PPLS','YM_PPLS','RHOB_PPLS','Res_PPLS','GR_PPLS','DT_PPLS','DTs_PPLS','Temperature','Temp_Anomaly','S3Tect_PPLS','S3_contrast_PPLS','Heat_Flow','Zone','Nbr_Stages','Frac_Gradient','Proppant_Designed','Proppant_in_Formation','Avg_Breakdown_Pressure','Avg_Treating_Pressure','Max_Treating_pressure','Min_Treating_Pressure','Avg_Rate_Slurry','Max_Rate_Slurry','Min_Rate_Slurry','ShutInPressure_Fil','ShutInPressure_Initial','ISIP','Shot_Density','Shot_Total','Proppant_per_ft','Stage_Spacing','GasCum360','OilCum360']\n",
    "\n",
    "# Importation du train set dans la variable df_data.\n",
    "df_data = pd.read_csv('./TrainSample.csv', \n",
    "                        header = None, \n",
    "                        sep = ';',\n",
    "                        decimal = ',',\n",
    "                        names = names,\n",
    "                        skiprows = 1,\n",
    "                        index_col=0,\n",
    "                        parse_dates = ['Date_Drilling','Date_Completion','Date_Production'],\n",
    "                        dtype = {col: np.float32 for col in names}\n",
    "                       )\n",
    "\n",
    "# Importation du test set dans la variable df_test.\n",
    "df_test = pd.read_csv('./TestSample.csv',\n",
    "                      header = None, \n",
    "                      sep = ';', \n",
    "                      decimal = ',', \n",
    "                      names = names,\n",
    "                      skiprows = 1,\n",
    "                      index_col=0,\n",
    "                      parse_dates = ['Date_Drilling','Date_Completion','Date_Production'],\n",
    "                      dtype = {col: np.float32 for col in names}\n",
    "                     )"
   ]
  },
  {
   "cell_type": "raw",
   "metadata": {},
   "source": [
    "def correlation(data):\n",
    "    correlation = data.corr()\n",
    "    figure = plt.subplots( figsize =( 12 , 10 ) )\n",
    "    color_map = sns.diverging_palette( 220 , 10 , as_cmap = True )\n",
    "    figure = sns.heatmap(\n",
    "        correlation, \n",
    "        cmap = color_map, \n",
    "        annot = True, \n",
    "        annot_kws = { 'fontsize' : 2 }\n",
    "    )\n",
    "    \n",
    "correlation(df_data)"
   ]
  },
  {
   "cell_type": "markdown",
   "metadata": {},
   "source": [
    "### Retrait des artéfacts.\n",
    "\n",
    "TOTAL indique que les données sont nettoyées.\n",
    "Cependant, lorsqu'on les analyse, on remarque que certaines composantes présentes des artéfacts qui peuvent nuire au modèle.\n",
    "\n",
    "Comme les artéfacts sont peu nombreux, on les retire afin d'augmenter les performances qui modèle.\n",
    "\n",
    "Pour cela :\n",
    "\n",
    "- On affiche les composantes une par une.\n",
    "- On identifie l'artéfact.\n",
    "- On remplace sa valeur par un NaN."
   ]
  },
  {
   "cell_type": "code",
<<<<<<< HEAD
<<<<<<< HEAD:Challenge Total/.ipynb_checkpoints/First_try-checkpoint.ipynb
<<<<<<< HEAD
   "execution_count": 23,
   "metadata": {},
   "outputs": [],
   "source": [
    "df_data[['Pressure_PPLS']] = df_data[['Pressure_PPLS']].fillna(df_data[['Pressure_PPLS']].mean())\n",
    "#x_trainFixed = x_train.fillna(x_train.mean())\n",
    "#df_data[['Pressure_PPLS']]"
   ]
  },
  {
   "cell_type": "raw",
   "metadata": {},
   "source": [
    "df_data[['Pressure_PPLS']].isnull().values.any()"
   ]
  },
  {
   "cell_type": "raw",
   "metadata": {},
=======
   "execution_count": 40,
=======
   "execution_count": 159,
>>>>>>> fc6eac6c24cd97de9eadb783db32741e80101179:Challenge Total/.ipynb_checkpoints/Puit-checkpoint.ipynb
   "metadata": {
    "collapsed": false,
    "deletable": true,
    "editable": true
   },
=======
   "execution_count": 41,
   "metadata": {},
   "outputs": [
    {
     "data": {
      "text/plain": [
       "<matplotlib.axes._subplots.AxesSubplot at 0x17118650>"
      ]
     },
     "execution_count": 41,
     "metadata": {},
     "output_type": "execute_result"
    },
    {
     "data": {
      "image/png": "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\n",
      "text/plain": [
       "<matplotlib.figure.Figure at 0x170ca950>"
      ]
     },
     "metadata": {},
     "output_type": "display_data"
    }
   ],
   "source": [
    "# Exemple d'artéfact dans la composante Frac_Gradient. \n",
    "\n",
    "df_data.Frac_Gradient.plot(style='o')"
   ]
  },
  {
   "cell_type": "code",
   "execution_count": 42,
   "metadata": {},
>>>>>>> 314ecd2939c2b31a39382a61468e97c73fb0706d
   "outputs": [],
>>>>>>> 6f8fce61c34ea4ba405e99c53fdb465e00944a09
   "source": [
    "# Retrait de tous les artéfacts identifiés.\n",
    "\n",
    "df_data.loc[746, 'Frac_Gradient'] = np.nan\n",
    "df_data.loc[553, 'ISIP'] = np.nan\n",
    "df_data.loc[681, 'Min_Rate_Slurry'] = np.nan\n",
    "df_data.loc[424, 'Res_PPLS'] = np.nan\n",
    "df_data.loc[456, 'ShutInPressure_Fil'] = np.nan\n",
    "df_data.loc[723, 'Min_Treating_Pressure'] = np.nan\n",
    "df_data.loc[205, 'Min_Treating_Pressure'] = np.nan"
   ]
  },
  {
   "cell_type": "code",
<<<<<<< HEAD
<<<<<<< HEAD:Challenge Total/.ipynb_checkpoints/First_try-checkpoint.ipynb
<<<<<<< HEAD
   "execution_count": 24,
   "metadata": {},
=======
   "execution_count": 41,
   "metadata": {
    "collapsed": false,
    "deletable": true,
    "editable": true
   },
>>>>>>> 6f8fce61c34ea4ba405e99c53fdb465e00944a09
   "outputs": [],
   "source": [
    "data_mean_gas = df_data[['GasCum360']].mean()\n",
    "data_mean_oil = df_data[['OilCum360']].mean()"
=======
   "execution_count": 43,
   "metadata": {},
   "outputs": [
    {
     "data": {
      "text/plain": [
       "<matplotlib.axes._subplots.AxesSubplot at 0x17124c50>"
      ]
     },
     "execution_count": 43,
     "metadata": {},
     "output_type": "execute_result"
    },
    {
     "data": {
      "image/png": "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\n",
      "text/plain": [
       "<matplotlib.figure.Figure at 0x17124ed0>"
      ]
     },
     "metadata": {},
     "output_type": "display_data"
    }
   ],
   "source": [
    "# On constate que l'artéfact a bien disparu.\n",
    "\n",
    "df_data.Frac_Gradient.plot(style='o')"
   ]
  },
  {
   "cell_type": "markdown",
   "metadata": {},
   "source": [
    "### "
>>>>>>> 314ecd2939c2b31a39382a61468e97c73fb0706d
   ]
  },
  {
   "cell_type": "code",
<<<<<<< HEAD
<<<<<<< HEAD
   "execution_count": 25,
   "metadata": {},
=======
   "execution_count": 42,
=======
   "execution_count": 160,
>>>>>>> fc6eac6c24cd97de9eadb783db32741e80101179:Challenge Total/.ipynb_checkpoints/Puit-checkpoint.ipynb
   "metadata": {
    "collapsed": false,
    "deletable": true,
    "editable": true
   },
>>>>>>> 6f8fce61c34ea4ba405e99c53fdb465e00944a09
=======
   "execution_count": null,
   "metadata": {},
>>>>>>> 314ecd2939c2b31a39382a61468e97c73fb0706d
   "outputs": [],
   "source": [
    "##Définition des labels\n",
    "\n",
    "y_gas = {'GasCum360' : df_data['GasCum360']}\n",
    "y_oil = {'OilCum360' : df_data['OilCum360']}\n",
    "\n",
    "df_target_gas = pd.DataFrame(y_gas)\n",
    "df_target_oil = pd.DataFrame(y_oil)"
   ]
  },
  {
   "cell_type": "raw",
   "metadata": {},
   "source": [
    "##Ajout de nouvelles composantes\n",
    "\n",
    "d0 = df_data['Date_Drilling']\n",
    "d1 = df_data['Date_Completion']\n",
    "d2 = df_data['Date_Production']\n",
    "Delta_Production = d2 - d0\n",
    "Delta_Completion = d1 - d0\n",
    "\n",
    "np.float32(Delta_Completion)\n",
    "np.float32(Delta_Production)\n",
    "\n",
    "df_data.insert(loc=2, column='Delta_Production', value=Delta_Production)\n",
    "df_data.insert(loc=2, column='Delta_Completion', value=Delta_Completion)\n"
   ]
  },
  {
   "cell_type": "code",
<<<<<<< HEAD
<<<<<<< HEAD:Challenge Total/.ipynb_checkpoints/First_try-checkpoint.ipynb
<<<<<<< HEAD
   "execution_count": 26,
   "metadata": {},
=======
   "execution_count": 43,
=======
   "execution_count": 161,
>>>>>>> fc6eac6c24cd97de9eadb783db32741e80101179:Challenge Total/.ipynb_checkpoints/Puit-checkpoint.ipynb
   "metadata": {
    "collapsed": true,
    "deletable": true,
    "editable": true
   },
>>>>>>> 6f8fce61c34ea4ba405e99c53fdb465e00944a09
=======
   "execution_count": null,
   "metadata": {},
>>>>>>> 314ecd2939c2b31a39382a61468e97c73fb0706d
   "outputs": [],
   "source": [
    "## Suppression des composantes pas utilisées\n",
    "\n",
    "cols_date = ['Date_Drilling','Date_Completion','Date_Production', 'GasCum360', 'OilCum360']\n",
    "\n",
    "df_data.drop(cols_date, 1, inplace=True)\n",
    "df_test.drop(cols_date, 1, inplace=True)"
   ]
  },
  {
   "cell_type": "code",
<<<<<<< HEAD
<<<<<<< HEAD:Challenge Total/.ipynb_checkpoints/First_try-checkpoint.ipynb
<<<<<<< HEAD
   "execution_count": 27,
   "metadata": {},
=======
   "execution_count": 44,
=======
   "execution_count": 162,
>>>>>>> fc6eac6c24cd97de9eadb783db32741e80101179:Challenge Total/.ipynb_checkpoints/Puit-checkpoint.ipynb
   "metadata": {
    "collapsed": false,
    "deletable": true,
    "editable": true
   },
>>>>>>> 6f8fce61c34ea4ba405e99c53fdb465e00944a09
=======
   "execution_count": null,
   "metadata": {},
>>>>>>> 314ecd2939c2b31a39382a61468e97c73fb0706d
   "outputs": [],
   "source": [
    "## Imputation des valeurs manquantes\n",
    "\n",
    "df_data.dropna()\n",
    "df_test.dropna()\n",
    "df_data = df_data.fillna(df_data.mean())\n",
    "df_test = df_test.fillna(df_data.mean())"
   ]
  },
  {
   "cell_type": "code",
<<<<<<< HEAD
<<<<<<< HEAD:Challenge Total/.ipynb_checkpoints/First_try-checkpoint.ipynb
<<<<<<< HEAD
   "execution_count": 28,
   "metadata": {},
=======
   "execution_count": 45,
=======
   "execution_count": 163,
>>>>>>> fc6eac6c24cd97de9eadb783db32741e80101179:Challenge Total/.ipynb_checkpoints/Puit-checkpoint.ipynb
   "metadata": {
    "collapsed": false
   },
>>>>>>> 6f8fce61c34ea4ba405e99c53fdb465e00944a09
=======
   "execution_count": null,
   "metadata": {},
>>>>>>> 314ecd2939c2b31a39382a61468e97c73fb0706d
   "outputs": [],
   "source": [
    "## Split des données\n",
    "\n",
    "from sklearn import cross_validation\n",
    "\n",
    "X_train_gas, X_test_gas, y_train_gas, y_test_gas = cross_validation.train_test_split(df_data, df_target_gas, test_size=0.15, random_state=42)\n",
    "X_train_oil, X_test_oil, y_train_oil, y_test_oil = cross_validation.train_test_split(df_data, df_target_oil, test_size=0.15, random_state=42)"
   ]
  },
  {
<<<<<<< HEAD
   "cell_type": "code",
   "execution_count": 29,
   "metadata": {},
   "outputs": [],
   "source": [
    "#x_testFixed = x_test.fillna(x_test.median())\n",
    "#x_trainFixed = x_train.fillna(x_train.median())"
   ]
  },
  {
=======
>>>>>>> 6f8fce61c34ea4ba405e99c53fdb465e00944a09
   "cell_type": "raw",
   "metadata": {
    "collapsed": true
   },
   "source": [
    "## Création du pipeline\n",
    "\n",
    "from sklearn.pipeline import Pipeline\n",
    "from sklearn.feature_selection import SelectKBest\n",
    "from sklearn.feature_selection import f_regression\n",
    "from sklearn.ensemble import GradientBoostingRegressor\n",
    "\n",
    "pipe = Pipeline([('reduce_dim', SelectKBest()),\n",
    "                 ('clf', GradientBoostingRegressor())])"
   ]
  },
  {
   "cell_type": "code",
   "execution_count": null,
   "metadata": {},
   "outputs": [],
   "source": [
    "## Définition du regresseur - GradientBoosting ici\n",
    "\n",
    "from sklearn.ensemble import GradientBoostingRegressor\n",
    "\n",
    "regr_oil = GradientBoostingRegressor()\n"
   ]
  },
  {
   "cell_type": "code",
<<<<<<< HEAD
<<<<<<< HEAD:Challenge Total/.ipynb_checkpoints/First_try-checkpoint.ipynb
<<<<<<< HEAD
   "execution_count": 30,
   "metadata": {},
=======
   "execution_count": 49,
=======
   "execution_count": 165,
>>>>>>> fc6eac6c24cd97de9eadb783db32741e80101179:Challenge Total/.ipynb_checkpoints/Puit-checkpoint.ipynb
   "metadata": {
    "collapsed": true,
    "deletable": true,
    "editable": true
   },
>>>>>>> 6f8fce61c34ea4ba405e99c53fdb465e00944a09
=======
   "execution_count": null,
   "metadata": {},
>>>>>>> 314ecd2939c2b31a39382a61468e97c73fb0706d
   "outputs": [],
   "source": [
    "## Définition des paramètres - GradientBoosting\n",
    "\n",
    "param_grid_oil = [\n",
    "    {\n",
    "        'loss':['huber'],\n",
    "        'n_estimators':[500],\n",
    "        'learning_rate':[0.025],\n",
    "        'max_depth':[4],\n",
    "        'criterion':['friedman_mse'],\n",
    "        'min_samples_split':[2],\n",
    "        'min_samples_leaf':[2],\n",
    "        'alpha':[0.909],\n",
    "    }\n",
    "]"
   ]
  },
  {
<<<<<<< HEAD
<<<<<<< HEAD
   "cell_type": "code",
   "execution_count": 31,
   "metadata": {},
   "outputs": [
    {
     "data": {
      "text/plain": [
       "pandas.core.frame.DataFrame"
      ]
     },
     "execution_count": 31,
     "metadata": {},
     "output_type": "execute_result"
    }
   ],
   "source": [
    "type(X_train)"
   ]
  },
  {
   "cell_type": "code",
   "execution_count": 32,
=======
   "cell_type": "raw",
>>>>>>> 6f8fce61c34ea4ba405e99c53fdb465e00944a09
   "metadata": {
    "deletable": true,
    "editable": true
   },
   "source": [
    "def correlation(data):\n",
    "    correlation = data.corr()\n",
    "    figure = plt.subplots( figsize =( 12 , 10 ) )\n",
    "    color_map = sns.diverging_palette( 220 , 10 , as_cmap = True )\n",
    "    figure = sns.heatmap(\n",
    "        correlation, \n",
    "        cmap = color_map, \n",
    "        annot = True, \n",
    "        annot_kws = { 'fontsize' : 2 }\n",
    "    )\n",
    "    \n",
    "correlation(df_data)"
   ]
  },
  {
<<<<<<< HEAD:Challenge Total/.ipynb_checkpoints/First_try-checkpoint.ipynb
<<<<<<< HEAD
   "cell_type": "code",
   "execution_count": 33,
   "metadata": {},
   "outputs": [],
=======
   "cell_type": "raw",
=======
   "cell_type": "code",
   "execution_count": 166,
>>>>>>> fc6eac6c24cd97de9eadb783db32741e80101179:Challenge Total/.ipynb_checkpoints/Puit-checkpoint.ipynb
   "metadata": {
    "collapsed": false,
    "deletable": true,
    "editable": true
   },
<<<<<<< HEAD:Challenge Total/.ipynb_checkpoints/First_try-checkpoint.ipynb
>>>>>>> 6f8fce61c34ea4ba405e99c53fdb465e00944a09
=======
=======
   "cell_type": "code",
   "execution_count": null,
   "metadata": {},
>>>>>>> 314ecd2939c2b31a39382a61468e97c73fb0706d
   "outputs": [],
>>>>>>> fc6eac6c24cd97de9eadb783db32741e80101179:Challenge Total/.ipynb_checkpoints/Puit-checkpoint.ipynb
   "source": [
    "## Algorithme - Choix des paramètres \n",
    "\n",
    "from sklearn.model_selection import GridSearchCV\n",
    "\n",
    "n_iter = 50\n",
    "\n",
    "clf_oil = GridSearchCV(regr_oil, param_grid=param_grid_oil, n_jobs=n_iter, cv=3)\n",
    "\n",
    "clf_oil.fit(X_train_oil.values, y_train_oil.values)\n",
    "y_predict_oil = clf_oil.predict(X_test_oil.values)"
   ]
  },
  {
<<<<<<< HEAD
<<<<<<< HEAD:Challenge Total/.ipynb_checkpoints/First_try-checkpoint.ipynb
   "cell_type": "code",
<<<<<<< HEAD
   "execution_count": 34,
   "metadata": {},
   "outputs": [
    {
     "data": {
      "text/plain": [
       "<function ndarray.tolist>"
      ]
     },
     "execution_count": 34,
     "metadata": {},
     "output_type": "execute_result"
    }
   ],
=======
   "execution_count": 50,
=======
   "cell_type": "raw",
>>>>>>> fc6eac6c24cd97de9eadb783db32741e80101179:Challenge Total/.ipynb_checkpoints/Puit-checkpoint.ipynb
   "metadata": {
    "deletable": true,
    "editable": true
   },
<<<<<<< HEAD:Challenge Total/.ipynb_checkpoints/First_try-checkpoint.ipynb
   "outputs": [],
>>>>>>> 6f8fce61c34ea4ba405e99c53fdb465e00944a09
=======
>>>>>>> fc6eac6c24cd97de9eadb783db32741e80101179:Challenge Total/.ipynb_checkpoints/Puit-checkpoint.ipynb
   "source": [
    "imp = []\n",
    "names_bis = []\n",
    "\n",
    "imp = zip(X_train.columns[indices][:41],regr_gas.feature_importances_[indices][:41]) \n",
    "\n",
    "for element in imp:\n",
    "    if element[1] > 0.02:\n",
    "        names_bis.append(element[0])\n",
    "        \n",
    "print(len(names_bis))"
   ]
  },
  {
   "cell_type": "code",
<<<<<<< HEAD:Challenge Total/.ipynb_checkpoints/First_try-checkpoint.ipynb
<<<<<<< HEAD
   "execution_count": 35,
   "metadata": {},
=======
   "execution_count": 51,
=======
   "execution_count": 167,
>>>>>>> fc6eac6c24cd97de9eadb783db32741e80101179:Challenge Total/.ipynb_checkpoints/Puit-checkpoint.ipynb
   "metadata": {
    "collapsed": false,
    "deletable": true,
    "editable": true
   },
>>>>>>> 6f8fce61c34ea4ba405e99c53fdb465e00944a09
   "outputs": [
    {
     "name": "stdout",
     "output_type": "stream",
     "text": [
<<<<<<< HEAD:Challenge Total/.ipynb_checkpoints/First_try-checkpoint.ipynb
<<<<<<< HEAD
      "Moyenne : 0.6517083189114212\n",
      "Moyenne au carré : 0.7466439668759762\n",
      "Coeff corr : 0.9747717945124521\n"
=======
      "Erreur Moyenne absolue : 0.43748671347\n",
      "Erreur Moyenne carré : 0.309868346042\n",
      "R2 : 0.603908590843\n"
>>>>>>> 6f8fce61c34ea4ba405e99c53fdb465e00944a09
=======
      "Erreur Moyenne absolue : 0.26029141854\n",
      "Erreur Moyenne carré : 0.202361334938\n",
      "R2 : 0.839807728498\n",
      "Best params : {'loss': 'huber', 'learning_rate': 0.025, 'min_samples_leaf': 2, 'n_estimators': 500, 'criterion': 'friedman_mse', 'min_samples_split': 2, 'alpha': 0.909, 'max_depth': 4}\n"
>>>>>>> fc6eac6c24cd97de9eadb783db32741e80101179:Challenge Total/.ipynb_checkpoints/Puit-checkpoint.ipynb
     ]
    }
   ],
=======
   "cell_type": "code",
   "execution_count": null,
   "metadata": {},
   "outputs": [],
>>>>>>> 314ecd2939c2b31a39382a61468e97c73fb0706d
   "source": [
    "## Metrics training oil\n",
    "\n",
    "from sklearn.metrics import mean_absolute_error\n",
    "from sklearn.metrics import r2_score\n",
    "\n",
<<<<<<< HEAD
    "retour = 'Moyenne : {}\\nMoyenne au carré : {}\\nCoeff corr : {}'.format(mean_absolute_error(y_test_gas, y_predictSVR_gas),\n",
    "                                                                       mean_squared_error(y_test_gas, y_predictSVR_gas),\n",
    "                                                                       clf_gas.score(X_train, y_train_gas)\n",
    "                                                                      )\n",
=======
    "retour = 'Erreur Moyenne absolue : {}\\n\\\n",
    "Erreur Moyenne carré : {}\\n\\\n",
    "R2 : {}\\n\\\n",
    "Best params : {}'.format(mean_absolute_error(y_test_oil, y_predict_oil),\n",
    "                mean_squared_error(y_test_oil, y_predict_oil),\n",
    "                r2_score(y_test_oil, y_predict_oil),\n",
    "                clf_oil.best_params_\n",
    "               )\n",
<<<<<<< HEAD:Challenge Total/.ipynb_checkpoints/First_try-checkpoint.ipynb
>>>>>>> 6f8fce61c34ea4ba405e99c53fdb465e00944a09
    "\n",
=======
>>>>>>> fc6eac6c24cd97de9eadb783db32741e80101179:Challenge Total/.ipynb_checkpoints/Puit-checkpoint.ipynb
    "print(retour)"
   ]
  },
  {
   "cell_type": "code",
<<<<<<< HEAD
<<<<<<< HEAD:Challenge Total/.ipynb_checkpoints/First_try-checkpoint.ipynb
<<<<<<< HEAD
   "execution_count": 36,
   "metadata": {},
=======
   "execution_count": 52,
=======
   "execution_count": 168,
   "metadata": {
    "collapsed": false,
    "deletable": true,
    "editable": true
   },
=======
   "execution_count": null,
   "metadata": {},
   "outputs": [],
   "source": [
    "## Définition des paramètres - ExtremeGradientBoosting\n",
    "\n",
    "param_grid_gas = [\n",
    "    {\n",
    "        'learning_rate':[0.05],\n",
    "        'n_estimators': [700],\n",
    "        'gamma':[0.0001],\n",
    "        'min_child_weight':[2],\n",
    "        'max_depth':[4],\n",
    "        'max_delta_step':[4],\n",
    "        'subsample':[0.9],\n",
    "    }\n",
    "]"
   ]
  },
  {
   "cell_type": "code",
   "execution_count": null,
   "metadata": {},
>>>>>>> 314ecd2939c2b31a39382a61468e97c73fb0706d
   "outputs": [],
   "source": [
    "## Fit regression model training\n",
    "\n",
    "clf_gas = GridSearchCV(regr_oil, param_grid=param_grid_oil, n_jobs=n_iter, cv=3)\n",
    "\n",
    "clf_gas.fit(X_train_gas.values, y_train_gas.values)\n",
    "y_predict_gas = clf_gas.predict(X_test_gas.values)"
   ]
  },
  {
   "cell_type": "code",
<<<<<<< HEAD
   "execution_count": 169,
>>>>>>> fc6eac6c24cd97de9eadb783db32741e80101179:Challenge Total/.ipynb_checkpoints/Puit-checkpoint.ipynb
   "metadata": {
    "collapsed": false,
    "deletable": true,
    "editable": true
   },
>>>>>>> 6f8fce61c34ea4ba405e99c53fdb465e00944a09
   "outputs": [
    {
     "name": "stdout",
     "output_type": "stream",
     "text": [
<<<<<<< HEAD:Challenge Total/.ipynb_checkpoints/First_try-checkpoint.ipynb
<<<<<<< HEAD
      "La valeur de la moyenne au carré est : 0.789580229345642\n",
      "La valeur du coefficient de corrélation est : 0.9163215194167106\n",
      "La surface définie est égale à : 0.11130005705189056\n"
=======
      "Erreur Moyenne absolue : 0.361443620618\n",
      "Erreur Moyenne carré : 0.254869280189\n",
      "R2 : 0.70150483265\n"
>>>>>>> 6f8fce61c34ea4ba405e99c53fdb465e00944a09
=======
      "Erreur Moyenne absolue : 0.358683756197\n",
      "Erreur Moyenne carré : 0.271159031151\n",
      "R2 : 0.730065812347\n"
>>>>>>> fc6eac6c24cd97de9eadb783db32741e80101179:Challenge Total/.ipynb_checkpoints/Puit-checkpoint.ipynb
     ]
    }
   ],
=======
   "execution_count": null,
   "metadata": {},
   "outputs": [],
>>>>>>> 314ecd2939c2b31a39382a61468e97c73fb0706d
   "source": [
    "## Metrics training gas \n",
    "\n",
    "from sklearn.metrics import mean_absolute_error\n",
    "from sklearn.metrics import mean_squared_error\n",
    "from sklearn.metrics import r2_score\n",
    "\n",
    "retour = 'Erreur Moyenne absolue : {}\\n\\\n",
    "Erreur Moyenne carré : {}\\n\\\n",
    "R2 : {}\\n\\\n",
    "Params : {}'.format(mean_absolute_error(y_test_gas, y_predict_gas),\n",
    "                mean_squared_error(y_test_gas, y_predict_gas),\n",
    "                r2_score(y_test_gas, y_predict_gas),\n",
    "                clf_gas.best_params_\n",
    "               )\n",
    "\n",
    "print(retour)"
   ]
  },
  {
   "cell_type": "raw",
   "metadata": {},
   "source": [
    "imp = []\n",
    "names_bis = []\n",
    "\n",
    "imp = zip(X_train.columns[indices][:41],regr_gas.feature_importances_[indices][:41]) \n",
    "\n",
    "for element in imp:\n",
    "    if element[1] > 0.02:\n",
    "        names_bis.append(element[0])\n",
    "        \n",
    "print(len(names_bis))"
   ]
  },
  {
   "cell_type": "code",
<<<<<<< HEAD
<<<<<<< HEAD:Challenge Total/.ipynb_checkpoints/First_try-checkpoint.ipynb
<<<<<<< HEAD
   "execution_count": 37,
   "metadata": {},
   "outputs": [
    {
     "name": "stdout",
     "output_type": "stream",
     "text": [
      "Ecart entre les valeurs réelles et les valeurs déterminées gaz : GasCum360    0.000278\n",
      "dtype: float32\n",
      "Ecart entre les valeurs réelles et les valeurs déterminées oil : OilCum360    0.032709\n",
      "dtype: float32\n"
     ]
    }
   ],
=======
   "execution_count": 54,
=======
   "execution_count": 170,
>>>>>>> fc6eac6c24cd97de9eadb783db32741e80101179:Challenge Total/.ipynb_checkpoints/Puit-checkpoint.ipynb
   "metadata": {
    "collapsed": false,
    "deletable": true,
    "editable": true
   },
=======
   "execution_count": null,
   "metadata": {},
>>>>>>> 314ecd2939c2b31a39382a61468e97c73fb0706d
   "outputs": [],
>>>>>>> 6f8fce61c34ea4ba405e99c53fdb465e00944a09
   "source": [
    "## Fit regression model test data\n",
    "\n",
    "clf_gas.fit(df_data, df_target_gas)\n",
    "clf_oil.fit(df_data, df_target_oil)\n",
    "\n",
    "y_predictFin_gas = clf_gas.predict(df_test)\n",
    "y_predictFin_oil = clf_oil.predict(df_test)"
   ]
  },
  {
   "cell_type": "code",
<<<<<<< HEAD
<<<<<<< HEAD:Challenge Total/.ipynb_checkpoints/First_try-checkpoint.ipynb
<<<<<<< HEAD
   "execution_count": 38,
   "metadata": {},
   "outputs": [
    {
     "name": "stdout",
     "output_type": "stream",
     "text": [
      "[[-0.62600164]\n",
      " [-0.35220313]\n",
      " [ 0.04821062]\n",
      " [-0.17523736]\n",
      " [ 0.24870498]\n",
      " [-0.06694063]\n",
      " [-0.25725805]\n",
      " [-0.09081461]\n",
      " [ 0.01633998]\n",
      " [ 0.14632993]]      GasCum360\n",
      "299  -0.671741\n",
      "96   -0.796039\n",
      "411   1.607541\n",
      "160  -0.905786\n",
      "142  -0.929138\n",
      "171   1.056594\n",
      "49   -0.044482\n",
      "52   -0.029180\n",
      "74   -0.670370\n",
      "26   -1.017546\n"
     ]
=======
   "execution_count": 55,
=======
   "execution_count": 171,
>>>>>>> fc6eac6c24cd97de9eadb783db32741e80101179:Challenge Total/.ipynb_checkpoints/Puit-checkpoint.ipynb
   "metadata": {
    "collapsed": false,
    "deletable": true,
    "editable": true
   },
   "outputs": [
    {
     "data": {
      "text/plain": [
       "<function tolist>"
      ]
     },
     "execution_count": 171,
     "metadata": {},
     "output_type": "execute_result"
>>>>>>> 6f8fce61c34ea4ba405e99c53fdb465e00944a09
    }
   ],
=======
   "execution_count": null,
   "metadata": {},
   "outputs": [],
>>>>>>> 314ecd2939c2b31a39382a61468e97c73fb0706d
   "source": [
    "gascumpred = []\n",
    "oilcumpred = []\n",
    "\n",
    "gascumpred = [element for element in y_predictFin_gas]\n",
    "oilcumpred = [element for element in y_predictFin_oil]\n",
    "\n",
    "gascumpred_mean = mean_absolute_error(y_test_gas, y_predict_gas)\n",
    "oilcumpred_mean = mean_absolute_error(y_test_oil, y_predict_oil)\n",
    "\n",
    "GasCum360_inf = gascumpred - 2.2 * abs(gascumpred_mean)\n",
    "GasCum360_sup = gascumpred + 2.2 * abs(gascumpred_mean)\n",
    "\n",
    "OilCum360_inf = oilcumpred - 2.2 * abs(oilcumpred_mean)\n",
    "OilCum360_sup = oilcumpred + 2.2 * abs(oilcumpred_mean)\n",
    "\n",
    "GasCum360_inf.tolist\n",
    "GasCum360_sup.tolist\n",
    "\n",
    "OilCum360_inf.tolist\n",
    "OilCum360_sup.tolist"
   ]
  },
  {
   "cell_type": "code",
<<<<<<< HEAD
<<<<<<< HEAD:Challenge Total/.ipynb_checkpoints/First_try-checkpoint.ipynb
<<<<<<< HEAD
   "execution_count": 39,
   "metadata": {},
   "outputs": [
    {
     "name": "stdout",
     "output_type": "stream",
     "text": [
      "[[ 0.04031609]\n",
      " [-0.28681221]\n",
      " [-0.32648475]\n",
      " [-0.40182952]\n",
      " [-0.10524764]\n",
      " [-0.07572537]\n",
      " [ 0.0766185 ]\n",
      " [-0.05280406]\n",
      " [ 0.05911902]\n",
      " [ 0.00218421]]      OilCum360\n",
      "299   0.705780\n",
      "96    0.159181\n",
      "411   0.093463\n",
      "160   0.723473\n",
      "142   0.862852\n",
      "171  -0.846812\n",
      "49   -0.736861\n",
      "52   -0.384889\n",
      "74   -0.542234\n",
      "26   -0.202901\n"
     ]
=======
   "execution_count": 56,
=======
   "execution_count": 172,
>>>>>>> fc6eac6c24cd97de9eadb783db32741e80101179:Challenge Total/.ipynb_checkpoints/Puit-checkpoint.ipynb
   "metadata": {
    "collapsed": false,
    "deletable": true,
    "editable": true
   },
   "outputs": [
    {
     "data": {
      "text/plain": [
       "array([-0.8644711 ,  0.06851813,  0.83448679, -0.03398048, -0.1326212 ,\n",
       "        0.82534931, -0.42144984,  0.55126857, -0.52032883,  0.23283801])"
      ]
     },
     "execution_count": 172,
     "metadata": {},
     "output_type": "execute_result"
>>>>>>> 6f8fce61c34ea4ba405e99c53fdb465e00944a09
    }
   ],
=======
   "execution_count": null,
   "metadata": {},
   "outputs": [],
>>>>>>> 314ecd2939c2b31a39382a61468e97c73fb0706d
   "source": [
    "y_predict_gas[:10]"
   ]
  },
  {
   "cell_type": "code",
<<<<<<< HEAD
<<<<<<< HEAD:Challenge Total/.ipynb_checkpoints/First_try-checkpoint.ipynb
<<<<<<< HEAD
   "execution_count": 42,
   "metadata": {},
=======
   "execution_count": 57,
=======
   "execution_count": 173,
>>>>>>> fc6eac6c24cd97de9eadb783db32741e80101179:Challenge Total/.ipynb_checkpoints/Puit-checkpoint.ipynb
   "metadata": {
    "collapsed": false,
    "deletable": true,
    "editable": true
   },
   "outputs": [
    {
     "data": {
      "text/html": [
       "<div>\n",
       "<table border=\"1\" class=\"dataframe\">\n",
       "  <thead>\n",
       "    <tr style=\"text-align: right;\">\n",
       "      <th></th>\n",
       "      <th>GasCum360</th>\n",
       "    </tr>\n",
       "    <tr>\n",
       "      <th>API</th>\n",
       "      <th></th>\n",
       "    </tr>\n",
       "  </thead>\n",
       "  <tbody>\n",
       "    <tr>\n",
       "      <th>517.0</th>\n",
       "      <td>-1.089723</td>\n",
       "    </tr>\n",
       "    <tr>\n",
       "      <th>694.0</th>\n",
       "      <td>-0.093905</td>\n",
       "    </tr>\n",
       "    <tr>\n",
       "      <th>557.0</th>\n",
       "      <td>2.583899</td>\n",
       "    </tr>\n",
       "    <tr>\n",
       "      <th>510.0</th>\n",
       "      <td>-0.020998</td>\n",
       "    </tr>\n",
       "    <tr>\n",
       "      <th>369.0</th>\n",
       "      <td>-0.796393</td>\n",
       "    </tr>\n",
       "    <tr>\n",
       "      <th>529.0</th>\n",
       "      <td>0.689649</td>\n",
       "    </tr>\n",
       "    <tr>\n",
       "      <th>709.0</th>\n",
       "      <td>-0.419608</td>\n",
       "    </tr>\n",
       "    <tr>\n",
       "      <th>184.0</th>\n",
       "      <td>0.456733</td>\n",
       "    </tr>\n",
       "    <tr>\n",
       "      <th>120.0</th>\n",
       "      <td>-0.398933</td>\n",
       "    </tr>\n",
       "    <tr>\n",
       "      <th>744.0</th>\n",
       "      <td>-0.268620</td>\n",
       "    </tr>\n",
       "  </tbody>\n",
       "</table>\n",
       "</div>"
      ],
      "text/plain": [
       "       GasCum360\n",
       "API             \n",
       "517.0  -1.089723\n",
       "694.0  -0.093905\n",
       "557.0   2.583899\n",
       "510.0  -0.020998\n",
       "369.0  -0.796393\n",
       "529.0   0.689649\n",
       "709.0  -0.419608\n",
       "184.0   0.456733\n",
       "120.0  -0.398933\n",
       "744.0  -0.268620"
      ]
     },
     "execution_count": 173,
     "metadata": {},
     "output_type": "execute_result"
    }
   ],
=======
   "execution_count": null,
   "metadata": {},
   "outputs": [],
>>>>>>> 314ecd2939c2b31a39382a61468e97c73fb0706d
   "source": [
    "y_test_gas.head(10)"
   ]
  },
  {
   "cell_type": "code",
   "execution_count": null,
   "metadata": {},
   "outputs": [],
   "source": [
    "y_predict_oil[:15]"
   ]
  },
  {
   "cell_type": "code",
   "execution_count": null,
   "metadata": {},
   "outputs": [],
   "source": [
    "y_test_oil.head(15)"
   ]
  },
  {
   "cell_type": "code",
<<<<<<< HEAD
   "execution_count": 176,
   "metadata": {
    "collapsed": false,
    "deletable": true,
    "editable": true
   },
>>>>>>> 6f8fce61c34ea4ba405e99c53fdb465e00944a09
=======
   "execution_count": null,
   "metadata": {},
>>>>>>> 314ecd2939c2b31a39382a61468e97c73fb0706d
   "outputs": [],
   "source": [
    "## Output\n",
    "\n",
    "id_test = df_test.index.tolist()\n",
    "\n",
    "output = pd.DataFrame({'API': id_test,\n",
    "                       'GasCum360_INF': GasCum360_inf,\n",
    "                       'GasCum360_SUP': GasCum360_sup,\n",
    "                       'OilCum360_INF': OilCum360_inf,\n",
    "                       'OilCum360_SUP': OilCum360_sup},\n",
    "                      index=id_test\n",
    "                     )\n",
    "\n",
    "output.head()\n",
    "\n",
    "output.to_csv('coche-julien-challenge-total.csv', index=False, sep= ';', decimal=',')"
   ]
  },
  {
   "cell_type": "code",
<<<<<<< HEAD
<<<<<<< HEAD:Challenge Total/.ipynb_checkpoints/First_try-checkpoint.ipynb
<<<<<<< HEAD
   "execution_count": 43,
   "metadata": {},
=======
   "execution_count": 59,
=======
   "execution_count": 177,
>>>>>>> fc6eac6c24cd97de9eadb783db32741e80101179:Challenge Total/.ipynb_checkpoints/Puit-checkpoint.ipynb
   "metadata": {
    "collapsed": false,
    "deletable": true,
    "editable": true
   },
>>>>>>> 6f8fce61c34ea4ba405e99c53fdb465e00944a09
   "outputs": [
    {
     "name": "stdout",
     "output_type": "stream",
     "text": [
      "         API  GasCum360_INF  GasCum360_SUP  OilCum360_INF  OilCum360_SUP\n",
<<<<<<< HEAD:Challenge Total/.ipynb_checkpoints/First_try-checkpoint.ipynb
<<<<<<< HEAD
      "633.0  633.0      -1.141600      -0.574442      -2.118344       0.256182\n",
      "587.0  587.0      -0.867801      -0.300643      -2.445472      -0.070946\n",
      "264.0  264.0      -0.467387       0.099770      -2.485145      -0.110619\n",
      "680.0  680.0      -0.690835      -0.123678      -2.560489      -0.185964\n",
      "443.0  443.0      -0.266893       0.300265      -2.263908       0.110618\n"
=======
      "633.0  633.0      -0.884534      -0.009560       0.099033       0.821920\n",
      "587.0  587.0       0.333506       1.208480      -1.100391      -0.377504\n",
      "264.0  264.0       0.342227       1.217201      -1.075568      -0.352680\n",
      "680.0  680.0       0.236047       1.111021      -1.100391      -0.377504\n",
      "443.0  443.0       0.137950       1.012923      -0.300559       0.422329\n"
>>>>>>> 6f8fce61c34ea4ba405e99c53fdb465e00944a09
=======
      "633.0  633.0      -1.511467       0.640635      -0.457045       1.104703\n",
      "587.0  587.0      -0.782862       1.369240      -1.607697      -0.045948\n",
      "264.0  264.0      -0.350802       1.801300      -1.418743       0.143005\n",
      "680.0  680.0      -0.472444       1.679658      -1.505283       0.056466\n",
      "443.0  443.0      -0.662858       1.489245      -0.697455       0.864293\n"
>>>>>>> fc6eac6c24cd97de9eadb783db32741e80101179:Challenge Total/.ipynb_checkpoints/Puit-checkpoint.ipynb
     ]
    }
   ],
=======
   "execution_count": null,
   "metadata": {},
   "outputs": [],
>>>>>>> 314ecd2939c2b31a39382a61468e97c73fb0706d
   "source": [
    "print(output.head(5))"
   ]
  },
  {
   "cell_type": "raw",
   "metadata": {},
   "source": [
    "Rappport 1 :\n",
    "\n",
    "Importation correcte des données\n",
    "Début du travail exploratoire, affichage du head et description des données\n",
    "Beaucoup de colonnes sont incomplètes => identification et élimination de ces colonnes\n",
    "Observation des composantes corrélées.\n",
    "\n",
    "Rapport 2 :\n",
    "\n",
    "Elimination des colonnes incomplètes\n",
    "Exploration des données de sorties\n",
    "Choix de l'algorithme - DecisionTreeRegressor / AdaBoost\n",
    "\n",
    "Rapport 3 :\n",
    "\n",
    "Fin elimination des colonnes incompletes\n",
    "Fin du formatage des données\n",
    "Debut mise en place de la cross_validation\n",
    "Debut mise en place des metrics\n",
    "\n",
    "Rapport 4 :\n",
    "\n",
    "Metrics misent en place\n",
    "Cross validation terminées\n",
    "Finir de modifier l'algorithme\n",
    "Trouver une surface acceptable\n",
    "\n",
<<<<<<< HEAD
    "Rapport 5 : \n",
    "\n",
    "Révision des metrics pour la régression\n",
    "Revoir le calcul de la surface (utiliser la formule du site ?)\n",
    "Repérer les composantes les plus importantes\n",
    "\n",
=======
    "Rapport 5 :\n",
    "\n",
    "Imputation des valeurs manquantes\n",
    "Retrait des outliers\n",
    "Changement SVR vers Adaboost, essais avec ElasticNet\n",
    "Optimisation de l'algo\n",
>>>>>>> 6f8fce61c34ea4ba405e99c53fdb465e00944a09
    "\n",
    "Identifier les composantes principales\n",
    "Utiliser un réseau de neuronnes"
   ]
<<<<<<< HEAD
  },
  {
   "cell_type": "code",
   "execution_count": 44,
   "metadata": {},
   "outputs": [
    {
     "data": {
      "text/html": [
       "<div>\n",
       "<style scoped>\n",
       "    .dataframe tbody tr th:only-of-type {\n",
       "        vertical-align: middle;\n",
       "    }\n",
       "\n",
       "    .dataframe tbody tr th {\n",
       "        vertical-align: top;\n",
       "    }\n",
       "\n",
       "    .dataframe thead th {\n",
       "        text-align: right;\n",
       "    }\n",
       "</style>\n",
       "<table border=\"1\" class=\"dataframe\">\n",
       "  <thead>\n",
       "    <tr style=\"text-align: right;\">\n",
       "      <th></th>\n",
       "      <th>API</th>\n",
       "      <th>GasCum360_INF</th>\n",
       "      <th>GasCum360_SUP</th>\n",
       "      <th>OilCum360_INF</th>\n",
       "      <th>OilCum360_SUP</th>\n",
       "    </tr>\n",
       "  </thead>\n",
       "  <tbody>\n",
       "    <tr>\n",
       "      <th>count</th>\n",
       "      <td>235.000000</td>\n",
       "      <td>235.000000</td>\n",
       "      <td>235.000000</td>\n",
       "      <td>235.000000</td>\n",
       "      <td>235.000000</td>\n",
       "    </tr>\n",
       "    <tr>\n",
       "      <th>mean</th>\n",
       "      <td>392.697872</td>\n",
       "      <td>-0.520754</td>\n",
       "      <td>0.046404</td>\n",
       "      <td>-2.137073</td>\n",
       "      <td>0.237453</td>\n",
       "    </tr>\n",
       "    <tr>\n",
       "      <th>std</th>\n",
       "      <td>231.284979</td>\n",
       "      <td>0.328423</td>\n",
       "      <td>0.328423</td>\n",
       "      <td>0.360377</td>\n",
       "      <td>0.360377</td>\n",
       "    </tr>\n",
       "    <tr>\n",
       "      <th>min</th>\n",
       "      <td>3.000000</td>\n",
       "      <td>-1.172324</td>\n",
       "      <td>-0.605166</td>\n",
       "      <td>-2.726281</td>\n",
       "      <td>-0.351755</td>\n",
       "    </tr>\n",
       "    <tr>\n",
       "      <th>25%</th>\n",
       "      <td>183.500000</td>\n",
       "      <td>-0.724575</td>\n",
       "      <td>-0.157418</td>\n",
       "      <td>-2.345952</td>\n",
       "      <td>0.028574</td>\n",
       "    </tr>\n",
       "    <tr>\n",
       "      <th>50%</th>\n",
       "      <td>394.000000</td>\n",
       "      <td>-0.567929</td>\n",
       "      <td>-0.000771</td>\n",
       "      <td>-2.183373</td>\n",
       "      <td>0.191153</td>\n",
       "    </tr>\n",
       "    <tr>\n",
       "      <th>75%</th>\n",
       "      <td>590.500000</td>\n",
       "      <td>-0.385660</td>\n",
       "      <td>0.181498</td>\n",
       "      <td>-2.010294</td>\n",
       "      <td>0.364232</td>\n",
       "    </tr>\n",
       "    <tr>\n",
       "      <th>max</th>\n",
       "      <td>786.000000</td>\n",
       "      <td>1.313587</td>\n",
       "      <td>1.880744</td>\n",
       "      <td>-0.326658</td>\n",
       "      <td>2.047868</td>\n",
       "    </tr>\n",
       "  </tbody>\n",
       "</table>\n",
       "</div>"
      ],
      "text/plain": [
       "              API  GasCum360_INF  GasCum360_SUP  OilCum360_INF  OilCum360_SUP\n",
       "count  235.000000     235.000000     235.000000     235.000000     235.000000\n",
       "mean   392.697872      -0.520754       0.046404      -2.137073       0.237453\n",
       "std    231.284979       0.328423       0.328423       0.360377       0.360377\n",
       "min      3.000000      -1.172324      -0.605166      -2.726281      -0.351755\n",
       "25%    183.500000      -0.724575      -0.157418      -2.345952       0.028574\n",
       "50%    394.000000      -0.567929      -0.000771      -2.183373       0.191153\n",
       "75%    590.500000      -0.385660       0.181498      -2.010294       0.364232\n",
       "max    786.000000       1.313587       1.880744      -0.326658       2.047868"
      ]
     },
     "execution_count": 44,
     "metadata": {},
     "output_type": "execute_result"
    }
   ],
   "source": [
    "output.describe()"
   ]
=======
>>>>>>> 6f8fce61c34ea4ba405e99c53fdb465e00944a09
  }
 ],
 "metadata": {
  "anaconda-cloud": {},
  "celltoolbar": "Edit Metadata",
  "kernelspec": {
   "display_name": "Python 3",
   "language": "python",
   "name": "python3"
  },
  "language_info": {
   "codemirror_mode": {
    "name": "ipython",
    "version": 3
   },
   "file_extension": ".py",
   "mimetype": "text/x-python",
   "name": "python",
   "nbconvert_exporter": "python",
   "pygments_lexer": "ipython3",
   "version": "3.6.4"
  }
 },
 "nbformat": 4,
 "nbformat_minor": 2
}
