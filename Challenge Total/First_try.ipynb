{
 "cells": [
  {
   "cell_type": "code",
   "execution_count": 1,
   "metadata": {
    "collapsed": false,
    "deletable": true,
    "editable": true
   },
   "outputs": [],
   "source": [
    "import numpy as np\n",
    "import pandas as pd\n",
    "import matplotlib.pyplot as plt\n",
    "import seaborn as sns\n",
    "from sklearn.linear_model import ElasticNet\n",
    "from sklearn.svm import SVR\n",
    "from sklearn.multioutput import MultiOutputRegressor\n",
    "from sklearn.ensemble import AdaBoostRegressor\n",
    "\n",
    "%matplotlib inline"
   ]
  },
  {
   "cell_type": "code",
   "execution_count": 2,
   "metadata": {
    "collapsed": false,
    "deletable": true,
    "editable": true,
    "scrolled": true
   },
   "outputs": [],
   "source": [
    "names = ['API','Surf_X','Surf_Y','Date_Drilling','Date_Completion','Date_Production','Lateral_Length','Depth_TVD_PPLS','Erosion_PPLS','Pressure_PPLS','TOC_PPLS','Vcarb_PPLS','Vsand_PPLS','Vclay_PPLS','PR_PPLS','YM_PPLS','RHOB_PPLS','Res_PPLS','GR_PPLS','DT_PPLS','DTs_PPLS','Temperature','Temp_Anomaly','S3Tect_PPLS','S3_contrast_PPLS','Heat_Flow','Zone','Nbr_Stages','Frac_Gradient','Proppant_Designed','Proppant_in_Formation','Avg_Breakdown_Pressure','Avg_Treating_Pressure','Max_Treating_pressure','Min_Treating_Pressure','Avg_Rate_Slurry','Max_Rate_Slurry','Min_Rate_Slurry','ShutInPressure_Fil','ShutInPressure_Initial','ISIP','Shot_Density','Shot_Total','Proppant_per_ft','Stage_Spacing','GasCum360','OilCum360']\n",
    "\n",
    "df_data = pd.read_csv('./TrainSample.csv', \n",
    "                        header = None, \n",
    "                        sep = ';',\n",
    "                        decimal = ',',\n",
    "                        names = names,\n",
    "                        skiprows = 1,\n",
    "                        index_col=0,\n",
    "                        parse_dates = ['Date_Drilling','Date_Completion','Date_Production'],\n",
    "                        dtype = {col: np.float32 for col in names}\n",
    "                       )\n",
    "\n",
    "df_test = pd.read_csv('./TestSample.csv',\n",
    "                      header = None, \n",
    "                      sep = ';', \n",
    "                      decimal = ',', \n",
    "                      names = names,\n",
    "                      skiprows = 1,\n",
    "                      index_col=0,\n",
    "                      parse_dates = ['Date_Drilling','Date_Completion','Date_Production'],\n",
    "                      dtype = {col: np.float32 for col in names}\n",
    "                     )\n",
    "\n"
   ]
  },
  {
   "cell_type": "code",
   "execution_count": 3,
   "metadata": {
    "collapsed": false,
    "deletable": true,
    "editable": true
   },
   "outputs": [],
   "source": [
    "## Outliers\n",
    "\n",
    "df_data.loc[746, 'Frac_Gradient'] = np.nan\n",
    "df_data.loc[553, 'ISIP'] = np.nan\n",
    "df_data.loc[681, 'Min_Rate_Slurry'] = np.nan\n",
    "df_data.loc[424, 'Res_PPLS'] = np.nan\n",
    "df_data.loc[456, 'ShutInPressure_Fil'] = np.nan\n",
    "df_data.loc[723, 'Min_Treating_Pressure'] = np.nan\n",
    "df_data.loc[205, 'Min_Treating_Pressure'] = np.nan"
   ]
  },
  {
   "cell_type": "code",
   "execution_count": 4,
   "metadata": {
    "collapsed": false,
    "deletable": true,
    "editable": true
   },
   "outputs": [],
   "source": [
    "data_mean_gas = df_data[['GasCum360']].mean()\n",
    "data_mean_oil = df_data[['OilCum360']].mean()"
   ]
  },
  {
   "cell_type": "code",
   "execution_count": 5,
   "metadata": {
    "collapsed": false,
    "deletable": true,
    "editable": true
   },
   "outputs": [],
   "source": [
    "##Définition des labels\n",
    "\n",
    "y_gas = {'GasCum360' : df_data['GasCum360']}\n",
    "y_oil = {'OilCum360' : df_data['OilCum360']}\n",
    "\n",
    "df_target_gas = pd.DataFrame(y_gas)\n",
    "df_target_oil = pd.DataFrame(y_oil)"
   ]
  },
  {
   "cell_type": "code",
   "execution_count": 6,
   "metadata": {
    "collapsed": true,
    "deletable": true,
    "editable": true
   },
   "outputs": [],
   "source": [
    "cols_date = ['Date_Drilling','Date_Completion','Date_Production', 'GasCum360', 'OilCum360']\n",
    "\n",
    "df_data.drop(cols_date, 1, inplace=True)\n",
    "df_test.drop(cols_date, 1, inplace=True)"
   ]
  },
  {
   "cell_type": "code",
   "execution_count": 7,
   "metadata": {
    "collapsed": false,
    "deletable": true,
    "editable": true
   },
   "outputs": [],
   "source": [
    "df_data.dropna()\n",
    "df_test.dropna()\n",
    "df_data = df_data.fillna(df_data.mean())\n",
    "df_test = df_test.fillna(df_data.mean())"
   ]
  },
  {
   "cell_type": "code",
   "execution_count": 8,
   "metadata": {
    "collapsed": false,
    "deletable": true,
    "editable": true
   },
   "outputs": [
    {
     "name": "stderr",
     "output_type": "stream",
     "text": [
      "C:\\Users\\COCHE\\Anaconda2\\lib\\site-packages\\sklearn\\cross_validation.py:44: DeprecationWarning: This module was deprecated in version 0.18 in favor of the model_selection module into which all the refactored classes and functions are moved. Also note that the interface of the new CV iterators are different from that of this module. This module will be removed in 0.20.\n",
      "  \"This module will be removed in 0.20.\", DeprecationWarning)\n"
     ]
    }
   ],
   "source": [
    "from sklearn import cross_validation\n",
    "\n",
    "X_train, X_test, y_train_gas, y_test_gas = cross_validation.train_test_split(df_data, df_target_gas, test_size=0.2, random_state=0)\n",
    "X_train, X_test, y_train_oil, y_test_oil = cross_validation.train_test_split(df_data, df_target_oil, test_size=0.2, random_state=0)"
   ]
  },
  {
   "cell_type": "raw",
   "metadata": {
    "deletable": true,
    "editable": true
   },
   "source": [
    "def correlation(data):\n",
    "    correlation = data.corr()\n",
    "    figure = plt.subplots( figsize =( 12 , 10 ) )\n",
    "    color_map = sns.diverging_palette( 220 , 10 , as_cmap = True )\n",
    "    figure = sns.heatmap(\n",
    "        correlation, \n",
    "        cmap = color_map, \n",
    "        annot = True, \n",
    "        annot_kws = { 'fontsize' : 2 }\n",
    "    )\n",
    "    \n",
    "correlation(df_train)"
   ]
  },
  {
   "cell_type": "code",
   "execution_count": 31,
   "metadata": {
    "collapsed": false,
    "deletable": true,
    "editable": true
   },
   "outputs": [],
   "source": [
    "## Algorithme - Choix des paramètres\n",
    "\n",
    "\n",
    "from sklearn.tree import DecisionTreeRegressor\n",
    "from sklearn.svm import SVR\n",
    "\n",
    "# Build classifier\n",
    "\n",
    "regr_gas = AdaBoostRegressor()\n",
    "regr_oil = AdaBoostRegressor()\n",
    "\n"
   ]
  },
  {
   "cell_type": "raw",
   "metadata": {},
   "source": [
    "clf_gas = AdaBoostRegressor(n_estimators=41, learning_rate=0.23, loss='exponential')\n",
    "clf_oil = AdaBoostRegressor(n_estimators=53, learning_rate=0.16, loss='exponential')"
   ]
  },
  {
   "cell_type": "code",
   "execution_count": 32,
   "metadata": {
    "collapsed": true,
    "deletable": true,
    "editable": true
   },
   "outputs": [],
   "source": [
    "# Specify parameters and distributions to sample form\n",
    "\n",
    "from sklearn.model_selection import GridSearchCV\n",
    "\n",
    "n_iter = 50\n",
    "\n",
    "param_dist_oil = {\n",
    "    \"n_estimators\": [x for x in range(40, 60, 1)],\n",
    "    \"learning_rate\": [0.16],\n",
    "    \"loss\": ['exponential']\n",
    "}\n",
    "clf_oil = GridSearchCV(regr_oil, param_grid=param_dist_oil, n_jobs=n_iter)\n",
    "\n",
    "param_dist_gas = {\n",
    "    \"n_estimators\": [41],\n",
    "    \"learning_rate\": [0.23],\n",
    "    \"loss\": ['exponential']\n",
    "}\n",
    "\n",
    "clf_gas = GridSearchCV(regr_gas, param_grid=param_dist_gas, n_jobs=n_iter)"
   ]
  },
  {
   "cell_type": "raw",
   "metadata": {
    "collapsed": false,
    "deletable": true,
    "editable": true
   },
   "source": [
    "## Fit regression model training\n",
    "\n",
    "clf_gas.fit(X_train, y_train_gas.values)\n",
    "\n",
    "y_predict_gas = clf_gas.predict(X_test)"
   ]
  },
  {
   "cell_type": "code",
   "execution_count": 33,
   "metadata": {
    "collapsed": false,
    "deletable": true,
    "editable": true
   },
   "outputs": [],
   "source": [
    "clf_oil.fit(X_train, y_train_oil.values)\n",
    "y_predict_oil = clf_oil.predict(X_test)"
   ]
  },
  {
   "cell_type": "code",
   "execution_count": 34,
   "metadata": {
    "collapsed": false,
    "deletable": true,
    "editable": true,
    "scrolled": true
   },
   "outputs": [
    {
     "name": "stdout",
     "output_type": "stream",
     "text": [
      "Erreur Moyenne absolue : 0.43748671347\n",
      "Erreur Moyenne carré : 0.309868346042\n",
      "R2 : 0.603908590843\n"
     ]
    }
   ],
   "source": [
    "## Metrics training gas \n",
    "\n",
    "from sklearn.metrics import mean_absolute_error\n",
    "from sklearn.metrics import mean_squared_error\n",
    "from sklearn.metrics import r2_score\n",
    "\n",
    "retour = 'Erreur Moyenne absolue : {}\\n\\\n",
    "Erreur Moyenne carré : {}\\n\\\n",
    "R2 : {}'.format(mean_absolute_error(y_test_gas, y_predict_gas),\n",
    "                mean_squared_error(y_test_gas, y_predict_gas),\n",
    "                r2_score(y_test_gas, y_predict_gas),\n",
    "               )\n",
    "\n",
    "print(retour)"
   ]
  },
  {
   "cell_type": "code",
   "execution_count": 35,
   "metadata": {
    "collapsed": false,
    "deletable": true,
    "editable": true
   },
   "outputs": [
    {
     "name": "stdout",
     "output_type": "stream",
     "text": [
      "Erreur Moyenne absolue : 0.378223308329\n",
      "Erreur Moyenne carré : 0.263470389569\n",
      "R2 : 0.69143147433\n"
     ]
    }
   ],
   "source": [
    "## Metrics training oil\n",
    "\n",
    "from sklearn.metrics import mean_absolute_error\n",
    "from sklearn.metrics import mean_squared_error\n",
    "from sklearn.metrics import r2_score\n",
    "\n",
    "retour = 'Erreur Moyenne absolue : {}\\n\\\n",
    "Erreur Moyenne carré : {}\\n\\\n",
    "R2 : {}'.format(mean_absolute_error(y_test_oil, y_predict_oil),\n",
    "                mean_squared_error(y_test_oil, y_predict_oil),\n",
    "                r2_score(y_test_oil, y_predict_oil)               \n",
    "               )\n",
    "\n",
    "print(retour)"
   ]
  },
  {
   "cell_type": "code",
   "execution_count": 37,
   "metadata": {
    "collapsed": false
   },
   "outputs": [
    {
     "data": {
      "text/plain": [
       "{'learning_rate': 0.16, 'loss': 'exponential', 'n_estimators': 54}"
      ]
     },
     "execution_count": 37,
     "metadata": {},
     "output_type": "execute_result"
    }
   ],
   "source": [
    "clf_oil.best_params_"
   ]
  },
  {
   "cell_type": "code",
   "execution_count": 19,
   "metadata": {
    "collapsed": false,
    "deletable": true,
    "editable": true
   },
   "outputs": [],
   "source": [
    "## Fit regression model test data\n",
    "\n",
    "clf_gas.fit(df_data, df_target_gas)\n",
    "clf_oil.fit(df_data, df_target_oil)\n",
    "\n",
    "y_predictFin_gas = clf_gas.predict(df_test)\n",
    "y_predictFin_oil = clf_oil.predict(df_test)"
   ]
  },
  {
   "cell_type": "code",
   "execution_count": 26,
   "metadata": {
    "collapsed": false,
    "deletable": true,
    "editable": true
   },
   "outputs": [
    {
     "data": {
      "text/plain": [
       "<function tolist>"
      ]
     },
     "execution_count": 26,
     "metadata": {},
     "output_type": "execute_result"
    }
   ],
   "source": [
    "gascumpred = []\n",
    "oilcumpred = []\n",
    "\n",
    "gascumpred = [element for element in y_predictFin_gas]\n",
    "oilcumpred = [element for element in y_predictFin_oil]\n",
    "\n",
    "gascumpred_mean = mean_absolute_error(y_test_gas, y_predict_gas)\n",
    "oilcumpred_mean = mean_absolute_error(y_test_oil, y_predict_oil)\n",
    "\n",
    "GasCum360_inf = gascumpred - abs(gascumpred_mean)\n",
    "GasCum360_sup = gascumpred + abs(gascumpred_mean)\n",
    "\n",
    "OilCum360_inf = oilcumpred - abs(oilcumpred_mean)\n",
    "OilCum360_sup = oilcumpred + abs(oilcumpred_mean)\n",
    "\n",
    "GasCum360_inf.tolist\n",
    "GasCum360_sup.tolist\n",
    "\n",
    "OilCum360_inf.tolist\n",
    "OilCum360_sup.tolist"
   ]
  },
  {
   "cell_type": "code",
   "execution_count": 27,
   "metadata": {
    "collapsed": false,
    "deletable": true,
    "editable": true
   },
   "outputs": [
    {
     "data": {
      "text/plain": [
       "array([-0.46662758,  0.99059787, -0.44271366, -0.63296575, -0.60025688,\n",
       "        0.17840302,  0.17716106, -0.5188524 , -0.38211596, -0.36759049])"
      ]
     },
     "execution_count": 27,
     "metadata": {},
     "output_type": "execute_result"
    }
   ],
   "source": [
    "y_predict_gas[:10]"
   ]
  },
  {
   "cell_type": "code",
   "execution_count": 28,
   "metadata": {
    "collapsed": false,
    "deletable": true,
    "editable": true
   },
   "outputs": [
    {
     "data": {
      "text/html": [
       "<div>\n",
       "<table border=\"1\" class=\"dataframe\">\n",
       "  <thead>\n",
       "    <tr style=\"text-align: right;\">\n",
       "      <th></th>\n",
       "      <th>GasCum360</th>\n",
       "    </tr>\n",
       "    <tr>\n",
       "      <th>API</th>\n",
       "      <th></th>\n",
       "    </tr>\n",
       "  </thead>\n",
       "  <tbody>\n",
       "    <tr>\n",
       "      <th>521.0</th>\n",
       "      <td>-1.056089</td>\n",
       "    </tr>\n",
       "    <tr>\n",
       "      <th>38.0</th>\n",
       "      <td>-0.036146</td>\n",
       "    </tr>\n",
       "    <tr>\n",
       "      <th>471.0</th>\n",
       "      <td>-0.150183</td>\n",
       "    </tr>\n",
       "    <tr>\n",
       "      <th>81.0</th>\n",
       "      <td>-0.798361</td>\n",
       "    </tr>\n",
       "    <tr>\n",
       "      <th>237.0</th>\n",
       "      <td>-0.990523</td>\n",
       "    </tr>\n",
       "    <tr>\n",
       "      <th>442.0</th>\n",
       "      <td>-0.842177</td>\n",
       "    </tr>\n",
       "    <tr>\n",
       "      <th>375.0</th>\n",
       "      <td>0.419826</td>\n",
       "    </tr>\n",
       "    <tr>\n",
       "      <th>610.0</th>\n",
       "      <td>-0.879051</td>\n",
       "    </tr>\n",
       "    <tr>\n",
       "      <th>706.0</th>\n",
       "      <td>-0.338057</td>\n",
       "    </tr>\n",
       "    <tr>\n",
       "      <th>607.0</th>\n",
       "      <td>-0.605402</td>\n",
       "    </tr>\n",
       "  </tbody>\n",
       "</table>\n",
       "</div>"
      ],
      "text/plain": [
       "       GasCum360\n",
       "API             \n",
       "521.0  -1.056089\n",
       "38.0   -0.036146\n",
       "471.0  -0.150183\n",
       "81.0   -0.798361\n",
       "237.0  -0.990523\n",
       "442.0  -0.842177\n",
       "375.0   0.419826\n",
       "610.0  -0.879051\n",
       "706.0  -0.338057\n",
       "607.0  -0.605402"
      ]
     },
     "execution_count": 28,
     "metadata": {},
     "output_type": "execute_result"
    }
   ],
   "source": [
    "y_test_gas.head(10)"
   ]
  },
  {
   "cell_type": "code",
   "execution_count": 29,
   "metadata": {
    "collapsed": false,
    "deletable": true,
    "editable": true
   },
   "outputs": [],
   "source": [
    "## Output\n",
    "\n",
    "id_test = df_test.index.tolist()\n",
    "\n",
    "output = pd.DataFrame({'API': id_test,\n",
    "                       'GasCum360_INF': GasCum360_inf,\n",
    "                       'GasCum360_SUP': GasCum360_sup,\n",
    "                       'OilCum360_INF': OilCum360_inf,\n",
    "                       'OilCum360_SUP': OilCum360_sup},\n",
    "                      index=id_test\n",
    "                     )\n",
    "\n",
    "output.head()\n",
    "\n",
    "output.to_csv('coche-julien-challenge-total.csv', index=False, sep= ';', decimal=',')"
   ]
  },
  {
   "cell_type": "code",
   "execution_count": 30,
   "metadata": {
    "collapsed": false,
    "deletable": true,
    "editable": true
   },
   "outputs": [
    {
     "name": "stdout",
     "output_type": "stream",
     "text": [
      "         API  GasCum360_INF  GasCum360_SUP  OilCum360_INF  OilCum360_SUP\n",
      "633.0  633.0      -0.999684      -0.124711       0.084682       0.840552\n",
      "587.0  587.0       0.574497       1.449471      -1.124173      -0.368303\n",
      "264.0  264.0       0.403615       1.278589      -1.093547      -0.337676\n",
      "680.0  680.0       0.219419       1.094392      -1.123814      -0.367944\n",
      "443.0  443.0       0.116703       0.991676      -0.257412       0.498459\n"
     ]
    }
   ],
   "source": [
    "print(output.head(5))"
   ]
  },
  {
   "cell_type": "raw",
   "metadata": {
    "deletable": true,
    "editable": true
   },
   "source": [
    "Rappport 1 :\n",
    "\n",
    "Importation correcte des données\n",
    "Début du travail exploratoire, affichage du head et description des données\n",
    "Beaucoup de colonnes sont incomplètes => identification et élimination de ces colonnes\n",
    "Observation des composantes corrélées.\n",
    "\n",
    "Rapport 2 :\n",
    "\n",
    "Elimination des colonnes incomplètes\n",
    "Exploration des données de sorties\n",
    "Choix de l'algorithme - DecisionTreeRegressor / AdaBoost\n",
    "\n",
    "Rapport 3 :\n",
    "\n",
    "Fin elimination des colonnes incompletes\n",
    "Fin du formatage des données\n",
    "Debut mise en place de la cross_validation\n",
    "Debut mise en place des metrics\n",
    "\n",
    "Rapport 4 :\n",
    "\n",
    "Metrics misent en place\n",
    "Cross validation terminées\n",
    "Finir de modifier l'algorithme\n",
    "Trouver une surface acceptable\n",
    "\n",
    "Utiliser un K-fold\n",
    "Identifier les composantes principales\n",
    "Trouver les meilleurs paramètres pour l'algorithme\n",
    "Imputer les valeurs manquantes\n",
    "Utiliser un réseau de neuronnes"
   ]
  }
 ],
 "metadata": {
  "anaconda-cloud": {},
  "celltoolbar": "Edit Metadata",
  "kernelspec": {
   "display_name": "Python [conda root]",
   "language": "python",
   "name": "conda-root-py"
  },
  "language_info": {
   "codemirror_mode": {
    "name": "ipython",
    "version": 2
   },
   "file_extension": ".py",
   "mimetype": "text/x-python",
   "name": "python",
   "nbconvert_exporter": "python",
   "pygments_lexer": "ipython2",
   "version": "2.7.12"
  }
 },
 "nbformat": 4,
 "nbformat_minor": 2
}
