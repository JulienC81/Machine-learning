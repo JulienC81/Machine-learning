{
 "cells": [
  {
   "cell_type": "code",
   "execution_count": 1,
   "metadata": {},
   "outputs": [],
   "source": [
    "import numpy as np\n",
    "import pandas as pd\n",
    "import matplotlib.pyplot as plt\n",
    "import seaborn as sns\n",
    "%matplotlib inline"
   ]
  },
  {
   "cell_type": "code",
   "execution_count": 15,
   "metadata": {},
   "outputs": [
    {
     "name": "stdout",
     "output_type": "stream",
     "text": [
      "460 66\n"
     ]
    },
    {
     "name": "stderr",
     "output_type": "stream",
     "text": [
      "b'Skipping line 3: expected 41 fields, saw 42\\nSkipping line 4: expected 41 fields, saw 42\\nSkipping line 5: expected 41 fields, saw 42\\nSkipping line 7: expected 41 fields, saw 42\\nSkipping line 10: expected 41 fields, saw 42\\nSkipping line 11: expected 41 fields, saw 42\\nSkipping line 13: expected 41 fields, saw 42\\nSkipping line 14: expected 41 fields, saw 42\\nSkipping line 15: expected 41 fields, saw 42\\nSkipping line 16: expected 41 fields, saw 42\\nSkipping line 17: expected 41 fields, saw 42\\nSkipping line 18: expected 41 fields, saw 42\\nSkipping line 19: expected 41 fields, saw 42\\nSkipping line 20: expected 41 fields, saw 42\\nSkipping line 21: expected 41 fields, saw 42\\nSkipping line 22: expected 41 fields, saw 42\\nSkipping line 23: expected 41 fields, saw 42\\nSkipping line 24: expected 41 fields, saw 42\\nSkipping line 25: expected 41 fields, saw 42\\nSkipping line 28: expected 41 fields, saw 42\\nSkipping line 30: expected 41 fields, saw 42\\nSkipping line 33: expected 41 fields, saw 42\\nSkipping line 34: expected 41 fields, saw 42\\nSkipping line 35: expected 41 fields, saw 42\\nSkipping line 36: expected 41 fields, saw 42\\nSkipping line 37: expected 41 fields, saw 42\\nSkipping line 40: expected 41 fields, saw 42\\nSkipping line 44: expected 41 fields, saw 42\\nSkipping line 45: expected 41 fields, saw 42\\nSkipping line 46: expected 41 fields, saw 42\\nSkipping line 47: expected 41 fields, saw 42\\nSkipping line 48: expected 41 fields, saw 42\\nSkipping line 49: expected 41 fields, saw 42\\nSkipping line 50: expected 41 fields, saw 42\\nSkipping line 52: expected 41 fields, saw 42\\nSkipping line 53: expected 41 fields, saw 42\\nSkipping line 54: expected 41 fields, saw 42\\nSkipping line 55: expected 41 fields, saw 42\\nSkipping line 56: expected 41 fields, saw 42\\nSkipping line 59: expected 41 fields, saw 42\\nSkipping line 60: expected 41 fields, saw 42\\nSkipping line 61: expected 41 fields, saw 42\\nSkipping line 62: expected 41 fields, saw 42\\nSkipping line 63: expected 41 fields, saw 42\\nSkipping line 64: expected 41 fields, saw 42\\nSkipping line 65: expected 41 fields, saw 42\\nSkipping line 66: expected 41 fields, saw 42\\nSkipping line 67: expected 41 fields, saw 42\\nSkipping line 70: expected 41 fields, saw 42\\nSkipping line 71: expected 41 fields, saw 42\\nSkipping line 72: expected 41 fields, saw 42\\nSkipping line 73: expected 41 fields, saw 42\\nSkipping line 74: expected 41 fields, saw 42\\nSkipping line 76: expected 41 fields, saw 42\\nSkipping line 77: expected 41 fields, saw 42\\nSkipping line 78: expected 41 fields, saw 42\\nSkipping line 79: expected 41 fields, saw 42\\nSkipping line 80: expected 41 fields, saw 42\\nSkipping line 83: expected 41 fields, saw 42\\nSkipping line 84: expected 41 fields, saw 42\\nSkipping line 87: expected 41 fields, saw 42\\nSkipping line 88: expected 41 fields, saw 42\\nSkipping line 89: expected 41 fields, saw 42\\nSkipping line 90: expected 41 fields, saw 42\\nSkipping line 91: expected 41 fields, saw 42\\nSkipping line 93: expected 41 fields, saw 42\\nSkipping line 95: expected 41 fields, saw 42\\nSkipping line 96: expected 41 fields, saw 42\\nSkipping line 98: expected 41 fields, saw 42\\nSkipping line 99: expected 41 fields, saw 42\\nSkipping line 100: expected 41 fields, saw 42\\nSkipping line 101: expected 41 fields, saw 42\\nSkipping line 103: expected 41 fields, saw 42\\nSkipping line 104: expected 41 fields, saw 42\\nSkipping line 105: expected 41 fields, saw 42\\nSkipping line 108: expected 41 fields, saw 42\\nSkipping line 109: expected 41 fields, saw 42\\nSkipping line 111: expected 41 fields, saw 42\\nSkipping line 112: expected 41 fields, saw 42\\nSkipping line 113: expected 41 fields, saw 42\\nSkipping line 114: expected 41 fields, saw 42\\nSkipping line 116: expected 41 fields, saw 42\\nSkipping line 118: expected 41 fields, saw 42\\nSkipping line 120: expected 41 fields, saw 42\\nSkipping line 121: expected 41 fields, saw 42\\nSkipping line 122: expected 41 fields, saw 42\\nSkipping line 123: expected 41 fields, saw 42\\nSkipping line 124: expected 41 fields, saw 42\\nSkipping line 125: expected 41 fields, saw 42\\nSkipping line 126: expected 41 fields, saw 42\\nSkipping line 127: expected 41 fields, saw 42\\nSkipping line 128: expected 41 fields, saw 42\\nSkipping line 129: expected 41 fields, saw 42\\nSkipping line 133: expected 41 fields, saw 42\\nSkipping line 134: expected 41 fields, saw 42\\nSkipping line 135: expected 41 fields, saw 42\\nSkipping line 136: expected 41 fields, saw 42\\nSkipping line 137: expected 41 fields, saw 42\\nSkipping line 139: expected 41 fields, saw 42\\nSkipping line 141: expected 41 fields, saw 42\\nSkipping line 144: expected 41 fields, saw 42\\nSkipping line 146: expected 41 fields, saw 42\\nSkipping line 147: expected 41 fields, saw 42\\nSkipping line 148: expected 41 fields, saw 42\\nSkipping line 149: expected 41 fields, saw 42\\nSkipping line 150: expected 41 fields, saw 42\\nSkipping line 151: expected 41 fields, saw 42\\nSkipping line 152: expected 41 fields, saw 42\\nSkipping line 153: expected 41 fields, saw 42\\nSkipping line 154: expected 41 fields, saw 42\\nSkipping line 155: expected 41 fields, saw 42\\nSkipping line 156: expected 41 fields, saw 42\\nSkipping line 157: expected 41 fields, saw 42\\nSkipping line 158: expected 41 fields, saw 42\\nSkipping line 160: expected 41 fields, saw 42\\nSkipping line 161: expected 41 fields, saw 42\\nSkipping line 162: expected 41 fields, saw 42\\nSkipping line 163: expected 41 fields, saw 42\\nSkipping line 164: expected 41 fields, saw 42\\nSkipping line 165: expected 41 fields, saw 42\\nSkipping line 166: expected 41 fields, saw 42\\nSkipping line 167: expected 41 fields, saw 42\\nSkipping line 168: expected 41 fields, saw 42\\nSkipping line 169: expected 41 fields, saw 42\\nSkipping line 171: expected 41 fields, saw 42\\nSkipping line 172: expected 41 fields, saw 42\\nSkipping line 173: expected 41 fields, saw 42\\nSkipping line 174: expected 41 fields, saw 42\\nSkipping line 175: expected 41 fields, saw 42\\nSkipping line 176: expected 41 fields, saw 42\\nSkipping line 180: expected 41 fields, saw 42\\nSkipping line 184: expected 41 fields, saw 42\\nSkipping line 186: expected 41 fields, saw 42\\nSkipping line 187: expected 41 fields, saw 42\\nSkipping line 188: expected 41 fields, saw 42\\nSkipping line 189: expected 41 fields, saw 42\\nSkipping line 190: expected 41 fields, saw 42\\nSkipping line 191: expected 41 fields, saw 42\\nSkipping line 192: expected 41 fields, saw 42\\nSkipping line 193: expected 41 fields, saw 42\\nSkipping line 194: expected 41 fields, saw 42\\nSkipping line 195: expected 41 fields, saw 42\\nSkipping line 197: expected 41 fields, saw 42\\nSkipping line 198: expected 41 fields, saw 42\\nSkipping line 199: expected 41 fields, saw 42\\nSkipping line 200: expected 41 fields, saw 42\\nSkipping line 201: expected 41 fields, saw 42\\nSkipping line 202: expected 41 fields, saw 42\\nSkipping line 204: expected 41 fields, saw 42\\nSkipping line 205: expected 41 fields, saw 42\\nSkipping line 209: expected 41 fields, saw 42\\nSkipping line 210: expected 41 fields, saw 42\\nSkipping line 211: expected 41 fields, saw 42\\nSkipping line 212: expected 41 fields, saw 42\\nSkipping line 213: expected 41 fields, saw 42\\nSkipping line 214: expected 41 fields, saw 42\\nSkipping line 216: expected 41 fields, saw 42\\nSkipping line 217: expected 41 fields, saw 42\\nSkipping line 218: expected 41 fields, saw 42\\nSkipping line 220: expected 41 fields, saw 42\\nSkipping line 221: expected 41 fields, saw 42\\nSkipping line 225: expected 41 fields, saw 42\\nSkipping line 226: expected 41 fields, saw 42\\nSkipping line 231: expected 41 fields, saw 42\\nSkipping line 232: expected 41 fields, saw 42\\nSkipping line 233: expected 41 fields, saw 42\\nSkipping line 234: expected 41 fields, saw 42\\nSkipping line 235: expected 41 fields, saw 42\\nSkipping line 236: expected 41 fields, saw 42\\n'\n"
     ]
    }
   ],
   "source": [
    "data_train = pd.read_csv('/home/jcoche/machine-learning/Challenge Total/TrainSample.csv', separator )\n",
    "\n",
    "print(data_train)"
   ]
  },
  {
   "cell_type": "code",
   "execution_count": 8,
   "metadata": {},
   "outputs": [
    {
     "data": {
      "text/html": [
       "<div>\n",
       "<style scoped>\n",
       "    .dataframe tbody tr th:only-of-type {\n",
       "        vertical-align: middle;\n",
       "    }\n",
       "\n",
       "    .dataframe tbody tr th {\n",
       "        vertical-align: top;\n",
       "    }\n",
       "\n",
       "    .dataframe thead th {\n",
       "        text-align: right;\n",
       "    }\n",
       "</style>\n",
       "<table border=\"1\" class=\"dataframe\">\n",
       "  <thead>\n",
       "    <tr style=\"text-align: right;\">\n",
       "      <th></th>\n",
       "      <th>API;Surf_X;Surf_Y;Date_Drilling;Date_Completion;Date_Production;Lateral_Length (ft);Depth_TVD_PPLS (ft);Erosion_PPLS (ft);Pressure_PPLS (PSI);TOC_PPLS (%);Vcarb_PPLS;Vsand_PPLS;Vclay_PPLS;PR_PPLS;YM_PPLS (PSI);RHOB_PPLS (g/cc);Res_PPLS (Ohmm);GR_PPLS (API);DT_PPLS (us/ft);DTs_PPLS (us/ft);Temperature (F);Temp_Anomaly (F);S3Tect_PPLS (PSI);S3_contrast_PPLS (PSI);Heat_Flow (W/m2);Zone;Nbr_Stages;Frac_Gradient (PSI/ft);Proppant_Designed (kg);Proppant_in_Formation (kg);Avg_Breakdown_Pressure (KPa);Avg_Treating_Pressure (KPa);Max_Treating_pressure (KPa);Min_Treating_Pressure (KPa);Avg_Rate_Slurry (bpm);Max_Rate_Slurry (bpm);Min_Rate_Slurry (bpm);ShutInPressure_Fil (KPa);ShutInPressure_Initial (KPa);ISIP (KPa);Shot_Density (shots/ft);Shot_Total;Proppant_per_ft (kg/ft);Stage_Spacing (ft);GasCum360;OilCum360</th>\n",
       "    </tr>\n",
       "  </thead>\n",
       "  <tbody>\n",
       "    <tr>\n",
       "      <th>count</th>\n",
       "      <td>3.150000e+02</td>\n",
       "    </tr>\n",
       "    <tr>\n",
       "      <th>mean</th>\n",
       "      <td>4.593131e+08</td>\n",
       "    </tr>\n",
       "    <tr>\n",
       "      <th>std</th>\n",
       "      <td>2.995077e+08</td>\n",
       "    </tr>\n",
       "    <tr>\n",
       "      <th>min</th>\n",
       "      <td>1.763450e+05</td>\n",
       "    </tr>\n",
       "    <tr>\n",
       "      <th>25%</th>\n",
       "      <td>1.627745e+08</td>\n",
       "    </tr>\n",
       "    <tr>\n",
       "      <th>50%</th>\n",
       "      <td>4.751341e+08</td>\n",
       "    </tr>\n",
       "    <tr>\n",
       "      <th>75%</th>\n",
       "      <td>7.709836e+08</td>\n",
       "    </tr>\n",
       "    <tr>\n",
       "      <th>max</th>\n",
       "      <td>9.756032e+08</td>\n",
       "    </tr>\n",
       "  </tbody>\n",
       "</table>\n",
       "</div>"
      ],
      "text/plain": [
       "       API;Surf_X;Surf_Y;Date_Drilling;Date_Completion;Date_Production;Lateral_Length (ft);Depth_TVD_PPLS (ft);Erosion_PPLS (ft);Pressure_PPLS (PSI);TOC_PPLS (%);Vcarb_PPLS;Vsand_PPLS;Vclay_PPLS;PR_PPLS;YM_PPLS (PSI);RHOB_PPLS (g/cc);Res_PPLS (Ohmm);GR_PPLS (API);DT_PPLS (us/ft);DTs_PPLS (us/ft);Temperature (F);Temp_Anomaly (F);S3Tect_PPLS (PSI);S3_contrast_PPLS (PSI);Heat_Flow (W/m2);Zone;Nbr_Stages;Frac_Gradient (PSI/ft);Proppant_Designed (kg);Proppant_in_Formation (kg);Avg_Breakdown_Pressure (KPa);Avg_Treating_Pressure (KPa);Max_Treating_pressure (KPa);Min_Treating_Pressure (KPa);Avg_Rate_Slurry (bpm);Max_Rate_Slurry (bpm);Min_Rate_Slurry (bpm);ShutInPressure_Fil (KPa);ShutInPressure_Initial (KPa);ISIP (KPa);Shot_Density (shots/ft);Shot_Total;Proppant_per_ft (kg/ft);Stage_Spacing (ft);GasCum360;OilCum360\n",
       "count                                       3.150000e+02                                                                                                                                                                                                                                                                                                                                                                                                                                                                                                                                                                                                                                                                                                                                                                                          \n",
       "mean                                        4.593131e+08                                                                                                                                                                                                                                                                                                                                                                                                                                                                                                                                                                                                                                                                                                                                                                                          \n",
       "std                                         2.995077e+08                                                                                                                                                                                                                                                                                                                                                                                                                                                                                                                                                                                                                                                                                                                                                                                          \n",
       "min                                         1.763450e+05                                                                                                                                                                                                                                                                                                                                                                                                                                                                                                                                                                                                                                                                                                                                                                                          \n",
       "25%                                         1.627745e+08                                                                                                                                                                                                                                                                                                                                                                                                                                                                                                                                                                                                                                                                                                                                                                                          \n",
       "50%                                         4.751341e+08                                                                                                                                                                                                                                                                                                                                                                                                                                                                                                                                                                                                                                                                                                                                                                                          \n",
       "75%                                         7.709836e+08                                                                                                                                                                                                                                                                                                                                                                                                                                                                                                                                                                                                                                                                                                                                                                                          \n",
       "max                                         9.756032e+08                                                                                                                                                                                                                                                                                                                                                                                                                                                                                                                                                                                                                                                                                                                                                                                          "
      ]
     },
     "execution_count": 8,
     "metadata": {},
     "output_type": "execute_result"
    }
   ],
   "source": [
    "data_train.describe()"
   ]
  },
  {
   "cell_type": "code",
   "execution_count": null,
   "metadata": {},
   "outputs": [],
   "source": []
  },
  {
   "cell_type": "code",
   "execution_count": null,
   "metadata": {},
   "outputs": [],
   "source": []
  },
  {
   "cell_type": "code",
   "execution_count": null,
   "metadata": {},
   "outputs": [],
   "source": []
  },
  {
   "cell_type": "code",
   "execution_count": null,
   "metadata": {},
   "outputs": [],
   "source": []
  },
  {
   "cell_type": "code",
   "execution_count": null,
   "metadata": {},
   "outputs": [],
   "source": []
  }
 ],
 "metadata": {
  "kernelspec": {
   "display_name": "Python 3",
   "language": "python",
   "name": "python3"
  },
  "language_info": {
   "codemirror_mode": {
    "name": "ipython",
    "version": 3
   },
   "file_extension": ".py",
   "mimetype": "text/x-python",
   "name": "python",
   "nbconvert_exporter": "python",
   "pygments_lexer": "ipython3",
   "version": "3.5.2"
  }
 },
 "nbformat": 4,
 "nbformat_minor": 2
}
