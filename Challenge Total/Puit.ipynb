{
 "cells": [
  {
   "cell_type": "markdown",
   "metadata": {},
   "source": [
    "# Rapport TOTAL - COCHE Julien\n",
    "\n",
    "Rapport à propos du challenge TOTAL.\n",
    "Ce challenge avait pour but de déterminer la production de futurs puits à partir des données des puits déjà existants.\n",
    "\n",
    "Pour cela, TOTAL a mis à disposition des données géographiques, géologiques et de production.\n",
    "\n",
    "Ce rapport à pour but d'expliquer la démarche de résolution de ce challenge, et de présenter les résultats obtenus.\n",
    "\n",
    "## Démarche\n",
    "\n",
    "### Première itération.\n",
    "\n",
    "Création du modèle de base.\n",
    "\n",
    "Il contient ainsi :\n",
    "\n",
    "- L'extraction des données.\n",
    "- Un jeu de données simple et complet (colonnes incomplètes et dates éliminées).\n",
    "- Un algorithme d'apprentissage simple (Logistic Regression).\n",
    "- Mise en place de premiers indicateurs du modèle.\n",
    "- Exportation des données au format CSV.\n",
    "\n",
    "Ce modèle a pour but de créer une base qui va permettre d'évaluer les prochaines itérations du modèle.\n",
    "\n",
    "Le dataset est \"simple\" et n'utilise pas la totalité des données.\n",
    "Il est alors directement utilisé pour effectuer la prédiction à l'aide du regresseur.\n",
    "\n",
    "### Seconde itération.\n",
    "\n",
    "La seconde itération reprend le modèle précédent.\n",
    "\n",
    "Des améliorations lui sont apportés, notamment :\n",
    "\n",
    "- L'imputation de la moyenne dans les colonnes dont certaines valeurs sont manquantes.\n",
    "- Utilisation d'un algorithme approprié au problème (DecisionTree)\n",
    "- Séparation des données (cross validation) afin d'obtenir une répartition en train/dev/test sets.\n",
    "- Mise en place d'une seconde série d'indicateurs du modèles.\n",
    "\n",
    "Ce nouveau modèle doit permettre une première optimisation du problème.\n",
    "\n",
    "Elle permet notamment d'utiliser une plus grande partie du jeu de données et d'employer un algorithme plus adapté au problème.\n",
    "On sépare également le jeu de données d'entraînement en un train set et un dev set. Ce dernier permettra de juger de l'entraînement du modèle et de la précision de ses prédicitons.\n",
    "Afin d'éviter un éventuel overfitting de l'arbre de décision, on utilise un algorithme de cross validation sur ces jeux de données.\n",
    "\n",
    "### Troisième itération. \n",
    "\n",
    "Ce modèle apporte d'autres améliorations telles que :\n",
    "\n",
    "- Utiliser un K-folds pour séparer les données d'entraînement et les données de validation.\n",
    "- Retrait des artéfacts du jeu de données.\n",
    "- L'intégration des données temporelles au jeu de données, en apportant une interprétation de celles-ci.\n",
    "- L'utilisation d'un nouveau regresseur (GradientBoosting) et optimisation de celui-ci.\n",
    "\n",
    "Ce modèle doit ainsi utiliser au mieux l'ensemble des données disponibles.\n",
    "L'algorithme choisit est sensé fournir de très bons résultats dans le cadre de notre problème.\n",
    "\n",
    "Il n'est cependant peut-être pas l'algorithme le plus adéquat, et cela mériterais une quatrième itération.\n",
    "De même, les données peuvent peut-être être travaillées afin de fournir des composantes pertinentes qui aideraient à entrainer le modèle.\n",
    "\n",
    "## 1 - Exploration du dataset.\n",
    "\n",
    "Pour commencer, on importe les librairies qui seront utiles pour conduire l'analyse."
   ]
  },
  {
   "cell_type": "code",
   "execution_count": 1,
   "metadata": {},
   "outputs": [],
   "source": [
    "%matplotlib inline\n",
    "import numpy as np # Librairie de calculs mathématiques.\n",
    "import pandas as pd # Libriairie de manipulation de données.\n",
    "import matplotlib.pyplot as plt # Librairie d'edition de graphiques.\n",
    "import seaborn as sns # Librairie d'édition de graphiques avancés.\n"
   ]
  },
  {
   "cell_type": "markdown",
   "metadata": {},
   "source": [
    "### Importation des données.\n",
    "\n",
    "On importe alors les données issues du train set et du test set.\n",
    "\n",
    "Pour cela, j'utilise la bibliothèque `pandas`. Elle permet d'employer une structure de donnée particulière : les **dataframes**.\n",
    "\n",
    "Ces dataframes sont un tableau à double entrée. On peut donc définir un numéro de ligne ainsi qu'un nom de colonne.\n",
    "Cela permet d'être plus clair dans la manipulation des données qu'avec un `numpy.array`.\n",
    "\n",
    "De plus, `pandas` contient de très nombreuses méthodes qui facilitent la manipulation des données."
   ]
  },
  {
   "cell_type": "code",
   "execution_count": 2,
   "metadata": {
    "scrolled": true
   },
   "outputs": [],
   "source": [
    "\"\"\"\n",
    "Importation des données du train set.\n",
    "Les options permettent de :\n",
    "    - D'indiquer des séparateurs compréhensibles par la méthode (sep, decimal).\n",
    "    - De nommer les colonnes du dataframe (names).\n",
    "    - D'indiquer le type que l'on souhaite donner à ses données (dtype, parse_dates).\n",
    "\"\"\"\n",
    "\n",
    "names = ['API','Surf_X','Surf_Y','Date_Drilling','Date_Completion','Date_Production','Lateral_Length','Depth_TVD_PPLS','Erosion_PPLS','Pressure_PPLS','TOC_PPLS','Vcarb_PPLS','Vsand_PPLS','Vclay_PPLS','PR_PPLS','YM_PPLS','RHOB_PPLS','Res_PPLS','GR_PPLS','DT_PPLS','DTs_PPLS','Temperature','Temp_Anomaly','S3Tect_PPLS','S3_contrast_PPLS','Heat_Flow','Zone','Nbr_Stages','Frac_Gradient','Proppant_Designed','Proppant_in_Formation','Avg_Breakdown_Pressure','Avg_Treating_Pressure','Max_Treating_pressure','Min_Treating_Pressure','Avg_Rate_Slurry','Max_Rate_Slurry','Min_Rate_Slurry','ShutInPressure_Fil','ShutInPressure_Initial','ISIP','Shot_Density','Shot_Total','Proppant_per_ft','Stage_Spacing','GasCum360','OilCum360']\n",
    "\n",
    "# Importation du train set dans la variable df_data.\n",
    "df_data = pd.read_csv('./TrainSample.csv', \n",
    "                        header = None, \n",
    "                        sep = ';',\n",
    "                        decimal = ',',\n",
    "                        names = names,\n",
    "                        skiprows = 1,\n",
    "                        index_col=0,\n",
    "                        parse_dates = ['Date_Drilling','Date_Completion','Date_Production'],\n",
    "                        dtype = {col: np.float32 for col in names}\n",
    "                       )\n",
    "\n",
    "# Importation du test set dans la variable df_test.\n",
    "df_test = pd.read_csv('./TestSample.csv',\n",
    "                      header = None, \n",
    "                      sep = ';', \n",
    "                      decimal = ',', \n",
    "                      names = names,\n",
    "                      skiprows = 1,\n",
    "                      index_col=0,\n",
    "                      parse_dates = ['Date_Drilling','Date_Completion','Date_Production'],\n",
    "                      dtype = {col: np.float32 for col in names}\n",
    "                     )\n"
   ]
  },
  {
   "cell_type": "raw",
   "metadata": {},
   "source": [
    "def correlation(data):\n",
    "    correlation = data.corr()\n",
    "    figure = plt.subplots( figsize =( 12 , 10 ) )\n",
    "    color_map = sns.diverging_palette( 220 , 10 , as_cmap = True )\n",
    "    figure = sns.heatmap(\n",
    "        correlation, \n",
    "        cmap = color_map, \n",
    "        annot = True, \n",
    "        annot_kws = { 'fontsize' : 2 }\n",
    "    )\n",
    "    \n",
    "correlation(df_data)\n"
   ]
  },
  {
   "cell_type": "markdown",
   "metadata": {},
   "source": [
    "### Retrait des artéfacts.\n",
    "\n",
    "TOTAL indique que les données sont nettoyées.\n",
    "Cependant, lorsqu'on les analyse, on remarque que certaines composantes présentes des artéfacts qui peuvent nuire au modèle.\n",
    "\n",
    "Comme les artéfacts sont peu nombreux, on les retire afin d'augmenter les performances qui modèle.\n",
    "\n",
    "Pour cela :\n",
    "\n",
    "- On affiche les composantes une par une.\n",
    "- On identifie l'artéfact.\n",
    "- On remplace sa valeur par un NaN."
   ]
  },
  {
   "cell_type": "code",
   "execution_count": 3,
   "metadata": {},
   "outputs": [
    {
     "data": {
      "text/plain": [
       "<matplotlib.axes._subplots.AxesSubplot at 0x135ef710>"
      ]
     },
     "execution_count": 3,
     "metadata": {},
     "output_type": "execute_result"
    },
    {
     "data": {
      "image/png": "[encoded data removed]",
      "text/plain": [
       "<matplotlib.figure.Figure at 0x85d8b90>"
      ]
     },
     "metadata": {},
     "output_type": "display_data"
    }
   ],
   "source": [
    "# Exemple d'artéfact dans la composante Frac_Gradient. \n",
    "\n",
    "df_data.Res_PPLS.plot(style='o')\n"
   ]
  },
  {
   "cell_type": "code",
   "execution_count": 6,
   "metadata": {},
   "outputs": [],
   "source": [
    "# Retrait de tous les artéfacts identifiés.\n",
    "\n",
    "df_data.loc[746, 'Frac_Gradient'] = np.nan\n",
    "df_data.loc[553, 'ISIP'] = np.nan\n",
    "df_data.loc[681, 'Min_Rate_Slurry'] = np.nan\n",
    "df_data.loc[424, 'Res_PPLS'] = np.nan\n",
    "df_data.loc[456, 'ShutInPressure_Fil'] = np.nan\n",
    "df_data.loc[723, 'Min_Treating_Pressure'] = np.nan\n",
    "df_data.loc[205, 'Min_Treating_Pressure'] = np.nan\n"
   ]
  },
  {
   "cell_type": "code",
   "execution_count": 7,
   "metadata": {},
   "outputs": [
    {
     "data": {
      "text/plain": [
       "<matplotlib.axes._subplots.AxesSubplot at 0x1383c910>"
      ]
     },
     "execution_count": 7,
     "metadata": {},
     "output_type": "execute_result"
    },
    {
     "data": {
      "image/png": "[encoded data removed]",
      "text/plain": [
       "<matplotlib.figure.Figure at 0x138240d0>"
      ]
     },
     "metadata": {},
     "output_type": "display_data"
    }
   ],
   "source": [
    "# On constate que l'artéfact a bien disparu.\n",
    "\n",
    "df_data.Res_PPLS.plot(style='o')\n"
   ]
  },
  {
   "cell_type": "markdown",
   "metadata": {},
   "source": [
    "### "
   ]
  },
  {
   "cell_type": "code",
   "execution_count": 27,
   "metadata": {},
   "outputs": [],
   "source": [
    "##Définition des labels\n",
    "\n",
    "y_gas = {'GasCum360' : df_data['GasCum360']}\n",
    "y_oil = {'OilCum360' : df_data['OilCum360']}\n",
    "\n",
    "df_target_gas = pd.DataFrame(y_gas)\n",
    "df_target_oil = pd.DataFrame(y_oil)\n"
   ]
  },
  {
   "cell_type": "markdown",
   "metadata": {},
   "source": [
    "### Création de nouvelles composantes.\n",
    "\n",
    "Les données contiennent des dates.\n",
    "\n",
    "Les algorithmes de machine learning ne savent pas utiliser les dates en tant que telles.\n",
    "Il faut donc trouver un moyen de les intégrer.\n",
    "Pour cela, je souhaite corréler la production de gas et d'huile avec les dates de forage, de mise en production et de ...\n",
    "\n",
    "Les données temporelles sont un type particulier que je ne sais pas manipuler, je cherche encore le moyen d'extraire le nombre de jour entre 2 dates dans un dataframe.\n",
    "\n",
    "J'aurais souhaité créer ainsi 4 nouvelles composantes qui seraient :\n",
    "\n",
    "`Huile_prod = OilCum 360 / (Date_Production - Date_Drilling)`\n",
    "`Gaz_prod = GasCum 360 / (Date_Production - Date_Drilling)`\n",
    "`Huile_comp = OilCum 360 / (Date_Completion - Date_Drilling)`\n",
    "`Gaz_comp = GasCum 360 / (Date_Completion - Date_Drilling)`"
   ]
  },
  {
   "cell_type": "raw",
   "metadata": {},
   "source": [
    "##Ajout de nouvelles composantes\n",
    "\n",
    "d0 = df_data['Date_Drilling']\n",
    "d1 = df_data['Date_Completion']\n",
    "d2 = df_data['Date_Production']\n",
    "Delta_Production = d2 - d0\n",
    "Delta_Completion = d1 - d0\n",
    "\n",
    "np.float32(Delta_Completion)\n",
    "np.float32(Delta_Production)\n",
    "\n",
    "df_data.insert(loc=2, column='Delta_Production', value=Delta_Production)\n",
    "df_data.insert(loc=2, column='Delta_Completion', value=Delta_Completion)\n"
   ]
  },
  {
   "cell_type": "code",
   "execution_count": 28,
   "metadata": {},
   "outputs": [],
   "source": [
    "## Suppression des composantes pas utilisées\n",
    "\n",
    "cols_date = ['Date_Drilling','Date_Completion','Date_Production', 'GasCum360', 'OilCum360']\n",
    "\n",
    "df_data.drop(cols_date, 1, inplace=True)\n",
    "df_test.drop(cols_date, 1, inplace=True)\n"
   ]
  },
  {
   "cell_type": "markdown",
   "metadata": {},
   "source": [
    "### Imputation des valeurs manquantes.\n",
    "\n",
    "Le jeu de données contient des valeurs manquantes.\n",
    "Pour ne pas biaiser l'apprentissage, on complète ces valeurs manquantes par la moyenne de la composante.\n",
    "\n",
    "Une autre méthode, aurait pu consister à compléter avec la valeur médiane, ou encore en effectuant une regression entre la valeur maximale et la valeur minimale."
   ]
  },
  {
   "cell_type": "code",
   "execution_count": 29,
   "metadata": {},
   "outputs": [],
   "source": [
    "## Imputation des valeurs manquantes\n",
    "\n",
    "df_data.dropna()\n",
    "df_test.dropna()\n",
    "df_data = df_data.fillna(df_data.mean())\n",
    "df_test = df_test.fillna(df_data.mean())\n"
   ]
  },
  {
   "cell_type": "markdown",
   "metadata": {},
   "source": [
    "### Création du jeu de données d'entraînement et du jeu de données de validation.\n",
    "\n",
    "Afin de valider nos résultats, on sépare les données d'entraînement fournies en 2 jeux de données distincts.\n",
    "\n",
    "Le premier jeu de données (le jeu de données d'entraînement) permet l'apprentissage du modèle.\n",
    "Le deuxième jeu de données (le jeu de données de validation) permet d'évaluer les performance du modèle sur des données proches de celles des données d'entraînements, mais qu'il n'a cependant jamais vu.\n",
    "\n",
    "L'évalutation de l'erreur sur les données de validation est un bon indicateur de la performance du modèle.\n",
    "Elle permet également de connaître la progression dont on dispose vis-à-vis du résultat sur les données d'entraînement.\n",
    "\n",
    "On aurait pu également utiliser un K-folds pour séparer les données. Cependant, le jeu de données étant relativement petit, je n'étais pas certain des résultats qu'il pourrait apporter. A tester dans une prochaine itération."
   ]
  },
  {
   "cell_type": "code",
   "execution_count": 30,
   "metadata": {},
   "outputs": [],
   "source": [
    "## Split des données\n",
    "\n",
    "from sklearn import cross_validation\n",
    "\n",
    "X_train_gas, X_dev_gas, y_train_gas, y_dev_gas = cross_validation.train_test_split(df_data, df_target_gas, test_size=0.15, random_state=42)\n",
    "X_train_oil, X_dev_oil, y_train_oil, y_dev_oil = cross_validation.train_test_split(df_data, df_target_oil, test_size=0.15, random_state=42)\n"
   ]
  },
  {
   "cell_type": "markdown",
   "metadata": {},
   "source": [
    "## 2 - Choix du modèle.\n",
    "\n",
    "Notre problème est un problème de prédiction de valeur issue d'un apprentissage supervisé.\n",
    "On cherche à prédire des valeurs discrètes, on utilise donc une régression.\n",
    "La précision du résultat est notre première préoccupation.\n",
    "\n",
    "Lors de la première itération, le choix a été d'utiliser l'algorithme de Logisitic Regression : $$y = w*x +b\\tag{1}$$\n",
    "\n",
    "Lors de la seconde itération, j'ai choisi d'utiliser un Decision Tree, afin de privilégier la vitesse d'exécution des essais.\n",
    "\n",
    "Enfin, pour la troisième itération, j'ai employé un Gradient Boosting, qui est un des algorithmes les plus adaptés au problème.\n",
    "\n",
    "Un Neural Network peut éventuellement fournir de meilleurs résultats. Cependant, vu le peut d'exemples dont on dispose, l'amélioration ne m'a pas paru évidente.\n",
    "\n",
    "### Choix du regresseur.\n",
    "\n",
    "On importe le modèle choisi et on créé une instance.\n",
    "\n",
    "Afin d'améliorer le résultat, on définit 2 modèles, avec des paramètres distincts. Il a ainsi un modèle pour chaque résultat souhaité.\n",
    "\n",
    "L'algorithme de Gradient Boosting est la mise en commun des propriétés du Boosting et du Gradient Descent.\n",
    "\n",
    "Le Boosting est une technique ensembliste qui consiste à agréger des modèles plus faibles (des Decision Tree) sur un échantillon d'apprentissage.\n",
    "Les poids des individus (les modèles) sont corrigés au fur et à mesure, pour être pondérés selon leurs performances.\n",
    "\n",
    "Le Gradient Descente (ou Descente de Gradient) est une méthode itérative qui permet d'approcher la solution d'un problème d'optimisation. A chaque itération, on détermine les paramètres du modèle choisit pour optimiser la fonction objectif.\n",
    "\n",
    "Comme le Boosting est un algorithme qui agrége des Decision Tree, la structure de l'algorithme est proche de celle-ci.\n",
    "\n",
    "Source : https://eric.univ-lyon2.fr/~ricco/cours/slides/gradient_boosting.pdf"
   ]
  },
  {
   "cell_type": "code",
   "execution_count": 31,
   "metadata": {},
   "outputs": [],
   "source": [
    "## Définition du regresseur - GradientBoosting\n",
    "\n",
    "from sklearn.ensemble import GradientBoostingRegressor\n",
    "\n",
    "regr = GradientBoostingRegressor()\n"
   ]
  },
  {
   "cell_type": "markdown",
   "metadata": {},
   "source": [
    "### Définition des paramètres\n",
    "\n",
    "Lors des deux premières itérations, les algorithmes ne sont pas optimisés. Cependant, la troisième itération est l'occasion d'optimiser les paramètres.\n",
    "\n",
    "Parmis les paramètres on retrouve :\n",
    "\n",
    "- 'loss' (fonction coût) : la fonction coût utilisée pour la Descente de Gradient (Valeur Absolue/Moyenne au carré/Huber)\n",
    "- 'n_estimators' (nombre d'estimateurs) : le nombre d'itérations pour l'étape de Boosting \n",
    "- 'learning_rate' (taux d'apprentissage) : taux auquel la contribution de chaque arbre décroit, à mettre en regard avec le nbr d'estimateurs.\n",
    "- 'max_depth' (profondeur maximale) : profondeur maximale de chaque arbre créé\n",
    "- 'criterion' (critère) : critère pour évaluer la qualité de la séparation des branches de chaque arbres (Mse/Mae/Friedman_mse)\n",
    "- 'min_samples_split' (valeur minimale pour la séparation) : valeur minimale du critère pour la création d'une nouvelle branche.\n",
    "- 'min_samples_leaf' (valeur minimale pour l'attribution des feuilles) : valeur minimale pour le positionnement sur une feuille\n",
    "- 'alpha' (taux d'apprentissage) : taux d'apprentissage de la descente de gradient."
   ]
  },
  {
   "cell_type": "code",
   "execution_count": 32,
   "metadata": {},
   "outputs": [],
   "source": [
    "## Définition des paramètres pour le modèle dédié à la prédiction d'huile\n",
    "\n",
    "param_grid_oil = [\n",
    "    {\n",
    "        'loss':['huber'],\n",
    "        'n_estimators':[500],\n",
    "        'learning_rate':[0.025],\n",
    "        'max_depth':[4],\n",
    "        'criterion':['friedman_mse'],\n",
    "        'min_samples_split':[2],\n",
    "        'min_samples_leaf':[2],\n",
    "        'alpha':[0.909],\n",
    "    }\n",
    "]"
   ]
  },
  {
   "cell_type": "code",
   "execution_count": 33,
   "metadata": {},
   "outputs": [],
   "source": [
    "## Définition des paramètres pour le modèle dédié à la prédiction de gaz.\n",
    "\n",
    "param_grid_gas = [\n",
    "    {\n",
    "        'learning_rate':[0.05],\n",
    "        'n_estimators': [700],\n",
    "        'gamma':[0.0001],\n",
    "        'min_child_weight':[2],\n",
    "        'max_depth':[4],\n",
    "        'max_delta_step':[4],\n",
    "        'subsample':[0.9],\n",
    "    }\n",
    "]"
   ]
  },
  {
   "cell_type": "markdown",
   "metadata": {},
   "source": [
    "### Optimisation des paramètres.\n",
    "\n",
    "Afin de rechercher les meilleurs paramètres pour mon modèle, j'ai utilisé GridSearch.\n",
    "Cet algorithme prend en entré une \"grille\" de valeurs qu'il teste, afin de retourner le résultat obtenu avec le meilleur jeu de paramètres.\n",
    "Le nombre d'itérations est un hyperparamètre qu'il faut optimiser.\n",
    "\n",
    "Une autre méthode, qui est davantage conseillée, est de faire une recherche aléatoire des paramètres (avec RandomizedSearch). Cette recherche permet d'obtenir plus rapidement et plus facilement des paramètres intéressants."
   ]
  },
  {
   "cell_type": "markdown",
   "metadata": {},
   "source": [
    "### Prédiction sur les données d'entraînement.\n",
    "\n",
    "On instancie le regresseur avec les paramètres précédents à l'aide de GridSearch.\n",
    "On entraine le modèle sur les données d'entraînement.\n",
    "On effectue la regression sur ces mêmes données d'entraînement.\n",
    "\n",
    "La première prédiction est effectuée sur les données d'entraînement afin d'obtenir un premier indicateur du comportement du modèle.\n"
   ]
  },
  {
   "cell_type": "code",
   "execution_count": 38,
   "metadata": {},
   "outputs": [],
   "source": [
    "## Algorithme - prédiction du résultat pour l'huile sur le jeu de données d'entraînement.\n",
    "\n",
    "from sklearn.model_selection import GridSearchCV\n",
    "\n",
    "n_iter = 50\n",
    "\n",
    "regr_oil = GridSearchCV(regr, param_grid=param_grid_oil, n_jobs=n_iter, cv=3)\n",
    "\n",
    "regr_oil.fit(X_train_oil.values, y_train_oil.values.ravel())\n",
    "y_predict_oil_train = regr_oil.predict(X_train_oil.values)"
   ]
  },
  {
   "cell_type": "code",
   "execution_count": 39,
   "metadata": {},
   "outputs": [],
   "source": [
    "## Algorithme - prédiction du résultat pour le gaz sur le jeu de données d'entraînement.\n",
    "\n",
    "regr_gas = GridSearchCV(regr, param_grid=param_grid_oil, n_jobs=n_iter, cv=3)\n",
    "\n",
    "regr_gas.fit(X_train_gas.values, y_train_gas.values.ravel())\n",
    "y_predict_gas_train = regr_gas.predict(X_train_gas.values)"
   ]
  },
  {
   "cell_type": "markdown",
   "metadata": {},
   "source": [
    "## 3 - Evaluation du modèle.\n",
    "\n",
    "L'évaluation de la prédicition du modèle est centrale. Elle permet de déterminer qu'elle stratégie adopter pour renforcer le modèle.\n",
    "\n",
    "### Métriques sur le jeu de données d'entraînement.\n",
    "\n",
    "La première série de métriques permet de déterminer l'erreur du modèle sur les données d'entraînement.\n",
    "On peut ainsi déterminer si le modèle overfit ou non sur celles-ci.\n",
    "L'overfitting du modèle est probable, car on utilise des DecisionTree."
   ]
  },
  {
   "cell_type": "code",
   "execution_count": 41,
   "metadata": {},
   "outputs": [
    {
     "name": "stdout",
     "output_type": "stream",
     "text": [
      "Erreur Moyenne absolue : 0.08249969220462915\n",
      "R2 : 0.9130603928143104\n"
     ]
    }
   ],
   "source": [
    "## Metrics training oil\n",
    "\n",
    "from sklearn.metrics import mean_absolute_error\n",
    "from sklearn.metrics import r2_score\n",
    "\n",
    "retour = 'Erreur Moyenne absolue : {}\\n\\\n",
    "R2 : {}'.format(mean_absolute_error(y_train_oil, y_predict_oil_train),\n",
    "                r2_score(y_train_oil, y_predict_oil_train),\n",
    "               )\n",
    "print(retour)"
   ]
  },
  {
   "cell_type": "code",
   "execution_count": 44,
   "metadata": {},
   "outputs": [
    {
     "name": "stdout",
     "output_type": "stream",
     "text": [
      "Erreur Moyenne absolue : 0.0651318116389813\n",
      "R2 : 0.9770767441619204\n"
     ]
    }
   ],
   "source": [
    "## Metrics training gas \n",
    "\n",
    "from sklearn.metrics import mean_absolute_error\n",
    "from sklearn.metrics import mean_squared_error\n",
    "from sklearn.metrics import r2_score\n",
    "\n",
    "retour = 'Erreur Moyenne absolue : {}\\n\\\n",
    "R2 : {}'.format(mean_absolute_error(y_train_gas, y_predict_gas_train),\n",
    "                r2_score(y_train_gas, y_predict_gas_train),\n",
    "               )\n",
    "print(retour)"
   ]
  },
  {
   "cell_type": "markdown",
   "metadata": {},
   "source": [
    "### Conclusions sur les données d'entraînement.\n",
    "\n",
    "On remarque que l'erreur est très faible.\n",
    "Ce résultat est cohérent, car on entraine le modèle sur des données qu'il connaît déjà.\n",
    "\n",
    "On remarque également que le modèle gaz est plus performant que le modèle huile (0,97 pour 0,91).\n",
    "Visiblement, aucun modèle n'overfit vraiment les données d'entraînement.\n",
    "\n",
    "### Prédiction sur les données d'évaluation.\n",
    "\n",
    "On conserve les paramètres précédents et on effectue la prédiction sur les données d'évaluation."
   ]
  },
  {
   "cell_type": "code",
   "execution_count": 45,
   "metadata": {},
   "outputs": [],
   "source": [
    "## Algorithme - prédiction du résultat sur le jeu de données d'entraînement.\n",
    "\n",
    "from sklearn.model_selection import GridSearchCV\n",
    "\n",
    "n_iter = 50\n",
    "\n",
    "regr_oil = GridSearchCV(regr, param_grid=param_grid_oil, n_jobs=n_iter, cv=3)\n",
    "\n",
    "regr_oil.fit(X_train_oil.values, y_train_oil.values.ravel())\n",
    "y_predict_oil_test = regr_oil.predict(X_dev_oil.values)"
   ]
  },
  {
   "cell_type": "code",
   "execution_count": 46,
   "metadata": {},
   "outputs": [],
   "source": [
    "## Algorithme - prédiction du résultat sur le jeu de données d'entraînement.\n",
    "\n",
    "regr_gas = GridSearchCV(regr, param_grid=param_grid_oil, n_jobs=n_iter, cv=3)\n",
    "\n",
    "regr_gas.fit(X_train_gas.values, y_train_gas.values.ravel())\n",
    "y_predict_gas_test = regr_gas.predict(X_dev_gas.values)"
   ]
  },
  {
   "cell_type": "markdown",
   "metadata": {},
   "source": [
    "### Métriques sur le jeu de données d'évaluation.\n",
    "\n",
    "Cette série de métriques permet de déterminer l'erreur sur les données d'évaluation.\n",
    "\n",
    "On peut ainsi déterminer si le modèle overfit ou non sur celles-ci. L'overfitting du modèle est probable, car on utilise des DecisionTree.\n"
   ]
  },
  {
   "cell_type": "code",
   "execution_count": 47,
   "metadata": {},
   "outputs": [
    {
     "name": "stdout",
     "output_type": "stream",
     "text": [
      "Erreur Moyenne absolue : 0.36003212388238565\n",
      "R2 : 0.7175502173944199\n"
     ]
    }
   ],
   "source": [
    "## Metrics training gas \n",
    "\n",
    "from sklearn.metrics import mean_absolute_error\n",
    "from sklearn.metrics import mean_squared_error\n",
    "from sklearn.metrics import r2_score\n",
    "\n",
    "retour = 'Erreur Moyenne absolue : {}\\n\\\n",
    "R2 : {}'.format(mean_absolute_error(y_dev_gas, y_predict_gas_test),\n",
    "                r2_score(y_dev_gas, y_predict_gas_test),\n",
    "               )\n",
    "print(retour)"
   ]
  },
  {
   "cell_type": "code",
   "execution_count": 50,
   "metadata": {},
   "outputs": [
    {
     "name": "stdout",
     "output_type": "stream",
     "text": [
      "Erreur Moyenne absolue : 0.26070684520915327\n",
      "R2 : 0.8461449444906681\n"
     ]
    }
   ],
   "source": [
    "## Metrics training oil\n",
    "\n",
    "from sklearn.metrics import mean_absolute_error\n",
    "from sklearn.metrics import r2_score\n",
    "\n",
    "retour = 'Erreur Moyenne absolue : {}\\n\\\n",
    "R2 : {}'.format(mean_absolute_error(y_dev_oil, y_predict_oil_test),\n",
    "                r2_score(y_dev_oil, y_predict_oil_test))\n",
    "print(retour)"
   ]
  },
  {
   "cell_type": "code",
   "execution_count": 55,
   "metadata": {},
   "outputs": [],
   "source": [
    "## Fit regression model test data\n",
    "\n",
    "regr_gas.fit(df_data, df_target_gas.values.ravel())\n",
    "regr_oil.fit(df_data, df_target_oil.values.ravel())\n",
    "\n",
    "y_predictFin_gas = regr_gas.predict(df_test)\n",
    "y_predictFin_oil = regr_oil.predict(df_test)"
   ]
  },
  {
   "cell_type": "code",
   "execution_count": 59,
   "metadata": {},
   "outputs": [
    {
     "data": {
      "text/plain": [
       "<function ndarray.tolist>"
      ]
     },
     "execution_count": 59,
     "metadata": {},
     "output_type": "execute_result"
    }
   ],
   "source": [
    "gascumpred = []\n",
    "oilcumpred = []\n",
    "\n",
    "gascumpred = [element for element in y_predictFin_gas]\n",
    "oilcumpred = [element for element in y_predictFin_oil]\n",
    "\n",
    "gascumpred_mean = mean_absolute_error(y_dev_gas, y_predict_gas_test)\n",
    "oilcumpred_mean = mean_absolute_error(y_dev_oil, y_predict_oil_test)\n",
    "\n",
    "GasCum360_inf = gascumpred - 2.2 * abs(gascumpred_mean)\n",
    "GasCum360_sup = gascumpred + 2.2 * abs(gascumpred_mean)\n",
    "\n",
    "OilCum360_inf = oilcumpred - 2.2 * abs(oilcumpred_mean)\n",
    "OilCum360_sup = oilcumpred + 2.2 * abs(oilcumpred_mean)\n",
    "\n",
    "GasCum360_inf.tolist\n",
    "GasCum360_sup.tolist\n",
    "\n",
    "OilCum360_inf.tolist\n",
    "OilCum360_sup.tolist"
   ]
  },
  {
   "cell_type": "code",
   "execution_count": 64,
   "metadata": {},
   "outputs": [
    {
     "data": {
      "text/plain": [
       "array([-0.4936828 ,  0.3533605 ,  0.82005058,  0.56488723,  0.43469954,\n",
       "       -0.86590474, -0.25056627, -1.0142927 ,  0.62498893,  0.71110048])"
      ]
     },
     "execution_count": 64,
     "metadata": {},
     "output_type": "execute_result"
    }
   ],
   "source": [
    "y_predictFin_gas[:10]"
   ]
  },
  {
   "cell_type": "code",
   "execution_count": 65,
   "metadata": {},
   "outputs": [
    {
     "data": {
      "text/html": [
       "<div>\n",
       "<style scoped>\n",
       "    .dataframe tbody tr th:only-of-type {\n",
       "        vertical-align: middle;\n",
       "    }\n",
       "\n",
       "    .dataframe tbody tr th {\n",
       "        vertical-align: top;\n",
       "    }\n",
       "\n",
       "    .dataframe thead th {\n",
       "        text-align: right;\n",
       "    }\n",
       "</style>\n",
       "<table border=\"1\" class=\"dataframe\">\n",
       "  <thead>\n",
       "    <tr style=\"text-align: right;\">\n",
       "      <th></th>\n",
       "      <th>GasCum360</th>\n",
       "    </tr>\n",
       "    <tr>\n",
       "      <th>API</th>\n",
       "      <th></th>\n",
       "    </tr>\n",
       "  </thead>\n",
       "  <tbody>\n",
       "    <tr>\n",
       "      <th>517.0</th>\n",
       "      <td>-1.089723</td>\n",
       "    </tr>\n",
       "    <tr>\n",
       "      <th>694.0</th>\n",
       "      <td>-0.093905</td>\n",
       "    </tr>\n",
       "    <tr>\n",
       "      <th>557.0</th>\n",
       "      <td>2.583899</td>\n",
       "    </tr>\n",
       "    <tr>\n",
       "      <th>510.0</th>\n",
       "      <td>-0.020998</td>\n",
       "    </tr>\n",
       "    <tr>\n",
       "      <th>369.0</th>\n",
       "      <td>-0.796393</td>\n",
       "    </tr>\n",
       "    <tr>\n",
       "      <th>529.0</th>\n",
       "      <td>0.689649</td>\n",
       "    </tr>\n",
       "    <tr>\n",
       "      <th>709.0</th>\n",
       "      <td>-0.419608</td>\n",
       "    </tr>\n",
       "    <tr>\n",
       "      <th>184.0</th>\n",
       "      <td>0.456733</td>\n",
       "    </tr>\n",
       "    <tr>\n",
       "      <th>120.0</th>\n",
       "      <td>-0.398933</td>\n",
       "    </tr>\n",
       "    <tr>\n",
       "      <th>744.0</th>\n",
       "      <td>-0.268620</td>\n",
       "    </tr>\n",
       "  </tbody>\n",
       "</table>\n",
       "</div>"
      ],
      "text/plain": [
       "       GasCum360\n",
       "API             \n",
       "517.0  -1.089723\n",
       "694.0  -0.093905\n",
       "557.0   2.583899\n",
       "510.0  -0.020998\n",
       "369.0  -0.796393\n",
       "529.0   0.689649\n",
       "709.0  -0.419608\n",
       "184.0   0.456733\n",
       "120.0  -0.398933\n",
       "744.0  -0.268620"
      ]
     },
     "execution_count": 65,
     "metadata": {},
     "output_type": "execute_result"
    }
   ],
   "source": [
    "y_dev_gas.head(10)"
   ]
  },
  {
   "cell_type": "code",
   "execution_count": 66,
   "metadata": {},
   "outputs": [
    {
     "data": {
      "text/plain": [
       "array([ 0.32977469, -0.83855603, -0.63878257, -0.73564221,  0.07862639,\n",
       "       -0.42436647,  0.4805522 , -0.02421514, -0.87379398, -0.45306207,\n",
       "        0.36790383,  3.40435004,  0.09048125, -0.8300038 ,  0.45155298])"
      ]
     },
     "execution_count": 66,
     "metadata": {},
     "output_type": "execute_result"
    }
   ],
   "source": [
    "y_predictFin_oil[:15]"
   ]
  },
  {
   "cell_type": "code",
   "execution_count": 67,
   "metadata": {},
   "outputs": [
    {
     "data": {
      "text/html": [
       "<div>\n",
       "<style scoped>\n",
       "    .dataframe tbody tr th:only-of-type {\n",
       "        vertical-align: middle;\n",
       "    }\n",
       "\n",
       "    .dataframe tbody tr th {\n",
       "        vertical-align: top;\n",
       "    }\n",
       "\n",
       "    .dataframe thead th {\n",
       "        text-align: right;\n",
       "    }\n",
       "</style>\n",
       "<table border=\"1\" class=\"dataframe\">\n",
       "  <thead>\n",
       "    <tr style=\"text-align: right;\">\n",
       "      <th></th>\n",
       "      <th>OilCum360</th>\n",
       "    </tr>\n",
       "    <tr>\n",
       "      <th>API</th>\n",
       "      <th></th>\n",
       "    </tr>\n",
       "  </thead>\n",
       "  <tbody>\n",
       "    <tr>\n",
       "      <th>517.0</th>\n",
       "      <td>-0.846180</td>\n",
       "    </tr>\n",
       "    <tr>\n",
       "      <th>694.0</th>\n",
       "      <td>-0.573829</td>\n",
       "    </tr>\n",
       "    <tr>\n",
       "      <th>557.0</th>\n",
       "      <td>-0.451239</td>\n",
       "    </tr>\n",
       "    <tr>\n",
       "      <th>510.0</th>\n",
       "      <td>1.103248</td>\n",
       "    </tr>\n",
       "    <tr>\n",
       "      <th>369.0</th>\n",
       "      <td>1.567699</td>\n",
       "    </tr>\n",
       "    <tr>\n",
       "      <th>529.0</th>\n",
       "      <td>-0.661664</td>\n",
       "    </tr>\n",
       "    <tr>\n",
       "      <th>709.0</th>\n",
       "      <td>-0.319803</td>\n",
       "    </tr>\n",
       "    <tr>\n",
       "      <th>184.0</th>\n",
       "      <td>-0.738756</td>\n",
       "    </tr>\n",
       "    <tr>\n",
       "      <th>120.0</th>\n",
       "      <td>0.584454</td>\n",
       "    </tr>\n",
       "    <tr>\n",
       "      <th>744.0</th>\n",
       "      <td>0.589509</td>\n",
       "    </tr>\n",
       "    <tr>\n",
       "      <th>350.0</th>\n",
       "      <td>-0.805106</td>\n",
       "    </tr>\n",
       "    <tr>\n",
       "      <th>444.0</th>\n",
       "      <td>-0.173833</td>\n",
       "    </tr>\n",
       "    <tr>\n",
       "      <th>81.0</th>\n",
       "      <td>-0.500528</td>\n",
       "    </tr>\n",
       "    <tr>\n",
       "      <th>618.0</th>\n",
       "      <td>5.527111</td>\n",
       "    </tr>\n",
       "    <tr>\n",
       "      <th>778.0</th>\n",
       "      <td>-0.531491</td>\n",
       "    </tr>\n",
       "  </tbody>\n",
       "</table>\n",
       "</div>"
      ],
      "text/plain": [
       "       OilCum360\n",
       "API             \n",
       "517.0  -0.846180\n",
       "694.0  -0.573829\n",
       "557.0  -0.451239\n",
       "510.0   1.103248\n",
       "369.0   1.567699\n",
       "529.0  -0.661664\n",
       "709.0  -0.319803\n",
       "184.0  -0.738756\n",
       "120.0   0.584454\n",
       "744.0   0.589509\n",
       "350.0  -0.805106\n",
       "444.0  -0.173833\n",
       "81.0   -0.500528\n",
       "618.0   5.527111\n",
       "778.0  -0.531491"
      ]
     },
     "execution_count": 67,
     "metadata": {},
     "output_type": "execute_result"
    }
   ],
   "source": [
    "y_dev_oil.head(15)"
   ]
  },
  {
   "cell_type": "markdown",
   "metadata": {},
   "source": [
    "## 5 - Exportation des données.\n",
    "\n",
    "On exporte les données en format CSV en respectant les critères de l'énoncé.\n",
    "On créé un Dataframe à partir des listes créées précédement pour établir la structure du rendue.\n",
    "Puis on exporte à l'aide de la méthode .to_csv du dataframe."
   ]
  },
  {
   "cell_type": "code",
   "execution_count": null,
   "metadata": {},
   "outputs": [],
   "source": [
    "## Output\n",
    "\n",
    "id_test = df_test.index.tolist()\n",
    "\n",
    "output = pd.DataFrame({'API': id_test,\n",
    "                       'GasCum360_INF': GasCum360_inf,\n",
    "                       'GasCum360_SUP': GasCum360_sup,\n",
    "                       'OilCum360_INF': OilCum360_inf,\n",
    "                       'OilCum360_SUP': OilCum360_sup},\n",
    "                      index=id_test\n",
    "                     )\n",
    "\n",
    "output.head()\n",
    "\n",
    "output.to_csv('coche-julien-challenge-total.csv', index=False, sep= ';', decimal=',')"
   ]
  },
  {
   "cell_type": "code",
   "execution_count": null,
   "metadata": {},
   "outputs": [],
   "source": [
    "print(output.head(5))"
   ]
  }
 ],
 "metadata": {
  "anaconda-cloud": {},
  "celltoolbar": "Edit Metadata",
  "kernelspec": {
   "display_name": "Python 3",
   "language": "python",
   "name": "python3"
  },
  "language_info": {
   "codemirror_mode": {
    "name": "ipython",
    "version": 3
   },
   "file_extension": ".py",
   "mimetype": "text/x-python",
   "name": "python",
   "nbconvert_exporter": "python",
   "pygments_lexer": "ipython3",
   "version": "3.6.4"
  }
 },
 "nbformat": 4,
 "nbformat_minor": 2
}
