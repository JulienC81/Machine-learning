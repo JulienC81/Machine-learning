{
 "cells": [
  {
   "cell_type": "code",
   "execution_count": 3,
   "metadata": {},
   "outputs": [
    {
     "ename": "ImportError",
     "evalue": "No module named 'sklearn'",
     "output_type": "error",
     "traceback": [
      "\u001b[0;31m---------------------------------------------------------------------------\u001b[0m",
      "\u001b[0;31mImportError\u001b[0m                               Traceback (most recent call last)",
      "\u001b[0;32m<ipython-input-3-355e0790e134>\u001b[0m in \u001b[0;36m<module>\u001b[0;34m()\u001b[0m\n\u001b[1;32m      4\u001b[0m \u001b[0;32mimport\u001b[0m \u001b[0mmatplotlib\u001b[0m\u001b[0;34m.\u001b[0m\u001b[0mpyplot\u001b[0m \u001b[0;32mas\u001b[0m \u001b[0mplt\u001b[0m\u001b[0;34m\u001b[0m\u001b[0m\n\u001b[1;32m      5\u001b[0m \u001b[0;32mimport\u001b[0m \u001b[0mseaborn\u001b[0m \u001b[0;32mas\u001b[0m \u001b[0msns\u001b[0m\u001b[0;34m\u001b[0m\u001b[0m\n\u001b[0;32m----> 6\u001b[0;31m \u001b[0;32mfrom\u001b[0m \u001b[0msklearn\u001b[0m\u001b[0;34m.\u001b[0m\u001b[0msvm\u001b[0m \u001b[0;32mimport\u001b[0m \u001b[0mSVC\u001b[0m\u001b[0;34m,\u001b[0m \u001b[0mLinearSVC\u001b[0m\u001b[0;34m\u001b[0m\u001b[0m\n\u001b[0m\u001b[1;32m      7\u001b[0m \u001b[0;34m\u001b[0m\u001b[0m\n\u001b[1;32m      8\u001b[0m \u001b[0;34m\u001b[0m\u001b[0m\n",
      "\u001b[0;31mImportError\u001b[0m: No module named 'sklearn'"
     ]
    }
   ],
   "source": [
    "%matplotlib nbagg\n",
    "import pandas as pd\n",
    "import numpy as np\n",
    "import matplotlib.pyplot as plt\n",
    "import seaborn as sns\n",
    "from sklearn.svm import SVC, LinearSVC\n",
    "\n",
    "\n",
    "sns.set_style(\"whitegrid\")\n",
    "\n",
    "train = pd.read_csv(r'C:/Users/COCHE/Documents/machine-learning/Titanic/train.csv')\n",
    "test = pd.read_csv(r'C:/Users/COCHE/Documents/machine-learning/Titanic/test.csv')\n",
    "\n",
    "dataset = train.append(test, ignore_index=True)\n",
    "\n",
    "\n",
    "\n",
    "# Data exploration\n",
    "\n",
    "#train.head()"
   ]
  },
  {
   "cell_type": "code",
   "execution_count": null,
   "metadata": {},
   "outputs": [],
   "source": [
    "train.describe()"
   ]
  },
  {
   "cell_type": "code",
   "execution_count": null,
   "metadata": {},
   "outputs": [],
   "source": [
    "sns.barplot(x=\"Embarked\", y=\"Survived\", hue=\"Sex\", data=train);"
   ]
  },
  {
   "cell_type": "code",
   "execution_count": null,
   "metadata": {},
   "outputs": [],
   "source": [
    "def correlation(data):\n",
    "    correlation = data.corr()\n",
    "    figure = plt.subplots( figsize =( 12 , 10 ) )\n",
    "    color_map = sns.diverging_palette( 220 , 10 , as_cmap = True )\n",
    "    figure = sns.heatmap(\n",
    "        correlation, \n",
    "        cmap = color_map, \n",
    "        annot = True, \n",
    "        annot_kws = { 'fontsize' : 15 }\n",
    "    )"
   ]
  },
  {
   "cell_type": "code",
   "execution_count": null,
   "metadata": {},
   "outputs": [],
   "source": [
    "correlation( train )"
   ]
  },
  {
   "cell_type": "code",
   "execution_count": null,
   "metadata": {},
   "outputs": [],
   "source": [
    "s = train.Age.isnull().sum()\n",
    "float(s) / float(891)"
   ]
  },
  {
   "cell_type": "code",
   "execution_count": null,
   "metadata": {},
   "outputs": [],
   "source": [
    "age_ft = pd.DataFrame()\n",
    "age_ft[\"Age\"] = dataset.Age.fillna(train.Age.mean())\n",
    "age_ft.head()"
   ]
  },
  {
   "cell_type": "code",
   "execution_count": null,
   "metadata": {},
   "outputs": [],
   "source": [
    "#sex_ft = pd.Series(np.where(dataset.Sex == 'male', 1, 0), name = 'Sex')\n",
    "sex_ft = pd.get_dummies(dataset.Sex, prefix='Sex')\n",
    "sex_ft.head()"
   ]
  },
  {
   "cell_type": "code",
   "execution_count": null,
   "metadata": {},
   "outputs": [],
   "source": [
    "dataset_X = pd.concat([age_ft, sex_ft], axis = 1)\n",
    "dataset_X.head()"
   ]
  },
  {
   "cell_type": "code",
   "execution_count": null,
   "metadata": {},
   "outputs": [],
   "source": [
    "# Creation des datasets (entrainement, validation et test)\n",
    "\n",
    "from sklearn.cross_validation import train_test_split\n",
    "\n",
    "train_valid_x = dataset_X[0:891]\n",
    "train_valid_y = dataset[:891].Survived\n",
    "test_x = dataset_X[891:]\n",
    "\n",
    "train_x, valid_x, train_y, valid_y = train_test_split(train_valid_x, train_valid_y, train_size = 0.7)\n",
    "\n",
    "print(train_x.shape)\n"
   ]
  },
  {
   "cell_type": "code",
   "execution_count": null,
   "metadata": {},
   "outputs": [],
   "source": [
    "from sklearn.ensemble import RandomForestClassifier\n",
    "from sklearn.metrics import accuracy_score, make_scorer\n",
    "from sklearn.model_selection import GridSearchCV\n",
    "\n",
    "model = RandomForestClassifier()\n",
    "\n",
    "parameters = {\n",
    "    'n_estimators':[4, 6, 9],\n",
    "    'max_features':['log2', 'sqrt', 'auto'],\n",
    "    'criterion': ['entropy', 'gini'],\n",
    "    'max_depth': [2, 3, 5, 10], \n",
    "    'min_samples_split': [2, 3, 5],\n",
    "    'min_samples_leaf': [1,5,8]\n",
    "}\n",
    "\n",
    "acc_scorer = make_scorer(accuracy_score)\n",
    "\n",
    "grid = GridSearchCV(model, parameters, acc_scorer)\n",
    "grid = grid.fit(train_x, train_y)\n",
    "\n",
    "clf = grid.best_estimator_\n",
    "\n",
    "clf.fit(train_x, train_y)\n",
    "\n",
    "print(clf.score(train_x, train_y), clf.score(train_x, train_y))"
   ]
  },
  {
   "cell_type": "code",
   "execution_count": null,
   "metadata": {},
   "outputs": [],
   "source": [
    "pred = clf.predict(test_x)\n",
    "result = dataset[891:].PassengerId\n",
    "test = pd.DataFrame({'PassengerId': result, 'Survived': pred})\n",
    "test.shape\n",
    "test.head()\n"
   ]
  },
  {
   "cell_type": "code",
   "execution_count": null,
   "metadata": {},
   "outputs": [],
   "source": []
  }
 ],
 "metadata": {
  "anaconda-cloud": {},
  "kernelspec": {
   "display_name": "Python 3",
   "language": "python",
   "name": "python3"
  },
  "language_info": {
   "codemirror_mode": {
    "name": "ipython",
    "version": 3
   },
   "file_extension": ".py",
   "mimetype": "text/x-python",
   "name": "python",
   "nbconvert_exporter": "python",
   "pygments_lexer": "ipython3",
   "version": "3.5.2"
  }
 },
 "nbformat": 4,
 "nbformat_minor": 1
}
